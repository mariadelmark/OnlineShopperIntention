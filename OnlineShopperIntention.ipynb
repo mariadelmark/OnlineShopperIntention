{
  "nbformat": 4,
  "nbformat_minor": 0,
  "metadata": {
    "colab": {
      "provenance": []
    },
    "kernelspec": {
      "name": "python3",
      "display_name": "Python 3"
    },
    "language_info": {
      "name": "python"
    }
  },
  "cells": [
    {
      "cell_type": "markdown",
      "source": [
        "# PREDICIENDO VENTAS SEGÚN EL TIPO DE TRÁFICO DE UN SITIO WEB USANDO UN ENFOQUE DE MACHINE LEARNING"
      ],
      "metadata": {
        "id": "gA50ogL2vLnf"
      }
    },
    {
      "cell_type": "markdown",
      "source": [
        "## INTRODUCCIÓN"
      ],
      "metadata": {
        "id": "wg7caGpS7vJG"
      }
    },
    {
      "cell_type": "markdown",
      "source": [
        "El tráfico tipo, o \"Traffic type\", es crucial en marketing para identificar las fuentes de visitantes en un sitio web y comprender a los posibles clientes potenciales. Analizando el tráfico tipo, se obtienen conocimientos sobre el comportamiento, intereses y necesidades de la audiencia objetivo.\n",
        "\n",
        "Por ejemplo, si la mayoría del tráfico proviene de redes sociales, sugiere que la audiencia objetivo es activa en esas plataformas y podría responder bien a campañas de marketing en redes sociales. Si un sitio web recibe muchas visitas desde motores de búsqueda, indica que la audiencia objetivo busca activamente información o productos relacionados, y mejorar el SEO sería efectivo para atraer nuevos clientes.\n",
        "\n",
        "Al comprender la relación entre el tipo de tráfico y los ingresos generados, se pueden optimizar los esfuerzos de marketing al enfocarse en las fuentes de tráfico más rentables. También se pueden identificar áreas de mejora en el sitio web para aumentar la tasa de conversión y generar más ingresos por visita.\n",
        "\n",
        "En resumen, el análisis del tráfico tipo y su relación con los ingresos permite tomar decisiones más informadas en términos de marketing y mejoras en el sitio web para maximizar las ventas y la satisfacción del cliente.\n",
        "\n",
        "Se utiliza un dataset de: Sakar, C.O., Polat, S.O., Katircioglu, M. et al. Real-time prediction of online shoppers’ purchasing intention using multilayer perceptron and LSTM recurrent neural networks. Neural Comput & Applic 31, 6893–6908 (2019). https://doi.org/10.1007/s00521-018-3523-0"
      ],
      "metadata": {
        "id": "Pxsfo8q8fnw5"
      }
    },
    {
      "cell_type": "markdown",
      "source": [
        "## CARGA DE DATOS Y DE PAQUETES A UTILIZAR"
      ],
      "metadata": {
        "id": "oDrfab1nw0zZ"
      }
    },
    {
      "cell_type": "code",
      "execution_count": 147,
      "metadata": {
        "id": "oJucxGsnuiAy",
        "colab": {
          "base_uri": "https://localhost:8080/"
        },
        "outputId": "a25ae1e7-a22f-499e-bc04-7e32d41c5b29"
      },
      "outputs": [
        {
          "output_type": "stream",
          "name": "stdout",
          "text": [
            "Requirement already satisfied: xgboost in /usr/local/lib/python3.10/dist-packages (1.7.6)\n",
            "Requirement already satisfied: numpy in /usr/local/lib/python3.10/dist-packages (from xgboost) (1.22.4)\n",
            "Requirement already satisfied: scipy in /usr/local/lib/python3.10/dist-packages (from xgboost) (1.10.1)\n"
          ]
        }
      ],
      "source": [
        "# Librerías generales\n",
        "import pandas as pd\n",
        "import numpy as np\n",
        "import matplotlib.pyplot as plt\n",
        "import matplotlib.colors as colors\n",
        "import matplotlib.cm as cm\n",
        "import seaborn as sns\n",
        "import statsmodels\n",
        "from scipy import stats\n",
        "import statsmodels.stats.api as sms\n",
        "import scipy.stats as stats\n",
        "\n",
        "\n",
        "# Librerías Modelos y métricas de performance\n",
        "from sklearn.model_selection import GridSearchCV\n",
        "from sklearn.pipeline import Pipeline\n",
        "from sklearn.ensemble import RandomForestClassifier\n",
        "from sklearn.tree import DecisionTreeClassifier\n",
        "from sklearn.linear_model import LogisticRegression\n",
        "from xgboost import XGBClassifier\n",
        "from sklearn.model_selection import train_test_split\n",
        "from sklearn.linear_model import LogisticRegression\n",
        "from sklearn.preprocessing import StandardScaler\n",
        "from sklearn.ensemble import RandomForestClassifier\n",
        "!pip install xgboost\n",
        "import xgboost as xgb\n",
        "from sklearn.model_selection import train_test_split\n",
        "from sklearn.metrics import accuracy_score, precision_score, recall_score, f1_score, roc_auc_score\n",
        "from sklearn.metrics import ConfusionMatrixDisplay, confusion_matrix\n",
        "from sklearn.model_selection import cross_val_predict\n",
        "from sklearn.linear_model import LogisticRegression\n",
        "from sklearn.ensemble import RandomForestClassifier\n",
        "from xgboost import XGBClassifier\n",
        "from sklearn import metrics\n",
        "import pandas as pd\n",
        "from sklearn.model_selection import train_test_split, RandomizedSearchCV\n",
        "from sklearn.pipeline import Pipeline\n",
        "from scipy.stats import randint, uniform\n",
        "\n",
        "\n",
        "# Librerías para quitar mensajes de Warning\n",
        "import warnings\n",
        "warnings.filterwarnings('ignore')\n",
        "\n"
      ]
    },
    {
      "cell_type": "code",
      "source": [
        "# cargamos el df\n",
        "archivo = '/content/online_shoppers_intention.csv'\n",
        "\n",
        "df = pd.read_csv(archivo)\n",
        "\n",
        "df.head()"
      ],
      "metadata": {
        "colab": {
          "base_uri": "https://localhost:8080/",
          "height": 270
        },
        "id": "LiNIM5wXHmoO",
        "outputId": "7032a20d-bd76-48fe-b317-43bc5f2c9bb7"
      },
      "execution_count": 148,
      "outputs": [
        {
          "output_type": "execute_result",
          "data": {
            "text/plain": [
              "   Administrative  Administrative_Duration  Informational  \\\n",
              "0               0                      0.0              0   \n",
              "1               0                      0.0              0   \n",
              "2               0                      0.0              0   \n",
              "3               0                      0.0              0   \n",
              "4               0                      0.0              0   \n",
              "\n",
              "   Informational_Duration  ProductRelated  ProductRelated_Duration  \\\n",
              "0                     0.0               1                 0.000000   \n",
              "1                     0.0               2                64.000000   \n",
              "2                     0.0               1                 0.000000   \n",
              "3                     0.0               2                 2.666667   \n",
              "4                     0.0              10               627.500000   \n",
              "\n",
              "   BounceRates  ExitRates  PageValues  SpecialDay Month  OperatingSystems  \\\n",
              "0         0.20       0.20         0.0         0.0   Feb                 1   \n",
              "1         0.00       0.10         0.0         0.0   Feb                 2   \n",
              "2         0.20       0.20         0.0         0.0   Feb                 4   \n",
              "3         0.05       0.14         0.0         0.0   Feb                 3   \n",
              "4         0.02       0.05         0.0         0.0   Feb                 3   \n",
              "\n",
              "   Browser  Region  TrafficType        VisitorType  Weekend  Revenue  \n",
              "0        1       1            1  Returning_Visitor    False    False  \n",
              "1        2       1            2  Returning_Visitor    False    False  \n",
              "2        1       9            3  Returning_Visitor    False    False  \n",
              "3        2       2            4  Returning_Visitor    False    False  \n",
              "4        3       1            4  Returning_Visitor     True    False  "
            ],
            "text/html": [
              "\n",
              "\n",
              "  <div id=\"df-21f4887a-776d-4345-8e05-a36e734c8bc1\">\n",
              "    <div class=\"colab-df-container\">\n",
              "      <div>\n",
              "<style scoped>\n",
              "    .dataframe tbody tr th:only-of-type {\n",
              "        vertical-align: middle;\n",
              "    }\n",
              "\n",
              "    .dataframe tbody tr th {\n",
              "        vertical-align: top;\n",
              "    }\n",
              "\n",
              "    .dataframe thead th {\n",
              "        text-align: right;\n",
              "    }\n",
              "</style>\n",
              "<table border=\"1\" class=\"dataframe\">\n",
              "  <thead>\n",
              "    <tr style=\"text-align: right;\">\n",
              "      <th></th>\n",
              "      <th>Administrative</th>\n",
              "      <th>Administrative_Duration</th>\n",
              "      <th>Informational</th>\n",
              "      <th>Informational_Duration</th>\n",
              "      <th>ProductRelated</th>\n",
              "      <th>ProductRelated_Duration</th>\n",
              "      <th>BounceRates</th>\n",
              "      <th>ExitRates</th>\n",
              "      <th>PageValues</th>\n",
              "      <th>SpecialDay</th>\n",
              "      <th>Month</th>\n",
              "      <th>OperatingSystems</th>\n",
              "      <th>Browser</th>\n",
              "      <th>Region</th>\n",
              "      <th>TrafficType</th>\n",
              "      <th>VisitorType</th>\n",
              "      <th>Weekend</th>\n",
              "      <th>Revenue</th>\n",
              "    </tr>\n",
              "  </thead>\n",
              "  <tbody>\n",
              "    <tr>\n",
              "      <th>0</th>\n",
              "      <td>0</td>\n",
              "      <td>0.0</td>\n",
              "      <td>0</td>\n",
              "      <td>0.0</td>\n",
              "      <td>1</td>\n",
              "      <td>0.000000</td>\n",
              "      <td>0.20</td>\n",
              "      <td>0.20</td>\n",
              "      <td>0.0</td>\n",
              "      <td>0.0</td>\n",
              "      <td>Feb</td>\n",
              "      <td>1</td>\n",
              "      <td>1</td>\n",
              "      <td>1</td>\n",
              "      <td>1</td>\n",
              "      <td>Returning_Visitor</td>\n",
              "      <td>False</td>\n",
              "      <td>False</td>\n",
              "    </tr>\n",
              "    <tr>\n",
              "      <th>1</th>\n",
              "      <td>0</td>\n",
              "      <td>0.0</td>\n",
              "      <td>0</td>\n",
              "      <td>0.0</td>\n",
              "      <td>2</td>\n",
              "      <td>64.000000</td>\n",
              "      <td>0.00</td>\n",
              "      <td>0.10</td>\n",
              "      <td>0.0</td>\n",
              "      <td>0.0</td>\n",
              "      <td>Feb</td>\n",
              "      <td>2</td>\n",
              "      <td>2</td>\n",
              "      <td>1</td>\n",
              "      <td>2</td>\n",
              "      <td>Returning_Visitor</td>\n",
              "      <td>False</td>\n",
              "      <td>False</td>\n",
              "    </tr>\n",
              "    <tr>\n",
              "      <th>2</th>\n",
              "      <td>0</td>\n",
              "      <td>0.0</td>\n",
              "      <td>0</td>\n",
              "      <td>0.0</td>\n",
              "      <td>1</td>\n",
              "      <td>0.000000</td>\n",
              "      <td>0.20</td>\n",
              "      <td>0.20</td>\n",
              "      <td>0.0</td>\n",
              "      <td>0.0</td>\n",
              "      <td>Feb</td>\n",
              "      <td>4</td>\n",
              "      <td>1</td>\n",
              "      <td>9</td>\n",
              "      <td>3</td>\n",
              "      <td>Returning_Visitor</td>\n",
              "      <td>False</td>\n",
              "      <td>False</td>\n",
              "    </tr>\n",
              "    <tr>\n",
              "      <th>3</th>\n",
              "      <td>0</td>\n",
              "      <td>0.0</td>\n",
              "      <td>0</td>\n",
              "      <td>0.0</td>\n",
              "      <td>2</td>\n",
              "      <td>2.666667</td>\n",
              "      <td>0.05</td>\n",
              "      <td>0.14</td>\n",
              "      <td>0.0</td>\n",
              "      <td>0.0</td>\n",
              "      <td>Feb</td>\n",
              "      <td>3</td>\n",
              "      <td>2</td>\n",
              "      <td>2</td>\n",
              "      <td>4</td>\n",
              "      <td>Returning_Visitor</td>\n",
              "      <td>False</td>\n",
              "      <td>False</td>\n",
              "    </tr>\n",
              "    <tr>\n",
              "      <th>4</th>\n",
              "      <td>0</td>\n",
              "      <td>0.0</td>\n",
              "      <td>0</td>\n",
              "      <td>0.0</td>\n",
              "      <td>10</td>\n",
              "      <td>627.500000</td>\n",
              "      <td>0.02</td>\n",
              "      <td>0.05</td>\n",
              "      <td>0.0</td>\n",
              "      <td>0.0</td>\n",
              "      <td>Feb</td>\n",
              "      <td>3</td>\n",
              "      <td>3</td>\n",
              "      <td>1</td>\n",
              "      <td>4</td>\n",
              "      <td>Returning_Visitor</td>\n",
              "      <td>True</td>\n",
              "      <td>False</td>\n",
              "    </tr>\n",
              "  </tbody>\n",
              "</table>\n",
              "</div>\n",
              "      <button class=\"colab-df-convert\" onclick=\"convertToInteractive('df-21f4887a-776d-4345-8e05-a36e734c8bc1')\"\n",
              "              title=\"Convert this dataframe to an interactive table.\"\n",
              "              style=\"display:none;\">\n",
              "\n",
              "  <svg xmlns=\"http://www.w3.org/2000/svg\" height=\"24px\"viewBox=\"0 0 24 24\"\n",
              "       width=\"24px\">\n",
              "    <path d=\"M0 0h24v24H0V0z\" fill=\"none\"/>\n",
              "    <path d=\"M18.56 5.44l.94 2.06.94-2.06 2.06-.94-2.06-.94-.94-2.06-.94 2.06-2.06.94zm-11 1L8.5 8.5l.94-2.06 2.06-.94-2.06-.94L8.5 2.5l-.94 2.06-2.06.94zm10 10l.94 2.06.94-2.06 2.06-.94-2.06-.94-.94-2.06-.94 2.06-2.06.94z\"/><path d=\"M17.41 7.96l-1.37-1.37c-.4-.4-.92-.59-1.43-.59-.52 0-1.04.2-1.43.59L10.3 9.45l-7.72 7.72c-.78.78-.78 2.05 0 2.83L4 21.41c.39.39.9.59 1.41.59.51 0 1.02-.2 1.41-.59l7.78-7.78 2.81-2.81c.8-.78.8-2.07 0-2.86zM5.41 20L4 18.59l7.72-7.72 1.47 1.35L5.41 20z\"/>\n",
              "  </svg>\n",
              "      </button>\n",
              "\n",
              "\n",
              "\n",
              "    <div id=\"df-ce2e72e2-102c-4746-a365-8f169bd65709\">\n",
              "      <button class=\"colab-df-quickchart\" onclick=\"quickchart('df-ce2e72e2-102c-4746-a365-8f169bd65709')\"\n",
              "              title=\"Suggest charts.\"\n",
              "              style=\"display:none;\">\n",
              "\n",
              "<svg xmlns=\"http://www.w3.org/2000/svg\" height=\"24px\"viewBox=\"0 0 24 24\"\n",
              "     width=\"24px\">\n",
              "    <g>\n",
              "        <path d=\"M19 3H5c-1.1 0-2 .9-2 2v14c0 1.1.9 2 2 2h14c1.1 0 2-.9 2-2V5c0-1.1-.9-2-2-2zM9 17H7v-7h2v7zm4 0h-2V7h2v10zm4 0h-2v-4h2v4z\"/>\n",
              "    </g>\n",
              "</svg>\n",
              "      </button>\n",
              "    </div>\n",
              "\n",
              "<style>\n",
              "  .colab-df-quickchart {\n",
              "    background-color: #E8F0FE;\n",
              "    border: none;\n",
              "    border-radius: 50%;\n",
              "    cursor: pointer;\n",
              "    display: none;\n",
              "    fill: #1967D2;\n",
              "    height: 32px;\n",
              "    padding: 0 0 0 0;\n",
              "    width: 32px;\n",
              "  }\n",
              "\n",
              "  .colab-df-quickchart:hover {\n",
              "    background-color: #E2EBFA;\n",
              "    box-shadow: 0px 1px 2px rgba(60, 64, 67, 0.3), 0px 1px 3px 1px rgba(60, 64, 67, 0.15);\n",
              "    fill: #174EA6;\n",
              "  }\n",
              "\n",
              "  [theme=dark] .colab-df-quickchart {\n",
              "    background-color: #3B4455;\n",
              "    fill: #D2E3FC;\n",
              "  }\n",
              "\n",
              "  [theme=dark] .colab-df-quickchart:hover {\n",
              "    background-color: #434B5C;\n",
              "    box-shadow: 0px 1px 3px 1px rgba(0, 0, 0, 0.15);\n",
              "    filter: drop-shadow(0px 1px 2px rgba(0, 0, 0, 0.3));\n",
              "    fill: #FFFFFF;\n",
              "  }\n",
              "</style>\n",
              "\n",
              "    <script>\n",
              "      async function quickchart(key) {\n",
              "        const containerElement = document.querySelector('#' + key);\n",
              "        const charts = await google.colab.kernel.invokeFunction(\n",
              "            'suggestCharts', [key], {});\n",
              "      }\n",
              "    </script>\n",
              "\n",
              "      <script>\n",
              "\n",
              "function displayQuickchartButton(domScope) {\n",
              "  let quickchartButtonEl =\n",
              "    domScope.querySelector('#df-ce2e72e2-102c-4746-a365-8f169bd65709 button.colab-df-quickchart');\n",
              "  quickchartButtonEl.style.display =\n",
              "    google.colab.kernel.accessAllowed ? 'block' : 'none';\n",
              "}\n",
              "\n",
              "        displayQuickchartButton(document);\n",
              "      </script>\n",
              "      <style>\n",
              "    .colab-df-container {\n",
              "      display:flex;\n",
              "      flex-wrap:wrap;\n",
              "      gap: 12px;\n",
              "    }\n",
              "\n",
              "    .colab-df-convert {\n",
              "      background-color: #E8F0FE;\n",
              "      border: none;\n",
              "      border-radius: 50%;\n",
              "      cursor: pointer;\n",
              "      display: none;\n",
              "      fill: #1967D2;\n",
              "      height: 32px;\n",
              "      padding: 0 0 0 0;\n",
              "      width: 32px;\n",
              "    }\n",
              "\n",
              "    .colab-df-convert:hover {\n",
              "      background-color: #E2EBFA;\n",
              "      box-shadow: 0px 1px 2px rgba(60, 64, 67, 0.3), 0px 1px 3px 1px rgba(60, 64, 67, 0.15);\n",
              "      fill: #174EA6;\n",
              "    }\n",
              "\n",
              "    [theme=dark] .colab-df-convert {\n",
              "      background-color: #3B4455;\n",
              "      fill: #D2E3FC;\n",
              "    }\n",
              "\n",
              "    [theme=dark] .colab-df-convert:hover {\n",
              "      background-color: #434B5C;\n",
              "      box-shadow: 0px 1px 3px 1px rgba(0, 0, 0, 0.15);\n",
              "      filter: drop-shadow(0px 1px 2px rgba(0, 0, 0, 0.3));\n",
              "      fill: #FFFFFF;\n",
              "    }\n",
              "  </style>\n",
              "\n",
              "      <script>\n",
              "        const buttonEl =\n",
              "          document.querySelector('#df-21f4887a-776d-4345-8e05-a36e734c8bc1 button.colab-df-convert');\n",
              "        buttonEl.style.display =\n",
              "          google.colab.kernel.accessAllowed ? 'block' : 'none';\n",
              "\n",
              "        async function convertToInteractive(key) {\n",
              "          const element = document.querySelector('#df-21f4887a-776d-4345-8e05-a36e734c8bc1');\n",
              "          const dataTable =\n",
              "            await google.colab.kernel.invokeFunction('convertToInteractive',\n",
              "                                                     [key], {});\n",
              "          if (!dataTable) return;\n",
              "\n",
              "          const docLinkHtml = 'Like what you see? Visit the ' +\n",
              "            '<a target=\"_blank\" href=https://colab.research.google.com/notebooks/data_table.ipynb>data table notebook</a>'\n",
              "            + ' to learn more about interactive tables.';\n",
              "          element.innerHTML = '';\n",
              "          dataTable['output_type'] = 'display_data';\n",
              "          await google.colab.output.renderOutput(dataTable, element);\n",
              "          const docLink = document.createElement('div');\n",
              "          docLink.innerHTML = docLinkHtml;\n",
              "          element.appendChild(docLink);\n",
              "        }\n",
              "      </script>\n",
              "    </div>\n",
              "  </div>\n"
            ]
          },
          "metadata": {},
          "execution_count": 148
        }
      ]
    },
    {
      "cell_type": "code",
      "source": [
        "# Se chequea que el dataset se haya cargado correctamente\n",
        "df.info()"
      ],
      "metadata": {
        "colab": {
          "base_uri": "https://localhost:8080/"
        },
        "id": "Z9l3VPFYgcYM",
        "outputId": "b603f631-062a-4834-ac2a-3c28f9cfc72c"
      },
      "execution_count": 149,
      "outputs": [
        {
          "output_type": "stream",
          "name": "stdout",
          "text": [
            "<class 'pandas.core.frame.DataFrame'>\n",
            "RangeIndex: 12330 entries, 0 to 12329\n",
            "Data columns (total 18 columns):\n",
            " #   Column                   Non-Null Count  Dtype  \n",
            "---  ------                   --------------  -----  \n",
            " 0   Administrative           12330 non-null  int64  \n",
            " 1   Administrative_Duration  12330 non-null  float64\n",
            " 2   Informational            12330 non-null  int64  \n",
            " 3   Informational_Duration   12330 non-null  float64\n",
            " 4   ProductRelated           12330 non-null  int64  \n",
            " 5   ProductRelated_Duration  12330 non-null  float64\n",
            " 6   BounceRates              12330 non-null  float64\n",
            " 7   ExitRates                12330 non-null  float64\n",
            " 8   PageValues               12330 non-null  float64\n",
            " 9   SpecialDay               12330 non-null  float64\n",
            " 10  Month                    12330 non-null  object \n",
            " 11  OperatingSystems         12330 non-null  int64  \n",
            " 12  Browser                  12330 non-null  int64  \n",
            " 13  Region                   12330 non-null  int64  \n",
            " 14  TrafficType              12330 non-null  int64  \n",
            " 15  VisitorType              12330 non-null  object \n",
            " 16  Weekend                  12330 non-null  bool   \n",
            " 17  Revenue                  12330 non-null  bool   \n",
            "dtypes: bool(2), float64(7), int64(7), object(2)\n",
            "memory usage: 1.5+ MB\n"
          ]
        }
      ]
    },
    {
      "cell_type": "markdown",
      "source": [
        "## ANÁLISIS DE VARIABLES A UTILIZAR"
      ],
      "metadata": {
        "id": "0fl8BYshw8cJ"
      }
    },
    {
      "cell_type": "code",
      "source": [
        "df.describe()\n"
      ],
      "metadata": {
        "id": "G814vnvBxoy6",
        "colab": {
          "base_uri": "https://localhost:8080/",
          "height": 364
        },
        "outputId": "bdfcba2d-6079-448c-b467-00dbad7669d4"
      },
      "execution_count": 150,
      "outputs": [
        {
          "output_type": "execute_result",
          "data": {
            "text/plain": [
              "       Administrative  Administrative_Duration  Informational  \\\n",
              "count    12330.000000             12330.000000   12330.000000   \n",
              "mean         2.315166                80.818611       0.503569   \n",
              "std          3.321784               176.779107       1.270156   \n",
              "min          0.000000                 0.000000       0.000000   \n",
              "25%          0.000000                 0.000000       0.000000   \n",
              "50%          1.000000                 7.500000       0.000000   \n",
              "75%          4.000000                93.256250       0.000000   \n",
              "max         27.000000              3398.750000      24.000000   \n",
              "\n",
              "       Informational_Duration  ProductRelated  ProductRelated_Duration  \\\n",
              "count            12330.000000    12330.000000             12330.000000   \n",
              "mean                34.472398       31.731468              1194.746220   \n",
              "std                140.749294       44.475503              1913.669288   \n",
              "min                  0.000000        0.000000                 0.000000   \n",
              "25%                  0.000000        7.000000               184.137500   \n",
              "50%                  0.000000       18.000000               598.936905   \n",
              "75%                  0.000000       38.000000              1464.157214   \n",
              "max               2549.375000      705.000000             63973.522230   \n",
              "\n",
              "        BounceRates     ExitRates    PageValues    SpecialDay  \\\n",
              "count  12330.000000  12330.000000  12330.000000  12330.000000   \n",
              "mean       0.022191      0.043073      5.889258      0.061427   \n",
              "std        0.048488      0.048597     18.568437      0.198917   \n",
              "min        0.000000      0.000000      0.000000      0.000000   \n",
              "25%        0.000000      0.014286      0.000000      0.000000   \n",
              "50%        0.003112      0.025156      0.000000      0.000000   \n",
              "75%        0.016813      0.050000      0.000000      0.000000   \n",
              "max        0.200000      0.200000    361.763742      1.000000   \n",
              "\n",
              "       OperatingSystems       Browser        Region   TrafficType  \n",
              "count      12330.000000  12330.000000  12330.000000  12330.000000  \n",
              "mean           2.124006      2.357097      3.147364      4.069586  \n",
              "std            0.911325      1.717277      2.401591      4.025169  \n",
              "min            1.000000      1.000000      1.000000      1.000000  \n",
              "25%            2.000000      2.000000      1.000000      2.000000  \n",
              "50%            2.000000      2.000000      3.000000      2.000000  \n",
              "75%            3.000000      2.000000      4.000000      4.000000  \n",
              "max            8.000000     13.000000      9.000000     20.000000  "
            ],
            "text/html": [
              "\n",
              "\n",
              "  <div id=\"df-d5133d19-37e2-48f2-bec1-9e107033db8d\">\n",
              "    <div class=\"colab-df-container\">\n",
              "      <div>\n",
              "<style scoped>\n",
              "    .dataframe tbody tr th:only-of-type {\n",
              "        vertical-align: middle;\n",
              "    }\n",
              "\n",
              "    .dataframe tbody tr th {\n",
              "        vertical-align: top;\n",
              "    }\n",
              "\n",
              "    .dataframe thead th {\n",
              "        text-align: right;\n",
              "    }\n",
              "</style>\n",
              "<table border=\"1\" class=\"dataframe\">\n",
              "  <thead>\n",
              "    <tr style=\"text-align: right;\">\n",
              "      <th></th>\n",
              "      <th>Administrative</th>\n",
              "      <th>Administrative_Duration</th>\n",
              "      <th>Informational</th>\n",
              "      <th>Informational_Duration</th>\n",
              "      <th>ProductRelated</th>\n",
              "      <th>ProductRelated_Duration</th>\n",
              "      <th>BounceRates</th>\n",
              "      <th>ExitRates</th>\n",
              "      <th>PageValues</th>\n",
              "      <th>SpecialDay</th>\n",
              "      <th>OperatingSystems</th>\n",
              "      <th>Browser</th>\n",
              "      <th>Region</th>\n",
              "      <th>TrafficType</th>\n",
              "    </tr>\n",
              "  </thead>\n",
              "  <tbody>\n",
              "    <tr>\n",
              "      <th>count</th>\n",
              "      <td>12330.000000</td>\n",
              "      <td>12330.000000</td>\n",
              "      <td>12330.000000</td>\n",
              "      <td>12330.000000</td>\n",
              "      <td>12330.000000</td>\n",
              "      <td>12330.000000</td>\n",
              "      <td>12330.000000</td>\n",
              "      <td>12330.000000</td>\n",
              "      <td>12330.000000</td>\n",
              "      <td>12330.000000</td>\n",
              "      <td>12330.000000</td>\n",
              "      <td>12330.000000</td>\n",
              "      <td>12330.000000</td>\n",
              "      <td>12330.000000</td>\n",
              "    </tr>\n",
              "    <tr>\n",
              "      <th>mean</th>\n",
              "      <td>2.315166</td>\n",
              "      <td>80.818611</td>\n",
              "      <td>0.503569</td>\n",
              "      <td>34.472398</td>\n",
              "      <td>31.731468</td>\n",
              "      <td>1194.746220</td>\n",
              "      <td>0.022191</td>\n",
              "      <td>0.043073</td>\n",
              "      <td>5.889258</td>\n",
              "      <td>0.061427</td>\n",
              "      <td>2.124006</td>\n",
              "      <td>2.357097</td>\n",
              "      <td>3.147364</td>\n",
              "      <td>4.069586</td>\n",
              "    </tr>\n",
              "    <tr>\n",
              "      <th>std</th>\n",
              "      <td>3.321784</td>\n",
              "      <td>176.779107</td>\n",
              "      <td>1.270156</td>\n",
              "      <td>140.749294</td>\n",
              "      <td>44.475503</td>\n",
              "      <td>1913.669288</td>\n",
              "      <td>0.048488</td>\n",
              "      <td>0.048597</td>\n",
              "      <td>18.568437</td>\n",
              "      <td>0.198917</td>\n",
              "      <td>0.911325</td>\n",
              "      <td>1.717277</td>\n",
              "      <td>2.401591</td>\n",
              "      <td>4.025169</td>\n",
              "    </tr>\n",
              "    <tr>\n",
              "      <th>min</th>\n",
              "      <td>0.000000</td>\n",
              "      <td>0.000000</td>\n",
              "      <td>0.000000</td>\n",
              "      <td>0.000000</td>\n",
              "      <td>0.000000</td>\n",
              "      <td>0.000000</td>\n",
              "      <td>0.000000</td>\n",
              "      <td>0.000000</td>\n",
              "      <td>0.000000</td>\n",
              "      <td>0.000000</td>\n",
              "      <td>1.000000</td>\n",
              "      <td>1.000000</td>\n",
              "      <td>1.000000</td>\n",
              "      <td>1.000000</td>\n",
              "    </tr>\n",
              "    <tr>\n",
              "      <th>25%</th>\n",
              "      <td>0.000000</td>\n",
              "      <td>0.000000</td>\n",
              "      <td>0.000000</td>\n",
              "      <td>0.000000</td>\n",
              "      <td>7.000000</td>\n",
              "      <td>184.137500</td>\n",
              "      <td>0.000000</td>\n",
              "      <td>0.014286</td>\n",
              "      <td>0.000000</td>\n",
              "      <td>0.000000</td>\n",
              "      <td>2.000000</td>\n",
              "      <td>2.000000</td>\n",
              "      <td>1.000000</td>\n",
              "      <td>2.000000</td>\n",
              "    </tr>\n",
              "    <tr>\n",
              "      <th>50%</th>\n",
              "      <td>1.000000</td>\n",
              "      <td>7.500000</td>\n",
              "      <td>0.000000</td>\n",
              "      <td>0.000000</td>\n",
              "      <td>18.000000</td>\n",
              "      <td>598.936905</td>\n",
              "      <td>0.003112</td>\n",
              "      <td>0.025156</td>\n",
              "      <td>0.000000</td>\n",
              "      <td>0.000000</td>\n",
              "      <td>2.000000</td>\n",
              "      <td>2.000000</td>\n",
              "      <td>3.000000</td>\n",
              "      <td>2.000000</td>\n",
              "    </tr>\n",
              "    <tr>\n",
              "      <th>75%</th>\n",
              "      <td>4.000000</td>\n",
              "      <td>93.256250</td>\n",
              "      <td>0.000000</td>\n",
              "      <td>0.000000</td>\n",
              "      <td>38.000000</td>\n",
              "      <td>1464.157214</td>\n",
              "      <td>0.016813</td>\n",
              "      <td>0.050000</td>\n",
              "      <td>0.000000</td>\n",
              "      <td>0.000000</td>\n",
              "      <td>3.000000</td>\n",
              "      <td>2.000000</td>\n",
              "      <td>4.000000</td>\n",
              "      <td>4.000000</td>\n",
              "    </tr>\n",
              "    <tr>\n",
              "      <th>max</th>\n",
              "      <td>27.000000</td>\n",
              "      <td>3398.750000</td>\n",
              "      <td>24.000000</td>\n",
              "      <td>2549.375000</td>\n",
              "      <td>705.000000</td>\n",
              "      <td>63973.522230</td>\n",
              "      <td>0.200000</td>\n",
              "      <td>0.200000</td>\n",
              "      <td>361.763742</td>\n",
              "      <td>1.000000</td>\n",
              "      <td>8.000000</td>\n",
              "      <td>13.000000</td>\n",
              "      <td>9.000000</td>\n",
              "      <td>20.000000</td>\n",
              "    </tr>\n",
              "  </tbody>\n",
              "</table>\n",
              "</div>\n",
              "      <button class=\"colab-df-convert\" onclick=\"convertToInteractive('df-d5133d19-37e2-48f2-bec1-9e107033db8d')\"\n",
              "              title=\"Convert this dataframe to an interactive table.\"\n",
              "              style=\"display:none;\">\n",
              "\n",
              "  <svg xmlns=\"http://www.w3.org/2000/svg\" height=\"24px\"viewBox=\"0 0 24 24\"\n",
              "       width=\"24px\">\n",
              "    <path d=\"M0 0h24v24H0V0z\" fill=\"none\"/>\n",
              "    <path d=\"M18.56 5.44l.94 2.06.94-2.06 2.06-.94-2.06-.94-.94-2.06-.94 2.06-2.06.94zm-11 1L8.5 8.5l.94-2.06 2.06-.94-2.06-.94L8.5 2.5l-.94 2.06-2.06.94zm10 10l.94 2.06.94-2.06 2.06-.94-2.06-.94-.94-2.06-.94 2.06-2.06.94z\"/><path d=\"M17.41 7.96l-1.37-1.37c-.4-.4-.92-.59-1.43-.59-.52 0-1.04.2-1.43.59L10.3 9.45l-7.72 7.72c-.78.78-.78 2.05 0 2.83L4 21.41c.39.39.9.59 1.41.59.51 0 1.02-.2 1.41-.59l7.78-7.78 2.81-2.81c.8-.78.8-2.07 0-2.86zM5.41 20L4 18.59l7.72-7.72 1.47 1.35L5.41 20z\"/>\n",
              "  </svg>\n",
              "      </button>\n",
              "\n",
              "\n",
              "\n",
              "    <div id=\"df-294b81a5-9a65-42cc-a51d-a15ebf59e24c\">\n",
              "      <button class=\"colab-df-quickchart\" onclick=\"quickchart('df-294b81a5-9a65-42cc-a51d-a15ebf59e24c')\"\n",
              "              title=\"Suggest charts.\"\n",
              "              style=\"display:none;\">\n",
              "\n",
              "<svg xmlns=\"http://www.w3.org/2000/svg\" height=\"24px\"viewBox=\"0 0 24 24\"\n",
              "     width=\"24px\">\n",
              "    <g>\n",
              "        <path d=\"M19 3H5c-1.1 0-2 .9-2 2v14c0 1.1.9 2 2 2h14c1.1 0 2-.9 2-2V5c0-1.1-.9-2-2-2zM9 17H7v-7h2v7zm4 0h-2V7h2v10zm4 0h-2v-4h2v4z\"/>\n",
              "    </g>\n",
              "</svg>\n",
              "      </button>\n",
              "    </div>\n",
              "\n",
              "<style>\n",
              "  .colab-df-quickchart {\n",
              "    background-color: #E8F0FE;\n",
              "    border: none;\n",
              "    border-radius: 50%;\n",
              "    cursor: pointer;\n",
              "    display: none;\n",
              "    fill: #1967D2;\n",
              "    height: 32px;\n",
              "    padding: 0 0 0 0;\n",
              "    width: 32px;\n",
              "  }\n",
              "\n",
              "  .colab-df-quickchart:hover {\n",
              "    background-color: #E2EBFA;\n",
              "    box-shadow: 0px 1px 2px rgba(60, 64, 67, 0.3), 0px 1px 3px 1px rgba(60, 64, 67, 0.15);\n",
              "    fill: #174EA6;\n",
              "  }\n",
              "\n",
              "  [theme=dark] .colab-df-quickchart {\n",
              "    background-color: #3B4455;\n",
              "    fill: #D2E3FC;\n",
              "  }\n",
              "\n",
              "  [theme=dark] .colab-df-quickchart:hover {\n",
              "    background-color: #434B5C;\n",
              "    box-shadow: 0px 1px 3px 1px rgba(0, 0, 0, 0.15);\n",
              "    filter: drop-shadow(0px 1px 2px rgba(0, 0, 0, 0.3));\n",
              "    fill: #FFFFFF;\n",
              "  }\n",
              "</style>\n",
              "\n",
              "    <script>\n",
              "      async function quickchart(key) {\n",
              "        const containerElement = document.querySelector('#' + key);\n",
              "        const charts = await google.colab.kernel.invokeFunction(\n",
              "            'suggestCharts', [key], {});\n",
              "      }\n",
              "    </script>\n",
              "\n",
              "      <script>\n",
              "\n",
              "function displayQuickchartButton(domScope) {\n",
              "  let quickchartButtonEl =\n",
              "    domScope.querySelector('#df-294b81a5-9a65-42cc-a51d-a15ebf59e24c button.colab-df-quickchart');\n",
              "  quickchartButtonEl.style.display =\n",
              "    google.colab.kernel.accessAllowed ? 'block' : 'none';\n",
              "}\n",
              "\n",
              "        displayQuickchartButton(document);\n",
              "      </script>\n",
              "      <style>\n",
              "    .colab-df-container {\n",
              "      display:flex;\n",
              "      flex-wrap:wrap;\n",
              "      gap: 12px;\n",
              "    }\n",
              "\n",
              "    .colab-df-convert {\n",
              "      background-color: #E8F0FE;\n",
              "      border: none;\n",
              "      border-radius: 50%;\n",
              "      cursor: pointer;\n",
              "      display: none;\n",
              "      fill: #1967D2;\n",
              "      height: 32px;\n",
              "      padding: 0 0 0 0;\n",
              "      width: 32px;\n",
              "    }\n",
              "\n",
              "    .colab-df-convert:hover {\n",
              "      background-color: #E2EBFA;\n",
              "      box-shadow: 0px 1px 2px rgba(60, 64, 67, 0.3), 0px 1px 3px 1px rgba(60, 64, 67, 0.15);\n",
              "      fill: #174EA6;\n",
              "    }\n",
              "\n",
              "    [theme=dark] .colab-df-convert {\n",
              "      background-color: #3B4455;\n",
              "      fill: #D2E3FC;\n",
              "    }\n",
              "\n",
              "    [theme=dark] .colab-df-convert:hover {\n",
              "      background-color: #434B5C;\n",
              "      box-shadow: 0px 1px 3px 1px rgba(0, 0, 0, 0.15);\n",
              "      filter: drop-shadow(0px 1px 2px rgba(0, 0, 0, 0.3));\n",
              "      fill: #FFFFFF;\n",
              "    }\n",
              "  </style>\n",
              "\n",
              "      <script>\n",
              "        const buttonEl =\n",
              "          document.querySelector('#df-d5133d19-37e2-48f2-bec1-9e107033db8d button.colab-df-convert');\n",
              "        buttonEl.style.display =\n",
              "          google.colab.kernel.accessAllowed ? 'block' : 'none';\n",
              "\n",
              "        async function convertToInteractive(key) {\n",
              "          const element = document.querySelector('#df-d5133d19-37e2-48f2-bec1-9e107033db8d');\n",
              "          const dataTable =\n",
              "            await google.colab.kernel.invokeFunction('convertToInteractive',\n",
              "                                                     [key], {});\n",
              "          if (!dataTable) return;\n",
              "\n",
              "          const docLinkHtml = 'Like what you see? Visit the ' +\n",
              "            '<a target=\"_blank\" href=https://colab.research.google.com/notebooks/data_table.ipynb>data table notebook</a>'\n",
              "            + ' to learn more about interactive tables.';\n",
              "          element.innerHTML = '';\n",
              "          dataTable['output_type'] = 'display_data';\n",
              "          await google.colab.output.renderOutput(dataTable, element);\n",
              "          const docLink = document.createElement('div');\n",
              "          docLink.innerHTML = docLinkHtml;\n",
              "          element.appendChild(docLink);\n",
              "        }\n",
              "      </script>\n",
              "    </div>\n",
              "  </div>\n"
            ]
          },
          "metadata": {},
          "execution_count": 150
        }
      ]
    },
    {
      "cell_type": "code",
      "source": [
        "# Se chequea la correlación entre distintas variables\n",
        "df.corr()"
      ],
      "metadata": {
        "id": "a6rVZIbuxUQA",
        "colab": {
          "base_uri": "https://localhost:8080/",
          "height": 615
        },
        "outputId": "099ce1f9-fc41-401b-d965-ff6cc52cffab"
      },
      "execution_count": 151,
      "outputs": [
        {
          "output_type": "execute_result",
          "data": {
            "text/plain": [
              "                         Administrative  Administrative_Duration  \\\n",
              "Administrative                 1.000000                 0.601583   \n",
              "Administrative_Duration        0.601583                 1.000000   \n",
              "Informational                  0.376850                 0.302710   \n",
              "Informational_Duration         0.255848                 0.238031   \n",
              "ProductRelated                 0.431119                 0.289087   \n",
              "ProductRelated_Duration        0.373939                 0.355422   \n",
              "BounceRates                   -0.223563                -0.144170   \n",
              "ExitRates                     -0.316483                -0.205798   \n",
              "PageValues                     0.098990                 0.067608   \n",
              "SpecialDay                    -0.094778                -0.073304   \n",
              "OperatingSystems              -0.006347                -0.007343   \n",
              "Browser                       -0.025035                -0.015392   \n",
              "Region                        -0.005487                -0.005561   \n",
              "TrafficType                   -0.033561                -0.014376   \n",
              "Weekend                        0.026417                 0.014990   \n",
              "Revenue                        0.138917                 0.093587   \n",
              "\n",
              "                         Informational  Informational_Duration  \\\n",
              "Administrative                0.376850                0.255848   \n",
              "Administrative_Duration       0.302710                0.238031   \n",
              "Informational                 1.000000                0.618955   \n",
              "Informational_Duration        0.618955                1.000000   \n",
              "ProductRelated                0.374164                0.280046   \n",
              "ProductRelated_Duration       0.387505                0.347364   \n",
              "BounceRates                  -0.116114               -0.074067   \n",
              "ExitRates                    -0.163666               -0.105276   \n",
              "PageValues                    0.048632                0.030861   \n",
              "SpecialDay                   -0.048219               -0.030577   \n",
              "OperatingSystems             -0.009527               -0.009579   \n",
              "Browser                      -0.038235               -0.019285   \n",
              "Region                       -0.029169               -0.027144   \n",
              "TrafficType                  -0.034491               -0.024675   \n",
              "Weekend                       0.035785                0.024078   \n",
              "Revenue                       0.095200                0.070345   \n",
              "\n",
              "                         ProductRelated  ProductRelated_Duration  BounceRates  \\\n",
              "Administrative                 0.431119                 0.373939    -0.223563   \n",
              "Administrative_Duration        0.289087                 0.355422    -0.144170   \n",
              "Informational                  0.374164                 0.387505    -0.116114   \n",
              "Informational_Duration         0.280046                 0.347364    -0.074067   \n",
              "ProductRelated                 1.000000                 0.860927    -0.204578   \n",
              "ProductRelated_Duration        0.860927                 1.000000    -0.184541   \n",
              "BounceRates                   -0.204578                -0.184541     1.000000   \n",
              "ExitRates                     -0.292526                -0.251984     0.913004   \n",
              "PageValues                     0.056282                 0.052823    -0.119386   \n",
              "SpecialDay                    -0.023958                -0.036380     0.072702   \n",
              "OperatingSystems               0.004290                 0.002976     0.023823   \n",
              "Browser                       -0.013146                -0.007380    -0.015772   \n",
              "Region                        -0.038122                -0.033091    -0.006485   \n",
              "TrafficType                   -0.043064                -0.036377     0.078286   \n",
              "Weekend                        0.016092                 0.007311    -0.046514   \n",
              "Revenue                        0.158538                 0.152373    -0.150673   \n",
              "\n",
              "                         ExitRates  PageValues  SpecialDay  OperatingSystems  \\\n",
              "Administrative           -0.316483    0.098990   -0.094778         -0.006347   \n",
              "Administrative_Duration  -0.205798    0.067608   -0.073304         -0.007343   \n",
              "Informational            -0.163666    0.048632   -0.048219         -0.009527   \n",
              "Informational_Duration   -0.105276    0.030861   -0.030577         -0.009579   \n",
              "ProductRelated           -0.292526    0.056282   -0.023958          0.004290   \n",
              "ProductRelated_Duration  -0.251984    0.052823   -0.036380          0.002976   \n",
              "BounceRates               0.913004   -0.119386    0.072702          0.023823   \n",
              "ExitRates                 1.000000   -0.174498    0.102242          0.014567   \n",
              "PageValues               -0.174498    1.000000   -0.063541          0.018508   \n",
              "SpecialDay                0.102242   -0.063541    1.000000          0.012652   \n",
              "OperatingSystems          0.014567    0.018508    0.012652          1.000000   \n",
              "Browser                  -0.004442    0.045592    0.003499          0.223013   \n",
              "Region                   -0.008907    0.011315   -0.016098          0.076775   \n",
              "TrafficType               0.078616    0.012532    0.052301          0.189154   \n",
              "Weekend                  -0.062587    0.012002   -0.016767          0.000284   \n",
              "Revenue                  -0.207071    0.492569   -0.082305         -0.014668   \n",
              "\n",
              "                          Browser    Region  TrafficType   Weekend   Revenue  \n",
              "Administrative          -0.025035 -0.005487    -0.033561  0.026417  0.138917  \n",
              "Administrative_Duration -0.015392 -0.005561    -0.014376  0.014990  0.093587  \n",
              "Informational           -0.038235 -0.029169    -0.034491  0.035785  0.095200  \n",
              "Informational_Duration  -0.019285 -0.027144    -0.024675  0.024078  0.070345  \n",
              "ProductRelated          -0.013146 -0.038122    -0.043064  0.016092  0.158538  \n",
              "ProductRelated_Duration -0.007380 -0.033091    -0.036377  0.007311  0.152373  \n",
              "BounceRates             -0.015772 -0.006485     0.078286 -0.046514 -0.150673  \n",
              "ExitRates               -0.004442 -0.008907     0.078616 -0.062587 -0.207071  \n",
              "PageValues               0.045592  0.011315     0.012532  0.012002  0.492569  \n",
              "SpecialDay               0.003499 -0.016098     0.052301 -0.016767 -0.082305  \n",
              "OperatingSystems         0.223013  0.076775     0.189154  0.000284 -0.014668  \n",
              "Browser                  1.000000  0.097393     0.111938 -0.040261  0.023984  \n",
              "Region                   0.097393  1.000000     0.047520 -0.000691 -0.011595  \n",
              "TrafficType              0.111938  0.047520     1.000000 -0.002221 -0.005113  \n",
              "Weekend                 -0.040261 -0.000691    -0.002221  1.000000  0.029295  \n",
              "Revenue                  0.023984 -0.011595    -0.005113  0.029295  1.000000  "
            ],
            "text/html": [
              "\n",
              "\n",
              "  <div id=\"df-422a9446-7866-4f0a-b26a-4cd6f178d768\">\n",
              "    <div class=\"colab-df-container\">\n",
              "      <div>\n",
              "<style scoped>\n",
              "    .dataframe tbody tr th:only-of-type {\n",
              "        vertical-align: middle;\n",
              "    }\n",
              "\n",
              "    .dataframe tbody tr th {\n",
              "        vertical-align: top;\n",
              "    }\n",
              "\n",
              "    .dataframe thead th {\n",
              "        text-align: right;\n",
              "    }\n",
              "</style>\n",
              "<table border=\"1\" class=\"dataframe\">\n",
              "  <thead>\n",
              "    <tr style=\"text-align: right;\">\n",
              "      <th></th>\n",
              "      <th>Administrative</th>\n",
              "      <th>Administrative_Duration</th>\n",
              "      <th>Informational</th>\n",
              "      <th>Informational_Duration</th>\n",
              "      <th>ProductRelated</th>\n",
              "      <th>ProductRelated_Duration</th>\n",
              "      <th>BounceRates</th>\n",
              "      <th>ExitRates</th>\n",
              "      <th>PageValues</th>\n",
              "      <th>SpecialDay</th>\n",
              "      <th>OperatingSystems</th>\n",
              "      <th>Browser</th>\n",
              "      <th>Region</th>\n",
              "      <th>TrafficType</th>\n",
              "      <th>Weekend</th>\n",
              "      <th>Revenue</th>\n",
              "    </tr>\n",
              "  </thead>\n",
              "  <tbody>\n",
              "    <tr>\n",
              "      <th>Administrative</th>\n",
              "      <td>1.000000</td>\n",
              "      <td>0.601583</td>\n",
              "      <td>0.376850</td>\n",
              "      <td>0.255848</td>\n",
              "      <td>0.431119</td>\n",
              "      <td>0.373939</td>\n",
              "      <td>-0.223563</td>\n",
              "      <td>-0.316483</td>\n",
              "      <td>0.098990</td>\n",
              "      <td>-0.094778</td>\n",
              "      <td>-0.006347</td>\n",
              "      <td>-0.025035</td>\n",
              "      <td>-0.005487</td>\n",
              "      <td>-0.033561</td>\n",
              "      <td>0.026417</td>\n",
              "      <td>0.138917</td>\n",
              "    </tr>\n",
              "    <tr>\n",
              "      <th>Administrative_Duration</th>\n",
              "      <td>0.601583</td>\n",
              "      <td>1.000000</td>\n",
              "      <td>0.302710</td>\n",
              "      <td>0.238031</td>\n",
              "      <td>0.289087</td>\n",
              "      <td>0.355422</td>\n",
              "      <td>-0.144170</td>\n",
              "      <td>-0.205798</td>\n",
              "      <td>0.067608</td>\n",
              "      <td>-0.073304</td>\n",
              "      <td>-0.007343</td>\n",
              "      <td>-0.015392</td>\n",
              "      <td>-0.005561</td>\n",
              "      <td>-0.014376</td>\n",
              "      <td>0.014990</td>\n",
              "      <td>0.093587</td>\n",
              "    </tr>\n",
              "    <tr>\n",
              "      <th>Informational</th>\n",
              "      <td>0.376850</td>\n",
              "      <td>0.302710</td>\n",
              "      <td>1.000000</td>\n",
              "      <td>0.618955</td>\n",
              "      <td>0.374164</td>\n",
              "      <td>0.387505</td>\n",
              "      <td>-0.116114</td>\n",
              "      <td>-0.163666</td>\n",
              "      <td>0.048632</td>\n",
              "      <td>-0.048219</td>\n",
              "      <td>-0.009527</td>\n",
              "      <td>-0.038235</td>\n",
              "      <td>-0.029169</td>\n",
              "      <td>-0.034491</td>\n",
              "      <td>0.035785</td>\n",
              "      <td>0.095200</td>\n",
              "    </tr>\n",
              "    <tr>\n",
              "      <th>Informational_Duration</th>\n",
              "      <td>0.255848</td>\n",
              "      <td>0.238031</td>\n",
              "      <td>0.618955</td>\n",
              "      <td>1.000000</td>\n",
              "      <td>0.280046</td>\n",
              "      <td>0.347364</td>\n",
              "      <td>-0.074067</td>\n",
              "      <td>-0.105276</td>\n",
              "      <td>0.030861</td>\n",
              "      <td>-0.030577</td>\n",
              "      <td>-0.009579</td>\n",
              "      <td>-0.019285</td>\n",
              "      <td>-0.027144</td>\n",
              "      <td>-0.024675</td>\n",
              "      <td>0.024078</td>\n",
              "      <td>0.070345</td>\n",
              "    </tr>\n",
              "    <tr>\n",
              "      <th>ProductRelated</th>\n",
              "      <td>0.431119</td>\n",
              "      <td>0.289087</td>\n",
              "      <td>0.374164</td>\n",
              "      <td>0.280046</td>\n",
              "      <td>1.000000</td>\n",
              "      <td>0.860927</td>\n",
              "      <td>-0.204578</td>\n",
              "      <td>-0.292526</td>\n",
              "      <td>0.056282</td>\n",
              "      <td>-0.023958</td>\n",
              "      <td>0.004290</td>\n",
              "      <td>-0.013146</td>\n",
              "      <td>-0.038122</td>\n",
              "      <td>-0.043064</td>\n",
              "      <td>0.016092</td>\n",
              "      <td>0.158538</td>\n",
              "    </tr>\n",
              "    <tr>\n",
              "      <th>ProductRelated_Duration</th>\n",
              "      <td>0.373939</td>\n",
              "      <td>0.355422</td>\n",
              "      <td>0.387505</td>\n",
              "      <td>0.347364</td>\n",
              "      <td>0.860927</td>\n",
              "      <td>1.000000</td>\n",
              "      <td>-0.184541</td>\n",
              "      <td>-0.251984</td>\n",
              "      <td>0.052823</td>\n",
              "      <td>-0.036380</td>\n",
              "      <td>0.002976</td>\n",
              "      <td>-0.007380</td>\n",
              "      <td>-0.033091</td>\n",
              "      <td>-0.036377</td>\n",
              "      <td>0.007311</td>\n",
              "      <td>0.152373</td>\n",
              "    </tr>\n",
              "    <tr>\n",
              "      <th>BounceRates</th>\n",
              "      <td>-0.223563</td>\n",
              "      <td>-0.144170</td>\n",
              "      <td>-0.116114</td>\n",
              "      <td>-0.074067</td>\n",
              "      <td>-0.204578</td>\n",
              "      <td>-0.184541</td>\n",
              "      <td>1.000000</td>\n",
              "      <td>0.913004</td>\n",
              "      <td>-0.119386</td>\n",
              "      <td>0.072702</td>\n",
              "      <td>0.023823</td>\n",
              "      <td>-0.015772</td>\n",
              "      <td>-0.006485</td>\n",
              "      <td>0.078286</td>\n",
              "      <td>-0.046514</td>\n",
              "      <td>-0.150673</td>\n",
              "    </tr>\n",
              "    <tr>\n",
              "      <th>ExitRates</th>\n",
              "      <td>-0.316483</td>\n",
              "      <td>-0.205798</td>\n",
              "      <td>-0.163666</td>\n",
              "      <td>-0.105276</td>\n",
              "      <td>-0.292526</td>\n",
              "      <td>-0.251984</td>\n",
              "      <td>0.913004</td>\n",
              "      <td>1.000000</td>\n",
              "      <td>-0.174498</td>\n",
              "      <td>0.102242</td>\n",
              "      <td>0.014567</td>\n",
              "      <td>-0.004442</td>\n",
              "      <td>-0.008907</td>\n",
              "      <td>0.078616</td>\n",
              "      <td>-0.062587</td>\n",
              "      <td>-0.207071</td>\n",
              "    </tr>\n",
              "    <tr>\n",
              "      <th>PageValues</th>\n",
              "      <td>0.098990</td>\n",
              "      <td>0.067608</td>\n",
              "      <td>0.048632</td>\n",
              "      <td>0.030861</td>\n",
              "      <td>0.056282</td>\n",
              "      <td>0.052823</td>\n",
              "      <td>-0.119386</td>\n",
              "      <td>-0.174498</td>\n",
              "      <td>1.000000</td>\n",
              "      <td>-0.063541</td>\n",
              "      <td>0.018508</td>\n",
              "      <td>0.045592</td>\n",
              "      <td>0.011315</td>\n",
              "      <td>0.012532</td>\n",
              "      <td>0.012002</td>\n",
              "      <td>0.492569</td>\n",
              "    </tr>\n",
              "    <tr>\n",
              "      <th>SpecialDay</th>\n",
              "      <td>-0.094778</td>\n",
              "      <td>-0.073304</td>\n",
              "      <td>-0.048219</td>\n",
              "      <td>-0.030577</td>\n",
              "      <td>-0.023958</td>\n",
              "      <td>-0.036380</td>\n",
              "      <td>0.072702</td>\n",
              "      <td>0.102242</td>\n",
              "      <td>-0.063541</td>\n",
              "      <td>1.000000</td>\n",
              "      <td>0.012652</td>\n",
              "      <td>0.003499</td>\n",
              "      <td>-0.016098</td>\n",
              "      <td>0.052301</td>\n",
              "      <td>-0.016767</td>\n",
              "      <td>-0.082305</td>\n",
              "    </tr>\n",
              "    <tr>\n",
              "      <th>OperatingSystems</th>\n",
              "      <td>-0.006347</td>\n",
              "      <td>-0.007343</td>\n",
              "      <td>-0.009527</td>\n",
              "      <td>-0.009579</td>\n",
              "      <td>0.004290</td>\n",
              "      <td>0.002976</td>\n",
              "      <td>0.023823</td>\n",
              "      <td>0.014567</td>\n",
              "      <td>0.018508</td>\n",
              "      <td>0.012652</td>\n",
              "      <td>1.000000</td>\n",
              "      <td>0.223013</td>\n",
              "      <td>0.076775</td>\n",
              "      <td>0.189154</td>\n",
              "      <td>0.000284</td>\n",
              "      <td>-0.014668</td>\n",
              "    </tr>\n",
              "    <tr>\n",
              "      <th>Browser</th>\n",
              "      <td>-0.025035</td>\n",
              "      <td>-0.015392</td>\n",
              "      <td>-0.038235</td>\n",
              "      <td>-0.019285</td>\n",
              "      <td>-0.013146</td>\n",
              "      <td>-0.007380</td>\n",
              "      <td>-0.015772</td>\n",
              "      <td>-0.004442</td>\n",
              "      <td>0.045592</td>\n",
              "      <td>0.003499</td>\n",
              "      <td>0.223013</td>\n",
              "      <td>1.000000</td>\n",
              "      <td>0.097393</td>\n",
              "      <td>0.111938</td>\n",
              "      <td>-0.040261</td>\n",
              "      <td>0.023984</td>\n",
              "    </tr>\n",
              "    <tr>\n",
              "      <th>Region</th>\n",
              "      <td>-0.005487</td>\n",
              "      <td>-0.005561</td>\n",
              "      <td>-0.029169</td>\n",
              "      <td>-0.027144</td>\n",
              "      <td>-0.038122</td>\n",
              "      <td>-0.033091</td>\n",
              "      <td>-0.006485</td>\n",
              "      <td>-0.008907</td>\n",
              "      <td>0.011315</td>\n",
              "      <td>-0.016098</td>\n",
              "      <td>0.076775</td>\n",
              "      <td>0.097393</td>\n",
              "      <td>1.000000</td>\n",
              "      <td>0.047520</td>\n",
              "      <td>-0.000691</td>\n",
              "      <td>-0.011595</td>\n",
              "    </tr>\n",
              "    <tr>\n",
              "      <th>TrafficType</th>\n",
              "      <td>-0.033561</td>\n",
              "      <td>-0.014376</td>\n",
              "      <td>-0.034491</td>\n",
              "      <td>-0.024675</td>\n",
              "      <td>-0.043064</td>\n",
              "      <td>-0.036377</td>\n",
              "      <td>0.078286</td>\n",
              "      <td>0.078616</td>\n",
              "      <td>0.012532</td>\n",
              "      <td>0.052301</td>\n",
              "      <td>0.189154</td>\n",
              "      <td>0.111938</td>\n",
              "      <td>0.047520</td>\n",
              "      <td>1.000000</td>\n",
              "      <td>-0.002221</td>\n",
              "      <td>-0.005113</td>\n",
              "    </tr>\n",
              "    <tr>\n",
              "      <th>Weekend</th>\n",
              "      <td>0.026417</td>\n",
              "      <td>0.014990</td>\n",
              "      <td>0.035785</td>\n",
              "      <td>0.024078</td>\n",
              "      <td>0.016092</td>\n",
              "      <td>0.007311</td>\n",
              "      <td>-0.046514</td>\n",
              "      <td>-0.062587</td>\n",
              "      <td>0.012002</td>\n",
              "      <td>-0.016767</td>\n",
              "      <td>0.000284</td>\n",
              "      <td>-0.040261</td>\n",
              "      <td>-0.000691</td>\n",
              "      <td>-0.002221</td>\n",
              "      <td>1.000000</td>\n",
              "      <td>0.029295</td>\n",
              "    </tr>\n",
              "    <tr>\n",
              "      <th>Revenue</th>\n",
              "      <td>0.138917</td>\n",
              "      <td>0.093587</td>\n",
              "      <td>0.095200</td>\n",
              "      <td>0.070345</td>\n",
              "      <td>0.158538</td>\n",
              "      <td>0.152373</td>\n",
              "      <td>-0.150673</td>\n",
              "      <td>-0.207071</td>\n",
              "      <td>0.492569</td>\n",
              "      <td>-0.082305</td>\n",
              "      <td>-0.014668</td>\n",
              "      <td>0.023984</td>\n",
              "      <td>-0.011595</td>\n",
              "      <td>-0.005113</td>\n",
              "      <td>0.029295</td>\n",
              "      <td>1.000000</td>\n",
              "    </tr>\n",
              "  </tbody>\n",
              "</table>\n",
              "</div>\n",
              "      <button class=\"colab-df-convert\" onclick=\"convertToInteractive('df-422a9446-7866-4f0a-b26a-4cd6f178d768')\"\n",
              "              title=\"Convert this dataframe to an interactive table.\"\n",
              "              style=\"display:none;\">\n",
              "\n",
              "  <svg xmlns=\"http://www.w3.org/2000/svg\" height=\"24px\"viewBox=\"0 0 24 24\"\n",
              "       width=\"24px\">\n",
              "    <path d=\"M0 0h24v24H0V0z\" fill=\"none\"/>\n",
              "    <path d=\"M18.56 5.44l.94 2.06.94-2.06 2.06-.94-2.06-.94-.94-2.06-.94 2.06-2.06.94zm-11 1L8.5 8.5l.94-2.06 2.06-.94-2.06-.94L8.5 2.5l-.94 2.06-2.06.94zm10 10l.94 2.06.94-2.06 2.06-.94-2.06-.94-.94-2.06-.94 2.06-2.06.94z\"/><path d=\"M17.41 7.96l-1.37-1.37c-.4-.4-.92-.59-1.43-.59-.52 0-1.04.2-1.43.59L10.3 9.45l-7.72 7.72c-.78.78-.78 2.05 0 2.83L4 21.41c.39.39.9.59 1.41.59.51 0 1.02-.2 1.41-.59l7.78-7.78 2.81-2.81c.8-.78.8-2.07 0-2.86zM5.41 20L4 18.59l7.72-7.72 1.47 1.35L5.41 20z\"/>\n",
              "  </svg>\n",
              "      </button>\n",
              "\n",
              "\n",
              "\n",
              "    <div id=\"df-16efb6e8-d4c8-4ce3-823f-31c1a60da741\">\n",
              "      <button class=\"colab-df-quickchart\" onclick=\"quickchart('df-16efb6e8-d4c8-4ce3-823f-31c1a60da741')\"\n",
              "              title=\"Suggest charts.\"\n",
              "              style=\"display:none;\">\n",
              "\n",
              "<svg xmlns=\"http://www.w3.org/2000/svg\" height=\"24px\"viewBox=\"0 0 24 24\"\n",
              "     width=\"24px\">\n",
              "    <g>\n",
              "        <path d=\"M19 3H5c-1.1 0-2 .9-2 2v14c0 1.1.9 2 2 2h14c1.1 0 2-.9 2-2V5c0-1.1-.9-2-2-2zM9 17H7v-7h2v7zm4 0h-2V7h2v10zm4 0h-2v-4h2v4z\"/>\n",
              "    </g>\n",
              "</svg>\n",
              "      </button>\n",
              "    </div>\n",
              "\n",
              "<style>\n",
              "  .colab-df-quickchart {\n",
              "    background-color: #E8F0FE;\n",
              "    border: none;\n",
              "    border-radius: 50%;\n",
              "    cursor: pointer;\n",
              "    display: none;\n",
              "    fill: #1967D2;\n",
              "    height: 32px;\n",
              "    padding: 0 0 0 0;\n",
              "    width: 32px;\n",
              "  }\n",
              "\n",
              "  .colab-df-quickchart:hover {\n",
              "    background-color: #E2EBFA;\n",
              "    box-shadow: 0px 1px 2px rgba(60, 64, 67, 0.3), 0px 1px 3px 1px rgba(60, 64, 67, 0.15);\n",
              "    fill: #174EA6;\n",
              "  }\n",
              "\n",
              "  [theme=dark] .colab-df-quickchart {\n",
              "    background-color: #3B4455;\n",
              "    fill: #D2E3FC;\n",
              "  }\n",
              "\n",
              "  [theme=dark] .colab-df-quickchart:hover {\n",
              "    background-color: #434B5C;\n",
              "    box-shadow: 0px 1px 3px 1px rgba(0, 0, 0, 0.15);\n",
              "    filter: drop-shadow(0px 1px 2px rgba(0, 0, 0, 0.3));\n",
              "    fill: #FFFFFF;\n",
              "  }\n",
              "</style>\n",
              "\n",
              "    <script>\n",
              "      async function quickchart(key) {\n",
              "        const containerElement = document.querySelector('#' + key);\n",
              "        const charts = await google.colab.kernel.invokeFunction(\n",
              "            'suggestCharts', [key], {});\n",
              "      }\n",
              "    </script>\n",
              "\n",
              "      <script>\n",
              "\n",
              "function displayQuickchartButton(domScope) {\n",
              "  let quickchartButtonEl =\n",
              "    domScope.querySelector('#df-16efb6e8-d4c8-4ce3-823f-31c1a60da741 button.colab-df-quickchart');\n",
              "  quickchartButtonEl.style.display =\n",
              "    google.colab.kernel.accessAllowed ? 'block' : 'none';\n",
              "}\n",
              "\n",
              "        displayQuickchartButton(document);\n",
              "      </script>\n",
              "      <style>\n",
              "    .colab-df-container {\n",
              "      display:flex;\n",
              "      flex-wrap:wrap;\n",
              "      gap: 12px;\n",
              "    }\n",
              "\n",
              "    .colab-df-convert {\n",
              "      background-color: #E8F0FE;\n",
              "      border: none;\n",
              "      border-radius: 50%;\n",
              "      cursor: pointer;\n",
              "      display: none;\n",
              "      fill: #1967D2;\n",
              "      height: 32px;\n",
              "      padding: 0 0 0 0;\n",
              "      width: 32px;\n",
              "    }\n",
              "\n",
              "    .colab-df-convert:hover {\n",
              "      background-color: #E2EBFA;\n",
              "      box-shadow: 0px 1px 2px rgba(60, 64, 67, 0.3), 0px 1px 3px 1px rgba(60, 64, 67, 0.15);\n",
              "      fill: #174EA6;\n",
              "    }\n",
              "\n",
              "    [theme=dark] .colab-df-convert {\n",
              "      background-color: #3B4455;\n",
              "      fill: #D2E3FC;\n",
              "    }\n",
              "\n",
              "    [theme=dark] .colab-df-convert:hover {\n",
              "      background-color: #434B5C;\n",
              "      box-shadow: 0px 1px 3px 1px rgba(0, 0, 0, 0.15);\n",
              "      filter: drop-shadow(0px 1px 2px rgba(0, 0, 0, 0.3));\n",
              "      fill: #FFFFFF;\n",
              "    }\n",
              "  </style>\n",
              "\n",
              "      <script>\n",
              "        const buttonEl =\n",
              "          document.querySelector('#df-422a9446-7866-4f0a-b26a-4cd6f178d768 button.colab-df-convert');\n",
              "        buttonEl.style.display =\n",
              "          google.colab.kernel.accessAllowed ? 'block' : 'none';\n",
              "\n",
              "        async function convertToInteractive(key) {\n",
              "          const element = document.querySelector('#df-422a9446-7866-4f0a-b26a-4cd6f178d768');\n",
              "          const dataTable =\n",
              "            await google.colab.kernel.invokeFunction('convertToInteractive',\n",
              "                                                     [key], {});\n",
              "          if (!dataTable) return;\n",
              "\n",
              "          const docLinkHtml = 'Like what you see? Visit the ' +\n",
              "            '<a target=\"_blank\" href=https://colab.research.google.com/notebooks/data_table.ipynb>data table notebook</a>'\n",
              "            + ' to learn more about interactive tables.';\n",
              "          element.innerHTML = '';\n",
              "          dataTable['output_type'] = 'display_data';\n",
              "          await google.colab.output.renderOutput(dataTable, element);\n",
              "          const docLink = document.createElement('div');\n",
              "          docLink.innerHTML = docLinkHtml;\n",
              "          element.appendChild(docLink);\n",
              "        }\n",
              "      </script>\n",
              "    </div>\n",
              "  </div>\n"
            ]
          },
          "metadata": {},
          "execution_count": 151
        }
      ]
    },
    {
      "cell_type": "markdown",
      "source": [
        "Las características relevantes que usaremos en este caso son:\n",
        "\n",
        "- **Revenue:** si se concretó una venta durante la visita; variable clave de interés. --- ***VARIABLE TARGET***\n",
        "\n",
        "- **Page Values:**  es una métrica utilizada por Google Analytics para medir el valor de una página del sitioweb y compararla con la conversión que tuvo. Permite determinar cuánto Revenue una página está generando basado en el número de personas que visitó la página.\n",
        "\n",
        "- **Traffic type:** Existen varios tipos de tráficos pero el dataset no utiliza labels sólo valores numéricos para separarlos por lo cual no se los puede distinguir.\n",
        "\n",
        "- **Visitor Type :** indica si la visita al sitio web es de un visitante nuevo o recurrente.\n",
        "\n",
        "- **Administrative, Administrative Duration, Informational, Informational Duration, Product Related and Product Related Duration:** representan el número de diferentes tipos de páginas que fueron visitadas en una sesión y la cantidad de tiempo que se pasó en cada categoría de página.\n",
        "\n",
        "Sin embargo se decide dejar a las variables Operating Systems, Browser and Region ya que son de ayuda para definir el tipo de tráfico que recibe un sitio web."
      ],
      "metadata": {
        "id": "rfnMPLfAxi97"
      }
    },
    {
      "cell_type": "markdown",
      "source": [
        "# EDA\n",
        "\n",
        "\n"
      ],
      "metadata": {
        "id": "jTo3w3IfZmPG"
      }
    },
    {
      "cell_type": "code",
      "source": [
        "#se asigna una etiqueta a cada mes para que al utilizar la nueva columna quede ordenado\n",
        "month_dict = {'Feb': 2, 'Mar': 3, 'Apr': 4, 'May': 5, 'June': 6, 'Jul': 7, 'Aug': 8, 'Sep': 9, 'Oct': 10, 'Nov': 11, 'Dec': 12}\n",
        "\n",
        "df['Month_Ordered'] = df['Month'].map(month_dict)\n",
        "\n",
        "df = df.sort_values(by='Month_Ordered')\n",
        "\n",
        "df.drop(['Month'], axis=1, inplace=True)\n",
        "\n",
        "df = df.reset_index(drop=True)\n",
        "\n"
      ],
      "metadata": {
        "id": "aHS2VWYRymbU"
      },
      "execution_count": 152,
      "outputs": []
    },
    {
      "cell_type": "code",
      "source": [
        "# Se convierte Revenue a integer\n",
        "df['Revenue'] = df['Revenue'].astype(int)\n"
      ],
      "metadata": {
        "id": "N5X8WgP1zHsf"
      },
      "execution_count": 153,
      "outputs": []
    },
    {
      "cell_type": "code",
      "source": [
        "# Eliminamos las filas que tengan na\n",
        "df.dropna(inplace = True)"
      ],
      "metadata": {
        "id": "mZDb4rnGa6ii"
      },
      "execution_count": 154,
      "outputs": []
    },
    {
      "cell_type": "code",
      "source": [
        "df.info()"
      ],
      "metadata": {
        "colab": {
          "base_uri": "https://localhost:8080/"
        },
        "id": "iNLOd1SKs9XV",
        "outputId": "79dcccf0-9f53-4f1f-d3aa-e7ae9f5e5376"
      },
      "execution_count": 155,
      "outputs": [
        {
          "output_type": "stream",
          "name": "stdout",
          "text": [
            "<class 'pandas.core.frame.DataFrame'>\n",
            "RangeIndex: 12330 entries, 0 to 12329\n",
            "Data columns (total 18 columns):\n",
            " #   Column                   Non-Null Count  Dtype  \n",
            "---  ------                   --------------  -----  \n",
            " 0   Administrative           12330 non-null  int64  \n",
            " 1   Administrative_Duration  12330 non-null  float64\n",
            " 2   Informational            12330 non-null  int64  \n",
            " 3   Informational_Duration   12330 non-null  float64\n",
            " 4   ProductRelated           12330 non-null  int64  \n",
            " 5   ProductRelated_Duration  12330 non-null  float64\n",
            " 6   BounceRates              12330 non-null  float64\n",
            " 7   ExitRates                12330 non-null  float64\n",
            " 8   PageValues               12330 non-null  float64\n",
            " 9   SpecialDay               12330 non-null  float64\n",
            " 10  OperatingSystems         12330 non-null  int64  \n",
            " 11  Browser                  12330 non-null  int64  \n",
            " 12  Region                   12330 non-null  int64  \n",
            " 13  TrafficType              12330 non-null  int64  \n",
            " 14  VisitorType              12330 non-null  object \n",
            " 15  Weekend                  12330 non-null  bool   \n",
            " 16  Revenue                  12330 non-null  int64  \n",
            " 17  Month_Ordered            12330 non-null  int64  \n",
            "dtypes: bool(1), float64(7), int64(9), object(1)\n",
            "memory usage: 1.6+ MB\n"
          ]
        }
      ]
    },
    {
      "cell_type": "code",
      "source": [
        "page_values = df.groupby('TrafficType')['PageValues'].mean()\n",
        "\n",
        "fig, ax = plt.subplots(figsize=(8, 4))\n",
        "\n",
        "colors = ['#FFD372'] * len(page_values)\n",
        "\n",
        "ax.bar(page_values.index, page_values.values, color=colors)\n",
        "\n",
        "ax.set_xlabel('Traffic Type')\n",
        "ax.set_ylabel('Valor medio de Page Value')\n",
        "ax.set_title('Valores medios de Page Values para Traffic type')\n",
        "\n",
        "plt.show()"
      ],
      "metadata": {
        "colab": {
          "base_uri": "https://localhost:8080/",
          "height": 410
        },
        "id": "sGit84nuZKHh",
        "outputId": "30742f41-742f-4c2f-a9a2-91ef500ed255"
      },
      "execution_count": 156,
      "outputs": [
        {
          "output_type": "display_data",
          "data": {
            "text/plain": [
              "<Figure size 800x400 with 1 Axes>"
            ],
            "image/png": "[encoded data removed]"
          },
          "metadata": {}
        }
      ]
    },
    {
      "cell_type": "markdown",
      "source": [
        "Si bien a simple vista parece que algunos tipos de tráficos tiene mejor Page value. También se analiza el conteo de incidencias de cada tipo de tráfico para analizar la relevancia según el porcentaje que representa del total de visitas."
      ],
      "metadata": {
        "id": "oSzcojkGd8R5"
      }
    },
    {
      "cell_type": "code",
      "source": [
        "df.describe()\n",
        "#se chequea cuantos valores hay de cada uno\n",
        "traffic_type_counts = df['TrafficType'].value_counts()\n",
        "print(traffic_type_counts)"
      ],
      "metadata": {
        "id": "f6hpLpw-2Adz",
        "colab": {
          "base_uri": "https://localhost:8080/"
        },
        "outputId": "b9866315-870c-468e-fc77-d31186d76107"
      },
      "execution_count": 157,
      "outputs": [
        {
          "output_type": "stream",
          "name": "stdout",
          "text": [
            "2     3913\n",
            "1     2451\n",
            "3     2052\n",
            "4     1069\n",
            "13     738\n",
            "10     450\n",
            "6      444\n",
            "8      343\n",
            "5      260\n",
            "11     247\n",
            "20     198\n",
            "9       42\n",
            "7       40\n",
            "15      38\n",
            "19      17\n",
            "14      13\n",
            "18      10\n",
            "16       3\n",
            "12       1\n",
            "17       1\n",
            "Name: TrafficType, dtype: int64\n"
          ]
        }
      ]
    },
    {
      "cell_type": "code",
      "source": [
        "rev_0_count = df.loc[df['Revenue'] == 0, 'TrafficType'].value_counts()\n",
        "rev_1_count = df.loc[df['Revenue'] == 1, 'TrafficType'].value_counts()\n",
        "\n",
        "df_counts = pd.concat([rev_0_count, rev_1_count], axis=1)\n",
        "df_counts.columns = ['Venta = No', 'Venta = Sí']\n",
        "\n",
        "custom_yellow = '#FFD372'\n",
        "\n",
        "fig, ax = plt.subplots(figsize=(5, 4))\n",
        "\n",
        "df_counts.plot(kind='bar', ax=ax, color=['black', custom_yellow])\n",
        "ax.set_xlabel('Tipo de tráfico')\n",
        "ax.set_ylabel('Conteo de ventas')\n",
        "ax.set_title('Tipo de tráfico vs Conversión a venta')\n",
        "plt.xticks(rotation=45)\n",
        "plt.show()\n"
      ],
      "metadata": {
        "id": "uqfFf-fEIVl-",
        "colab": {
          "base_uri": "https://localhost:8080/",
          "height": 420
        },
        "outputId": "b108a55a-7906-4638-b539-ea6e1e75270a"
      },
      "execution_count": 158,
      "outputs": [
        {
          "output_type": "display_data",
          "data": {
            "text/plain": [
              "<Figure size 500x400 with 1 Axes>"
            ],
            "image/png": "[encoded data removed]"
          },
          "metadata": {}
        }
      ]
    },
    {
      "cell_type": "markdown",
      "source": [
        "Con el fin de evaluar tendencias estacionales se evalúa las ventas por mes. Hay más ventas, Revenue=True, durante Marzo y Mayo, no existiendo información para Abril. De Julio a Septiembre parece haber un estancamiento del número de ventas. Hay un pico de ventas en Noviembre coincidiendo con el Black Friday.\n"
      ],
      "metadata": {
        "id": "K25N5BowFQs_"
      }
    },
    {
      "cell_type": "code",
      "source": [
        "df['Revenue'] = df['Revenue'].astype(int)\n",
        "\n",
        "sns.barplot(data=df, x='Month_Ordered', y='Revenue', estimator=np.sum, color='#FFBF46')\n",
        "\n",
        "ax = plt.gca()\n",
        "fig = plt.gcf()\n",
        "fig.set_size_inches(12, 2)\n",
        "\n",
        "labels = ['Febrero', 'Marzo', 'Mayo', 'Junio', 'Julio', 'Agosto', 'Septiembre', 'Octubre', 'Noviembre', 'Diciembre']\n",
        "ax.set_xticklabels(labels)\n",
        "\n",
        "plt.xlabel('Mes')\n",
        "plt.ylabel('Ingresos')\n",
        "plt.show()\n",
        "\n"
      ],
      "metadata": {
        "id": "D00dyX2i2T92",
        "colab": {
          "base_uri": "https://localhost:8080/",
          "height": 233
        },
        "outputId": "666b9f3b-0a4d-4a14-fa3e-db9812a9f574"
      },
      "execution_count": 159,
      "outputs": [
        {
          "output_type": "display_data",
          "data": {
            "text/plain": [
              "<Figure size 1200x200 with 1 Axes>"
            ],
            "image/png": "[encoded data removed]"
          },
          "metadata": {}
        }
      ]
    },
    {
      "cell_type": "code",
      "source": [
        "df_ventas=df[['Month_Ordered', 'VisitorType']]\n",
        "df_ventas.head()"
      ],
      "metadata": {
        "id": "BFMLZpxUxpEl",
        "colab": {
          "base_uri": "https://localhost:8080/",
          "height": 206
        },
        "outputId": "8d444a8f-af1f-4bb3-e21a-9096d4a1c876"
      },
      "execution_count": 160,
      "outputs": [
        {
          "output_type": "execute_result",
          "data": {
            "text/plain": [
              "   Month_Ordered        VisitorType\n",
              "0              2  Returning_Visitor\n",
              "1              2  Returning_Visitor\n",
              "2              2  Returning_Visitor\n",
              "3              2  Returning_Visitor\n",
              "4              2  Returning_Visitor"
            ],
            "text/html": [
              "\n",
              "\n",
              "  <div id=\"df-7b4ddceb-c05b-4212-976b-95a36b7da832\">\n",
              "    <div class=\"colab-df-container\">\n",
              "      <div>\n",
              "<style scoped>\n",
              "    .dataframe tbody tr th:only-of-type {\n",
              "        vertical-align: middle;\n",
              "    }\n",
              "\n",
              "    .dataframe tbody tr th {\n",
              "        vertical-align: top;\n",
              "    }\n",
              "\n",
              "    .dataframe thead th {\n",
              "        text-align: right;\n",
              "    }\n",
              "</style>\n",
              "<table border=\"1\" class=\"dataframe\">\n",
              "  <thead>\n",
              "    <tr style=\"text-align: right;\">\n",
              "      <th></th>\n",
              "      <th>Month_Ordered</th>\n",
              "      <th>VisitorType</th>\n",
              "    </tr>\n",
              "  </thead>\n",
              "  <tbody>\n",
              "    <tr>\n",
              "      <th>0</th>\n",
              "      <td>2</td>\n",
              "      <td>Returning_Visitor</td>\n",
              "    </tr>\n",
              "    <tr>\n",
              "      <th>1</th>\n",
              "      <td>2</td>\n",
              "      <td>Returning_Visitor</td>\n",
              "    </tr>\n",
              "    <tr>\n",
              "      <th>2</th>\n",
              "      <td>2</td>\n",
              "      <td>Returning_Visitor</td>\n",
              "    </tr>\n",
              "    <tr>\n",
              "      <th>3</th>\n",
              "      <td>2</td>\n",
              "      <td>Returning_Visitor</td>\n",
              "    </tr>\n",
              "    <tr>\n",
              "      <th>4</th>\n",
              "      <td>2</td>\n",
              "      <td>Returning_Visitor</td>\n",
              "    </tr>\n",
              "  </tbody>\n",
              "</table>\n",
              "</div>\n",
              "      <button class=\"colab-df-convert\" onclick=\"convertToInteractive('df-7b4ddceb-c05b-4212-976b-95a36b7da832')\"\n",
              "              title=\"Convert this dataframe to an interactive table.\"\n",
              "              style=\"display:none;\">\n",
              "\n",
              "  <svg xmlns=\"http://www.w3.org/2000/svg\" height=\"24px\"viewBox=\"0 0 24 24\"\n",
              "       width=\"24px\">\n",
              "    <path d=\"M0 0h24v24H0V0z\" fill=\"none\"/>\n",
              "    <path d=\"M18.56 5.44l.94 2.06.94-2.06 2.06-.94-2.06-.94-.94-2.06-.94 2.06-2.06.94zm-11 1L8.5 8.5l.94-2.06 2.06-.94-2.06-.94L8.5 2.5l-.94 2.06-2.06.94zm10 10l.94 2.06.94-2.06 2.06-.94-2.06-.94-.94-2.06-.94 2.06-2.06.94z\"/><path d=\"M17.41 7.96l-1.37-1.37c-.4-.4-.92-.59-1.43-.59-.52 0-1.04.2-1.43.59L10.3 9.45l-7.72 7.72c-.78.78-.78 2.05 0 2.83L4 21.41c.39.39.9.59 1.41.59.51 0 1.02-.2 1.41-.59l7.78-7.78 2.81-2.81c.8-.78.8-2.07 0-2.86zM5.41 20L4 18.59l7.72-7.72 1.47 1.35L5.41 20z\"/>\n",
              "  </svg>\n",
              "      </button>\n",
              "\n",
              "\n",
              "\n",
              "    <div id=\"df-c97742e8-2c06-4f35-ba42-1978bb6ed863\">\n",
              "      <button class=\"colab-df-quickchart\" onclick=\"quickchart('df-c97742e8-2c06-4f35-ba42-1978bb6ed863')\"\n",
              "              title=\"Suggest charts.\"\n",
              "              style=\"display:none;\">\n",
              "\n",
              "<svg xmlns=\"http://www.w3.org/2000/svg\" height=\"24px\"viewBox=\"0 0 24 24\"\n",
              "     width=\"24px\">\n",
              "    <g>\n",
              "        <path d=\"M19 3H5c-1.1 0-2 .9-2 2v14c0 1.1.9 2 2 2h14c1.1 0 2-.9 2-2V5c0-1.1-.9-2-2-2zM9 17H7v-7h2v7zm4 0h-2V7h2v10zm4 0h-2v-4h2v4z\"/>\n",
              "    </g>\n",
              "</svg>\n",
              "      </button>\n",
              "    </div>\n",
              "\n",
              "<style>\n",
              "  .colab-df-quickchart {\n",
              "    background-color: #E8F0FE;\n",
              "    border: none;\n",
              "    border-radius: 50%;\n",
              "    cursor: pointer;\n",
              "    display: none;\n",
              "    fill: #1967D2;\n",
              "    height: 32px;\n",
              "    padding: 0 0 0 0;\n",
              "    width: 32px;\n",
              "  }\n",
              "\n",
              "  .colab-df-quickchart:hover {\n",
              "    background-color: #E2EBFA;\n",
              "    box-shadow: 0px 1px 2px rgba(60, 64, 67, 0.3), 0px 1px 3px 1px rgba(60, 64, 67, 0.15);\n",
              "    fill: #174EA6;\n",
              "  }\n",
              "\n",
              "  [theme=dark] .colab-df-quickchart {\n",
              "    background-color: #3B4455;\n",
              "    fill: #D2E3FC;\n",
              "  }\n",
              "\n",
              "  [theme=dark] .colab-df-quickchart:hover {\n",
              "    background-color: #434B5C;\n",
              "    box-shadow: 0px 1px 3px 1px rgba(0, 0, 0, 0.15);\n",
              "    filter: drop-shadow(0px 1px 2px rgba(0, 0, 0, 0.3));\n",
              "    fill: #FFFFFF;\n",
              "  }\n",
              "</style>\n",
              "\n",
              "    <script>\n",
              "      async function quickchart(key) {\n",
              "        const containerElement = document.querySelector('#' + key);\n",
              "        const charts = await google.colab.kernel.invokeFunction(\n",
              "            'suggestCharts', [key], {});\n",
              "      }\n",
              "    </script>\n",
              "\n",
              "      <script>\n",
              "\n",
              "function displayQuickchartButton(domScope) {\n",
              "  let quickchartButtonEl =\n",
              "    domScope.querySelector('#df-c97742e8-2c06-4f35-ba42-1978bb6ed863 button.colab-df-quickchart');\n",
              "  quickchartButtonEl.style.display =\n",
              "    google.colab.kernel.accessAllowed ? 'block' : 'none';\n",
              "}\n",
              "\n",
              "        displayQuickchartButton(document);\n",
              "      </script>\n",
              "      <style>\n",
              "    .colab-df-container {\n",
              "      display:flex;\n",
              "      flex-wrap:wrap;\n",
              "      gap: 12px;\n",
              "    }\n",
              "\n",
              "    .colab-df-convert {\n",
              "      background-color: #E8F0FE;\n",
              "      border: none;\n",
              "      border-radius: 50%;\n",
              "      cursor: pointer;\n",
              "      display: none;\n",
              "      fill: #1967D2;\n",
              "      height: 32px;\n",
              "      padding: 0 0 0 0;\n",
              "      width: 32px;\n",
              "    }\n",
              "\n",
              "    .colab-df-convert:hover {\n",
              "      background-color: #E2EBFA;\n",
              "      box-shadow: 0px 1px 2px rgba(60, 64, 67, 0.3), 0px 1px 3px 1px rgba(60, 64, 67, 0.15);\n",
              "      fill: #174EA6;\n",
              "    }\n",
              "\n",
              "    [theme=dark] .colab-df-convert {\n",
              "      background-color: #3B4455;\n",
              "      fill: #D2E3FC;\n",
              "    }\n",
              "\n",
              "    [theme=dark] .colab-df-convert:hover {\n",
              "      background-color: #434B5C;\n",
              "      box-shadow: 0px 1px 3px 1px rgba(0, 0, 0, 0.15);\n",
              "      filter: drop-shadow(0px 1px 2px rgba(0, 0, 0, 0.3));\n",
              "      fill: #FFFFFF;\n",
              "    }\n",
              "  </style>\n",
              "\n",
              "      <script>\n",
              "        const buttonEl =\n",
              "          document.querySelector('#df-7b4ddceb-c05b-4212-976b-95a36b7da832 button.colab-df-convert');\n",
              "        buttonEl.style.display =\n",
              "          google.colab.kernel.accessAllowed ? 'block' : 'none';\n",
              "\n",
              "        async function convertToInteractive(key) {\n",
              "          const element = document.querySelector('#df-7b4ddceb-c05b-4212-976b-95a36b7da832');\n",
              "          const dataTable =\n",
              "            await google.colab.kernel.invokeFunction('convertToInteractive',\n",
              "                                                     [key], {});\n",
              "          if (!dataTable) return;\n",
              "\n",
              "          const docLinkHtml = 'Like what you see? Visit the ' +\n",
              "            '<a target=\"_blank\" href=https://colab.research.google.com/notebooks/data_table.ipynb>data table notebook</a>'\n",
              "            + ' to learn more about interactive tables.';\n",
              "          element.innerHTML = '';\n",
              "          dataTable['output_type'] = 'display_data';\n",
              "          await google.colab.output.renderOutput(dataTable, element);\n",
              "          const docLink = document.createElement('div');\n",
              "          docLink.innerHTML = docLinkHtml;\n",
              "          element.appendChild(docLink);\n",
              "        }\n",
              "      </script>\n",
              "    </div>\n",
              "  </div>\n"
            ]
          },
          "metadata": {},
          "execution_count": 160
        }
      ]
    },
    {
      "cell_type": "code",
      "source": [
        "grouped = df_ventas.groupby('VisitorType')['VisitorType'].count()\n",
        "\n",
        "plt.figure(figsize=(4, 4))\n",
        "\n",
        "colors = ['black', 'green', '#FFD372']\n",
        "labels = ['Visitante nuevo', 'Otros', 'Visitante recurrente']\n",
        "\n",
        "plt.title('Porcentaje de usuario nuevos y recurrentes')\n",
        "plt.pie(x=grouped, labels=labels, colors=colors)\n",
        "plt.show()"
      ],
      "metadata": {
        "id": "967vxjI-y-9Q",
        "colab": {
          "base_uri": "https://localhost:8080/",
          "height": 367
        },
        "outputId": "78a68de5-d45c-4ae3-e3ac-48720e43eb9f"
      },
      "execution_count": 161,
      "outputs": [
        {
          "output_type": "display_data",
          "data": {
            "text/plain": [
              "<Figure size 400x400 with 1 Axes>"
            ],
            "image/png": "[encoded data removed]"
          },
          "metadata": {}
        }
      ]
    },
    {
      "cell_type": "code",
      "source": [
        "mode = pd.Series(grouped).mode()\n",
        "print('Mode:', mode)\n"
      ],
      "metadata": {
        "id": "PM7G91kmzAtG",
        "colab": {
          "base_uri": "https://localhost:8080/"
        },
        "outputId": "7924c38c-0068-4603-93b2-2aee8ff6bfee"
      },
      "execution_count": 162,
      "outputs": [
        {
          "output_type": "stream",
          "name": "stdout",
          "text": [
            "Mode: 0       85\n",
            "1     1694\n",
            "2    10551\n",
            "Name: VisitorType, dtype: int64\n"
          ]
        }
      ]
    },
    {
      "cell_type": "markdown",
      "source": [
        "Al ser Returning Visitor y New Visitor variables categóricas se estudia la moda para analizar los valores que más aparecen.\n",
        "\n",
        "*   Returning Visitor tiene una moda de 10551.\n",
        "*   New Visitor tiene una moda de 1694.\n",
        "\n",
        "Resulta evidente que la cantidad de nuevos visitantes es mínima respecto a los visitantes recurrentes, representando sólo el 13.7% del total de visitas.\n",
        "\n"
      ],
      "metadata": {
        "id": "MsYzV5Y3zEPC"
      }
    },
    {
      "cell_type": "markdown",
      "source": [
        "Siguiendo con lo anterior, se evalua si cada tipo de cliente genera Revenue o no y si es durante un día de semana o no.La mayoría de las ventas se realizó durante un día de semana, Weekend=False.\n",
        "\n"
      ],
      "metadata": {
        "id": "faqLNAlyCejH"
      }
    },
    {
      "cell_type": "code",
      "source": [
        "custom_palette = {0: 'black', 1: '#FFD372'}\n",
        "\n",
        "sns.countplot(data=df, x='Weekend', hue='Revenue', palette=custom_palette)\n",
        "\n",
        "plt.xticks([0, 1], ['Dia de semana', 'Fin de semana'])\n",
        "\n",
        "plt.xlabel('Momento de la semana')\n",
        "plt.ylabel('Conteo de sesiones')\n",
        "plt.title('Ventas en Día semanal vs. Fin de semana')\n",
        "plt.legend(title='VENTA', labels=['NO', 'SÍ'])\n",
        "\n",
        "plt.show()\n"
      ],
      "metadata": {
        "id": "n-FI--ARcAoC",
        "colab": {
          "base_uri": "https://localhost:8080/",
          "height": 487
        },
        "outputId": "cba7c7f1-fd46-40a7-b1d4-fa37fc08ff26"
      },
      "execution_count": 163,
      "outputs": [
        {
          "output_type": "display_data",
          "data": {
            "text/plain": [
              "<Figure size 800x500 with 1 Axes>"
            ],
            "image/png": "[encoded data removed]"
          },
          "metadata": {}
        }
      ]
    },
    {
      "cell_type": "code",
      "source": [
        "bounce_rate_gt_zero = df[df['BounceRates'] > 0]['BounceRates'].count()\n",
        "total_sessions = df.shape[0]\n",
        "percent_gt_zero = bounce_rate_gt_zero / total_sessions * 100\n",
        "\n",
        "print(f\"El porcentaje de sesiones con un bounce rate mayor a 0 es: {percent_gt_zero:.2f}%\")"
      ],
      "metadata": {
        "id": "mDHlySo22TRW",
        "colab": {
          "base_uri": "https://localhost:8080/"
        },
        "outputId": "0d90f175-7d7b-420a-8dd5-aa84ba6d719b"
      },
      "execution_count": 164,
      "outputs": [
        {
          "output_type": "stream",
          "name": "stdout",
          "text": [
            "El porcentaje de sesiones con un bounce rate mayor a 0 es: 55.25%\n"
          ]
        }
      ]
    },
    {
      "cell_type": "markdown",
      "source": [
        "Se evalua númericamente la correlación entre Bounce Rates y Exit Rates para luego graficarla utilizarla como referencia en un scatter plot entre ambas funciones."
      ],
      "metadata": {
        "id": "b6n_EyvsGaNo"
      }
    },
    {
      "cell_type": "code",
      "source": [
        "corr = df['BounceRates'].corr(df['ExitRates'])\n",
        "\n",
        "print(f\"Correlación entre BounceRates y ExitRates: {corr:.3f}\")"
      ],
      "metadata": {
        "id": "D5liXP8k7hGy",
        "colab": {
          "base_uri": "https://localhost:8080/"
        },
        "outputId": "2a63cb5e-830d-4d59-85c0-ffa240b49a82"
      },
      "execution_count": 165,
      "outputs": [
        {
          "output_type": "stream",
          "name": "stdout",
          "text": [
            "Correlación entre BounceRates y ExitRates: 0.913\n"
          ]
        }
      ]
    },
    {
      "cell_type": "code",
      "source": [
        "#scatter plot entre Exit y Bounce Rates\n",
        "\n",
        "scatter_plot = plt.scatter(x=df['BounceRates'], y=df['ExitRates'], c=df['Revenue'], cmap=cm.YlGnBu)\n",
        "plt.rcParams['figure.figsize'] = (8, 5)\n",
        "\n",
        "scatter_plot.set_cmap(cm.YlGnBu)\n",
        "scatter_plot.set_clim(0, 1)\n",
        "\n",
        "cbar = plt.colorbar(scatter_plot)\n",
        "cbar.set_label('Revenue')\n",
        "\n",
        "# Se le agrega la línea de regresión\n",
        "sns.regplot(x=df['BounceRates'], y=df['ExitRates'], scatter=False, line_kws={'alpha': 0.5})\n",
        "\n",
        "plt.text(x=0.15, y=0.05, s='Correlation = 0.913')\n",
        "\n",
        "plt.xlabel('Bounce Rates')\n",
        "plt.ylabel('Exit Rates')\n",
        "plt.title('Relación entre Exit Rates y Bounce Rates')\n",
        "\n",
        "\n",
        "plt.show()\n"
      ],
      "metadata": {
        "id": "d0tYqulG6s58",
        "colab": {
          "base_uri": "https://localhost:8080/",
          "height": 488
        },
        "outputId": "c9416423-d230-4ca9-bf82-d78837661b03"
      },
      "execution_count": 166,
      "outputs": [
        {
          "output_type": "display_data",
          "data": {
            "text/plain": [
              "<Figure size 800x500 with 2 Axes>"
            ],
            "image/png": "[encoded data removed]"
          },
          "metadata": {}
        }
      ]
    },
    {
      "cell_type": "markdown",
      "source": [
        "Dado que Exit Rate es una medida más específica del comportamiento de los usuarios que Bounce Rate, es más relevante utilizarla como variable dependiente. Esto podría ayudar a evaluar patrones o relaciones entre el sitio y los visitantes que solo se van para saber qué páginas optimizar"
      ],
      "metadata": {
        "id": "YHsqwLB56XkI"
      }
    },
    {
      "cell_type": "markdown",
      "source": [
        "# INSIGHTS Y PRIMERAS RECOMENDACIONES\n"
      ],
      "metadata": {
        "id": "2ow63aQg9SKT"
      }
    },
    {
      "cell_type": "markdown",
      "source": [
        "Con el fin de mejorar los resultados obtenidos se recomienda.\n",
        "\n",
        "* Realizar un test A/B para mejorar el sitio web de tal manera que sea intuitivo.\n",
        "\n",
        "* Mejorar la estrategia de SEO para que las visitas que lleguen a través de motores de búsqueda encuentren el contenido correcto.\n",
        "\n",
        "* Mejorar el embudo de venta. Dado que la proporción de visitantes nuevos es baja, se recomienda enfocar las estrategias en primera instancia en generar brand awareness. Si bien es importante mantener clientes recurrentes, al acceder a un mercado mayor se puede generar un revenue mayor.\n",
        "\n",
        "* Mejores estrategias de conversión. Haciendo foco en la atracción de clientes durante el fin de semana.\n",
        "\n",
        "* Hacer uso de eventos de ventas como el Black Friday para atraer a nuevos clientes.\n",
        "\n",
        "\n"
      ],
      "metadata": {
        "id": "3kUkT2EN9WyN"
      }
    },
    {
      "cell_type": "markdown",
      "source": [
        "# BALANCEO DE CLASES"
      ],
      "metadata": {
        "id": "XeD6qhF9aVni"
      }
    },
    {
      "cell_type": "markdown",
      "source": [
        "Ya que el dataset está desbalanceado, de las 12,330 sesiones el 84.5% (10,422), no resultaron en venta, es decir: Revenue=0. Al ser una diferencia demasiado grande se opta por el método de Undersampling y se eliminan aleatoriamente instancias negativas para alcanzar un porcentaje de 75% de instancias negativas contra un 25% de instancias positivas."
      ],
      "metadata": {
        "id": "9zfmtdZ4aYvx"
      }
    },
    {
      "cell_type": "code",
      "source": [
        "# se divide el dataset en 2\n",
        "df_false = df[df['Revenue'] == 0]\n",
        "df_true = df[df['Revenue'] == 1]\n",
        "\n",
        "# Se determina el porcentaje que queremos tener al final\n",
        "num_instances_false = int(0.75 * len(df_false))\n",
        "\n",
        "#Se eligen al azar las instancias\n",
        "df_false_sampled = df_false.sample(n=num_instances_false, random_state=42)\n",
        "\n",
        "#Acá nos queda el df nuevo concatenado\n",
        "df_balanced = pd.concat([df_false_sampled, df_true])\n",
        "\n",
        "#Sobreescibo el anterior para no tener que cambiarlo en todo lo que hice\n",
        "df = df_balanced\n"
      ],
      "metadata": {
        "id": "uSFAvhmgbRZz"
      },
      "execution_count": 167,
      "outputs": []
    },
    {
      "cell_type": "code",
      "source": [
        "df.info()"
      ],
      "metadata": {
        "colab": {
          "base_uri": "https://localhost:8080/"
        },
        "id": "hJxRnSWccXpU",
        "outputId": "1394cea4-cf9f-455d-c3aa-d0c078a55d6c"
      },
      "execution_count": 168,
      "outputs": [
        {
          "output_type": "stream",
          "name": "stdout",
          "text": [
            "<class 'pandas.core.frame.DataFrame'>\n",
            "Int64Index: 9724 entries, 9192 to 12320\n",
            "Data columns (total 18 columns):\n",
            " #   Column                   Non-Null Count  Dtype  \n",
            "---  ------                   --------------  -----  \n",
            " 0   Administrative           9724 non-null   int64  \n",
            " 1   Administrative_Duration  9724 non-null   float64\n",
            " 2   Informational            9724 non-null   int64  \n",
            " 3   Informational_Duration   9724 non-null   float64\n",
            " 4   ProductRelated           9724 non-null   int64  \n",
            " 5   ProductRelated_Duration  9724 non-null   float64\n",
            " 6   BounceRates              9724 non-null   float64\n",
            " 7   ExitRates                9724 non-null   float64\n",
            " 8   PageValues               9724 non-null   float64\n",
            " 9   SpecialDay               9724 non-null   float64\n",
            " 10  OperatingSystems         9724 non-null   int64  \n",
            " 11  Browser                  9724 non-null   int64  \n",
            " 12  Region                   9724 non-null   int64  \n",
            " 13  TrafficType              9724 non-null   int64  \n",
            " 14  VisitorType              9724 non-null   object \n",
            " 15  Weekend                  9724 non-null   bool   \n",
            " 16  Revenue                  9724 non-null   int64  \n",
            " 17  Month_Ordered            9724 non-null   int64  \n",
            "dtypes: bool(1), float64(7), int64(9), object(1)\n",
            "memory usage: 1.3+ MB\n"
          ]
        }
      ]
    },
    {
      "cell_type": "markdown",
      "source": [
        "# TEST DE HIPÓTESIS\n"
      ],
      "metadata": {
        "id": "0Eq2uGFuS2YN"
      }
    },
    {
      "cell_type": "markdown",
      "source": [
        "Se realiza una prueba para testear la hipótesis nula de que los días que no son SpecialDay hay más ventas. Es decir, se plantea que cuando SpecialDay=0, se generan más ventas en comparación a cuando SpecialDay>0.\n",
        "\n",
        "Para ello se realiza una prueba de cola inferior (one-tailed test) para verificar si la media de las ventas en los días no especiales es mayor que la media de las ventas en los días especiales.\n",
        "\n",
        "Dividimos el valor p por 2 (p_value/2) debido a que se trata de una prueba de cola inferior y solo estamos interesados en la probabilidad de obtener valores menores que el observado."
      ],
      "metadata": {
        "id": "uztJJGx_UOI1"
      }
    },
    {
      "cell_type": "code",
      "source": [
        "# Se divide la data en 2: SpecialDays y non-SpecialDays\n",
        "special_days = df[df['SpecialDay'] > 0]['Revenue']\n",
        "non_special_days = df[df['SpecialDay'] == 0]['Revenue']\n",
        "\n",
        "# Se corre un t-test para comparar las ventas entre los 2 grupos\n",
        "t_statistic, p_value = stats.ttest_ind(special_days, non_special_days, alternative='less')\n",
        "\n",
        "print(\"T-Statistic:\", t_statistic)\n",
        "print(\"P-Value:\", p_value/2)\n",
        "\n"
      ],
      "metadata": {
        "colab": {
          "base_uri": "https://localhost:8080/"
        },
        "id": "xDUj3DtWYAkH",
        "outputId": "664cf433-6c28-4f98-fbdd-67156f4b5422"
      },
      "execution_count": 169,
      "outputs": [
        {
          "output_type": "stream",
          "name": "stdout",
          "text": [
            "T-Statistic: -9.715021797185896\n",
            "P-Value: 8.206660369039937e-23\n"
          ]
        }
      ]
    },
    {
      "cell_type": "markdown",
      "source": [
        "Estos resultados respaldan la idea de que las ventas en los días especiales son significativamente menores que las ventas en los días no especiales. El valor extremadamente bajo del P-Value indica una fuerte evidencia en contra de la hipótesis nula y sugiere que hay una diferencia significativa en las ventas entre los dos grupos.\n",
        "\n",
        "En este contexto, los resultados sugieren que hay una diferencia significativa en las ventas entre los días especiales y los días no especiales y que las ventas en los **días especiales** son significativamente **menores** que las ventas en los días no especiales.\n",
        "\n",
        "Por lo cual no se puede refutar la H0."
      ],
      "metadata": {
        "id": "qKXhZq9zY6CQ"
      }
    },
    {
      "cell_type": "markdown",
      "source": [
        "# FEATURE ENGINEERING\n",
        "\n"
      ],
      "metadata": {
        "id": "jZbfCQ-6dX-G"
      }
    },
    {
      "cell_type": "markdown",
      "source": [
        "## TIME ON SITE\n",
        "\n",
        "\n"
      ],
      "metadata": {
        "id": "EcJpsPFh0LO4"
      }
    },
    {
      "cell_type": "markdown",
      "source": [
        "Una KPI habitual en Marketing digital es el tiempo que pasa el usuario en el sitio por lo que se crea una nueva columna uniendo Administrative_Duration, Informational_Duration y ProductRelated_Duration."
      ],
      "metadata": {
        "id": "38VtU3oa0QSX"
      }
    },
    {
      "cell_type": "code",
      "source": [
        "# creamos una lista con las 3 columnas de duración\n",
        "duration_columns = ['Administrative_Duration', 'Informational_Duration', 'ProductRelated_Duration']\n",
        "\n",
        "# Creamos una nueva columna Time on Site para sumarlass\n",
        "df['TimeOnSite'] = df[duration_columns].sum(axis=1)\n",
        "\n",
        "# borramos las columnas originales\n",
        "df.drop(duration_columns, axis=1, inplace=True)\n",
        "\n"
      ],
      "metadata": {
        "id": "56m88cjO0D_l"
      },
      "execution_count": 170,
      "outputs": []
    },
    {
      "cell_type": "code",
      "source": [
        "df.info()"
      ],
      "metadata": {
        "colab": {
          "base_uri": "https://localhost:8080/"
        },
        "id": "WjTsCghF1ms2",
        "outputId": "69940272-641d-4d3c-b64e-f9547404ac9c"
      },
      "execution_count": 171,
      "outputs": [
        {
          "output_type": "stream",
          "name": "stdout",
          "text": [
            "<class 'pandas.core.frame.DataFrame'>\n",
            "Int64Index: 9724 entries, 9192 to 12320\n",
            "Data columns (total 16 columns):\n",
            " #   Column            Non-Null Count  Dtype  \n",
            "---  ------            --------------  -----  \n",
            " 0   Administrative    9724 non-null   int64  \n",
            " 1   Informational     9724 non-null   int64  \n",
            " 2   ProductRelated    9724 non-null   int64  \n",
            " 3   BounceRates       9724 non-null   float64\n",
            " 4   ExitRates         9724 non-null   float64\n",
            " 5   PageValues        9724 non-null   float64\n",
            " 6   SpecialDay        9724 non-null   float64\n",
            " 7   OperatingSystems  9724 non-null   int64  \n",
            " 8   Browser           9724 non-null   int64  \n",
            " 9   Region            9724 non-null   int64  \n",
            " 10  TrafficType       9724 non-null   int64  \n",
            " 11  VisitorType       9724 non-null   object \n",
            " 12  Weekend           9724 non-null   bool   \n",
            " 13  Revenue           9724 non-null   int64  \n",
            " 14  Month_Ordered     9724 non-null   int64  \n",
            " 15  TimeOnSite        9724 non-null   float64\n",
            "dtypes: bool(1), float64(5), int64(9), object(1)\n",
            "memory usage: 1.2+ MB\n"
          ]
        }
      ]
    },
    {
      "cell_type": "markdown",
      "source": [
        "## TOTAL DE PÁGINAS VISITADAS"
      ],
      "metadata": {
        "id": "FTe4ZirG2ujg"
      }
    },
    {
      "cell_type": "markdown",
      "source": [
        "Otra métrica importante es el total de páginas que visitó el usuario. El dataset original distingue entre 3 tipos de páginas, dado que para nuestro análisis la distinción es irrelevante elegimos unificarlas en una sola columna."
      ],
      "metadata": {
        "id": "mhBsBbnJ2zbJ"
      }
    },
    {
      "cell_type": "code",
      "source": [
        "# Creamos una lista con las columnas que tienen la información de cantidad de páginas visitadas\n",
        "page_category_columns = ['Administrative', 'Informational', 'ProductRelated']\n",
        "\n",
        "# Creamos una columna nueva 'Total_Pages_Visited'\n",
        "df['TotalPagesVisited'] = df[page_category_columns].sum(axis=1)\n",
        "\n",
        "# Eliminamos las columnas anteriores\n",
        "df.drop(page_category_columns, axis=1, inplace=True)\n",
        "\n",
        "df.info()\n"
      ],
      "metadata": {
        "colab": {
          "base_uri": "https://localhost:8080/"
        },
        "id": "IrFOSTfG2sS8",
        "outputId": "069908ee-0b3a-40e7-9c08-0ae6626faed2"
      },
      "execution_count": 172,
      "outputs": [
        {
          "output_type": "stream",
          "name": "stdout",
          "text": [
            "<class 'pandas.core.frame.DataFrame'>\n",
            "Int64Index: 9724 entries, 9192 to 12320\n",
            "Data columns (total 14 columns):\n",
            " #   Column             Non-Null Count  Dtype  \n",
            "---  ------             --------------  -----  \n",
            " 0   BounceRates        9724 non-null   float64\n",
            " 1   ExitRates          9724 non-null   float64\n",
            " 2   PageValues         9724 non-null   float64\n",
            " 3   SpecialDay         9724 non-null   float64\n",
            " 4   OperatingSystems   9724 non-null   int64  \n",
            " 5   Browser            9724 non-null   int64  \n",
            " 6   Region             9724 non-null   int64  \n",
            " 7   TrafficType        9724 non-null   int64  \n",
            " 8   VisitorType        9724 non-null   object \n",
            " 9   Weekend            9724 non-null   bool   \n",
            " 10  Revenue            9724 non-null   int64  \n",
            " 11  Month_Ordered      9724 non-null   int64  \n",
            " 12  TimeOnSite         9724 non-null   float64\n",
            " 13  TotalPagesVisited  9724 non-null   int64  \n",
            "dtypes: bool(1), float64(5), int64(7), object(1)\n",
            "memory usage: 1.0+ MB\n"
          ]
        }
      ]
    },
    {
      "cell_type": "markdown",
      "source": [
        "Se decide eliminar la variante Visitor Type"
      ],
      "metadata": {
        "id": "01lx4iI0nRvL"
      }
    },
    {
      "cell_type": "code",
      "source": [
        "df = df.drop(\"VisitorType\", axis=1)"
      ],
      "metadata": {
        "id": "K4DbHdHfnU42"
      },
      "execution_count": 173,
      "outputs": []
    },
    {
      "cell_type": "markdown",
      "source": [
        "#  ELECCIÓN DE MODELO DE CLASIFICACIÓN PARA ENTRENAR EL MODELO"
      ],
      "metadata": {
        "id": "M1mzwvfy3YtE"
      }
    },
    {
      "cell_type": "markdown",
      "source": [
        "SELECCIÓN DE HIPERPARAMETROS"
      ],
      "metadata": {
        "id": "OS_YlXxR7KO5"
      }
    },
    {
      "cell_type": "markdown",
      "source": [
        "Usamos GridSearch para buscar los mejores híper parametros para los modelos seleccionados antes de entrenarlos."
      ],
      "metadata": {
        "id": "_Tx41SEp7NQO"
      }
    },
    {
      "cell_type": "code",
      "source": [
        "X = df.drop(columns=['Revenue'])\n",
        "y = df['Revenue']\n",
        "\n",
        "# Dividir entre train y test\n",
        "X_train, X_test, y_train, y_test = train_test_split(X, y, test_size=0.2, random_state=42)\n",
        "\n",
        "# Lista de modelos\n",
        "models = [\n",
        "    (\"XGBoost\", XGBClassifier(), {\"model__learning_rate\": [0.1, 0.01], \"model__max_depth\": [3, 5]}),\n",
        "    (\"Random Forest\", RandomForestClassifier(), {\"model__n_estimators\": [50, 100, 200]}),\n",
        "    (\"Logistic Regression\", LogisticRegression(), {\"model__C\": [1, 10], \"model__solver\": [\"liblinear\", \"saga\"]})\n",
        "]\n",
        "\n",
        "# Grid search para cada modelo\n",
        "for model_name, model, param_grid in models:\n",
        "    pipeline = Pipeline([\n",
        "        (\"model\", model)\n",
        "    ])\n",
        "\n",
        "    grid_search = GridSearchCV(pipeline, param_grid, cv=5, scoring=\"accuracy\")\n",
        "    grid_search.fit(X_train, y_train)\n",
        "\n",
        "    best_params = grid_search.best_params_\n",
        "    best_score = grid_search.best_score_\n",
        "\n",
        "    print(f\"Model: {model_name}\")\n",
        "    print(f\"Best Parameters: {best_params}\")\n",
        "    print(f\"Best Score: {best_score}\\n\")\n",
        "\n"
      ],
      "metadata": {
        "id": "qRTOX6cD7X0f",
        "colab": {
          "base_uri": "https://localhost:8080/"
        },
        "outputId": "cf98ab84-c7f8-4f85-fa95-75991beb26de"
      },
      "execution_count": 174,
      "outputs": [
        {
          "output_type": "stream",
          "name": "stdout",
          "text": [
            "Model: XGBoost\n",
            "Best Parameters: {'model__learning_rate': 0.1, 'model__max_depth': 3}\n",
            "Best Score: 0.8942041180700784\n",
            "\n",
            "Model: Random Forest\n",
            "Best Parameters: {'model__n_estimators': 200}\n",
            "Best Score: 0.885719257061143\n",
            "\n",
            "Model: Logistic Regression\n",
            "Best Parameters: {'model__C': 10, 'model__solver': 'liblinear'}\n",
            "Best Score: 0.8591086882847436\n",
            "\n"
          ]
        }
      ]
    },
    {
      "cell_type": "code",
      "source": [
        "#Se busca mejorar el modelo de XGBoost\n",
        "X = df.drop(columns=['Revenue'])\n",
        "y = df['Revenue']\n",
        "\n",
        "X_train, X_test, y_train, y_test = train_test_split(X, y, test_size=0.2, random_state=42)\n",
        "\n",
        "# Definir el rango de hiperparámetros para la búsqueda aleatoria de XGBoost\n",
        "param_dist = {\n",
        "    'model__max_depth': randint(5, 35),\n",
        "    'model__eta': uniform(0.01, 0.17),\n",
        "    'model__colsample_bytree': uniform(0.83, 0.25),\n",
        "    'model__min_child_weight': randint(1, 73),\n",
        "    'model__max_delta_step': randint(0, 13),\n",
        "    'model__gamma': uniform(1, 7.0),\n",
        "    'model__subsample': uniform(0.83, 0.25)\n",
        "}\n",
        "\n",
        "# Crear el modelo XGBoost dentro del pipeline\n",
        "xgboost_model = XGBClassifier()\n",
        "\n",
        "# Crear el pipeline con el modelo\n",
        "pipeline = Pipeline([\n",
        "    (\"model\", xgboost_model)\n",
        "])\n",
        "\n",
        "# Realizar la búsqueda aleatoria de hiperparámetros\n",
        "random_search = RandomizedSearchCV(pipeline, param_distributions=param_dist, cv=5, scoring=\"accuracy\", n_iter=50, random_state=42)\n",
        "random_search.fit(X_train, y_train)\n",
        "\n",
        "best_params = random_search.best_params_\n",
        "best_score = random_search.best_score_\n",
        "\n",
        "print(\"Best Parameters for XGBoost:\")\n",
        "print(best_params)\n",
        "print(f\"Best Score: {best_score}\\n\")\n"
      ],
      "metadata": {
        "colab": {
          "base_uri": "https://localhost:8080/"
        },
        "id": "hbEOZpm8QN5w",
        "outputId": "10beb7ff-1170-4892-d344-277db7b4337c"
      },
      "execution_count": 175,
      "outputs": [
        {
          "output_type": "stream",
          "name": "stdout",
          "text": [
            "Best Parameters for XGBoost:\n",
            "{'model__colsample_bytree': 0.9282744311666901, 'model__eta': 0.16164791438010928, 'model__gamma': 5.41797038198084, 'model__max_delta_step': 1, 'model__max_depth': 25, 'model__min_child_weight': 30, 'model__subsample': 0.9912758405076412}\n",
            "Best Score: 0.8934322485720662\n",
            "\n"
          ]
        }
      ]
    },
    {
      "cell_type": "markdown",
      "source": [
        "SELECCIÓN DE MODELO DE BENCHMARK"
      ],
      "metadata": {
        "id": "GOeMKvcEyi6h"
      }
    },
    {
      "cell_type": "markdown",
      "source": [
        "Un modelo de benchmark se refiere a un punto de referencia o estándar utilizado para comparar el desempeño o la eficacia de otros modelos o enfoques. El modelo de benchmark generalmente es conocido por su buen desempeño y se utiliza como punto de referencia para medir si los nuevos modelos son capaces de superarlo o si presentan un rendimiento comparable. En nuestro caso elegimos usar un modelo de Regresión Logísitica dado que es un modelo flexible que permite trabajar con variables independientes de diferentes tipos (categóricas, binarias o continuas). En el caso del tipo de tráfico, una variable categórica, la regresión logística puede manejar eficazmente este tipo de datos y proporcionar predicciones precisas basadas en ellos."
      ],
      "metadata": {
        "id": "Z8z6xKi0ynyG"
      }
    },
    {
      "cell_type": "markdown",
      "source": [
        "REGRESIÓN LOGÍSTICA"
      ],
      "metadata": {
        "id": "z-dIKL5SIYE0"
      }
    },
    {
      "cell_type": "code",
      "source": [
        "# Sacamos la variable target\n",
        "X = df.drop(['Revenue'], axis=1)\n",
        "y = df['Revenue']\n",
        "\n",
        "# Div. entre train y test\n",
        "X_train, X_test, y_train, y_test = train_test_split(X, y, test_size=0.2, random_state=42)\n",
        "\n",
        "# Usamos StandardScaler para estandarizar\n",
        "scaler = StandardScaler()\n",
        "X_train_scaled = scaler.fit_transform(X_train)\n",
        "X_test_scaled = scaler.transform(X_test)\n",
        "\n",
        "# Se entrena el modelo\n",
        "logreg = LogisticRegression(C=10, solver='liblinear', random_state=42, max_iter=1000)\n",
        "logreg.fit(X_train_scaled, y_train)\n",
        "\n",
        "# prediccion del test de testing\n",
        "y_pred = logreg.predict(X_test_scaled)\n",
        "\n",
        "# Evaluar la accuracy del modelo\n",
        "accuracy = accuracy_score(y_test, y_pred)\n",
        "print(f\"Accuracy: {accuracy:.2f}\")\n",
        "\n",
        "precision = precision_score(y_test, y_pred)\n",
        "recall = recall_score(y_test, y_pred)\n",
        "f1 = f1_score(y_test, y_pred)\n",
        "roc_auc = roc_auc_score(y_test, y_pred)\n",
        "\n",
        "print(f\"Precision: {precision:.2f}\")\n",
        "print(f\"Recall: {recall:.2f}\")\n",
        "print(f\"F1 score: {f1:.2f}\")\n",
        "print(f\"ROC-AUC score: {roc_auc:.2f}\")\n"
      ],
      "metadata": {
        "id": "tCR0DGUM0bix",
        "colab": {
          "base_uri": "https://localhost:8080/"
        },
        "outputId": "86ef57a7-b350-4353-b817-a5893931a309"
      },
      "execution_count": 176,
      "outputs": [
        {
          "output_type": "stream",
          "name": "stdout",
          "text": [
            "Accuracy: 0.86\n",
            "Precision: 0.77\n",
            "Recall: 0.42\n",
            "F1 score: 0.55\n",
            "ROC-AUC score: 0.70\n"
          ]
        }
      ]
    },
    {
      "cell_type": "markdown",
      "source": [
        "RANDOM FOREST"
      ],
      "metadata": {
        "id": "WiEYb9QCixaD"
      }
    },
    {
      "cell_type": "code",
      "source": [
        "\n",
        "# Empezar y entrenar el Random Forest clasificador con los parametros\n",
        "rf = RandomForestClassifier(n_estimators=100, max_depth=5, random_state=42)\n",
        "rf.fit(X_train_scaled, y_train)\n",
        "\n",
        "y_pred = rf.predict(X_test_scaled)\n",
        "\n",
        "# Calculamos las métricas de evaluación\n",
        "accuracy = accuracy_score(y_test, y_pred)\n",
        "precision = precision_score(y_test, y_pred)\n",
        "recall = recall_score(y_test, y_pred)\n",
        "f1 = f1_score(y_test, y_pred)\n",
        "roc_auc = roc_auc_score(y_test, y_pred)\n",
        "\n",
        "print(f\"Accuracy: {accuracy:.3f}\")\n",
        "print(f\"Precision: {precision:.3f}\")\n",
        "print(f\"Recall: {recall:.3f}\")\n",
        "print(f\"F1 Score: {f1:.3f}\")\n",
        "print(f\"ROC-AUC score: {roc_auc:.2f}\")\n"
      ],
      "metadata": {
        "id": "ArnWqDz-ihIO",
        "colab": {
          "base_uri": "https://localhost:8080/"
        },
        "outputId": "011ba4d3-78da-4129-c4a6-ee9c7c52a180"
      },
      "execution_count": 177,
      "outputs": [
        {
          "output_type": "stream",
          "name": "stdout",
          "text": [
            "Accuracy: 0.884\n",
            "Precision: 0.762\n",
            "Recall: 0.618\n",
            "F1 Score: 0.683\n",
            "ROC-AUC score: 0.78\n"
          ]
        }
      ]
    },
    {
      "cell_type": "markdown",
      "source": [
        " XG.BOOST"
      ],
      "metadata": {
        "id": "Ebnr1IO-haFM"
      }
    },
    {
      "cell_type": "code",
      "source": [
        "X = df.drop(['Revenue'], axis=1)\n",
        "y = df['Revenue']\n",
        "\n",
        "X_train, X_test, y_train, y_test = train_test_split(X, y, test_size=0.2, random_state=42)\n",
        "\n",
        "clf = xgb.XGBClassifier(\n",
        "    n_estimators=80,\n",
        "    learning_rate=0.1,\n",
        "    max_depth=25,\n",
        "    colsample_bytree= 0.9282744311666901,\n",
        "    eta=0.16164791438010928,\n",
        "    gamma=5.41797038198084,\n",
        "    max_delta_step=1,\n",
        "    min_child_weight=30,\n",
        "    subsample=0.9912758405076412,\n",
        "    random_state=42\n",
        ")\n",
        "\n",
        "clf.fit(X_train, y_train)\n",
        "\n",
        "y_pred = clf.predict(X_test)\n",
        "\n",
        "accuracy = accuracy_score(y_test, y_pred)\n",
        "roc_auc = roc_auc_score(y_test, y_pred)\n",
        "precision = precision_score(y_test, y_pred)\n",
        "recall = recall_score(y_test, y_pred)\n",
        "f1 = f1_score(y_test, y_pred)\n",
        "\n",
        "print(f\"Accuracy: {accuracy:.2f}\")\n",
        "print(f\"Precision: {precision:.2f}\")\n",
        "print(f\"Recall: {recall:.2f}\")\n",
        "print(f\"F1 score: {f1:.2f}\")\n",
        "print(f\"ROC-AUC score: {roc_auc:.2f}\")\n",
        "\n"
      ],
      "metadata": {
        "id": "1CO4kQL16mJv",
        "colab": {
          "base_uri": "https://localhost:8080/"
        },
        "outputId": "7a7aaca1-17c9-48ae-d08d-c7aa9b456747"
      },
      "execution_count": 178,
      "outputs": [
        {
          "output_type": "stream",
          "name": "stdout",
          "text": [
            "Accuracy: 0.89\n",
            "Precision: 0.75\n",
            "Recall: 0.68\n",
            "F1 score: 0.71\n",
            "ROC-AUC score: 0.81\n"
          ]
        }
      ]
    },
    {
      "cell_type": "markdown",
      "source": [
        "Hacemos las matrices de confusión para los 3 modelos elegidos."
      ],
      "metadata": {
        "id": "KqNkuBEHMQfn"
      }
    },
    {
      "cell_type": "code",
      "source": [
        "# Define the models of interest\n",
        "models = [\n",
        "    (\"XGBoost\", clf),\n",
        "    (\"Random Forest\", rf),\n",
        "    (\"Logistic Regression\", logreg)\n",
        "]\n",
        "\n",
        "# Set up plot\n",
        "fig, axes = plt.subplots(nrows=1, ncols=len(models), figsize=(15, 5))\n",
        "\n",
        "# Iterate over the models\n",
        "for i, (model_name, model) in enumerate(models):\n",
        "    # Use cross_val_predict to generate predictions\n",
        "    y_pred = cross_val_predict(model, X, y, cv=5)\n",
        "\n",
        "    # Compute the confusion matrix\n",
        "    cm = confusion_matrix(y, y_pred)\n",
        "\n",
        "    # Create confusion matrix display\n",
        "    cm_display = ConfusionMatrixDisplay(cm, display_labels=[\"No Venta\", \"Venta\"])\n",
        "\n",
        "    # Plot confusion matrix\n",
        "    ax = axes[i]\n",
        "    cm_display.plot(ax=ax, cmap='Blues')\n",
        "    ax.set_title(f\"Confusion Matrix - {model_name}\")\n",
        "\n",
        "# Adjust spacing between subplots\n",
        "plt.tight_layout()\n",
        "\n",
        "# Show plot\n",
        "plt.show()\n"
      ],
      "metadata": {
        "id": "mevqIWHxMIZN",
        "colab": {
          "base_uri": "https://localhost:8080/",
          "height": 346
        },
        "outputId": "1e6127dc-b676-4c97-d03d-93a05eb5d6a4"
      },
      "execution_count": 179,
      "outputs": [
        {
          "output_type": "display_data",
          "data": {
            "text/plain": [
              "<Figure size 1500x500 with 6 Axes>"
            ],
            "image/png": "[encoded data removed]"
          },
          "metadata": {}
        }
      ]
    },
    {
      "cell_type": "markdown",
      "source": [
        "VALIDACIÓN DE MODELOS"
      ],
      "metadata": {
        "id": "Shwu6OqN6VJc"
      }
    },
    {
      "cell_type": "code",
      "source": [
        "import pandas as pd\n",
        "from sklearn.model_selection import KFold\n",
        "from sklearn.linear_model import LogisticRegression\n",
        "from sklearn.ensemble import RandomForestClassifier\n",
        "from xgboost import XGBClassifier\n",
        "from sklearn import metrics\n",
        "\n",
        "\n",
        "# Separate features and target variable\n",
        "X = df.drop('Revenue', axis=1)\n",
        "y = df['Revenue']\n",
        "\n",
        "# Define the models\n",
        "logistic_regression = LogisticRegression(max_iter=5000)\n",
        "random_forest = RandomForestClassifier()\n",
        "xgboost = XGBClassifier()\n",
        "\n",
        "# Initialize performance metrics\n",
        "accuracy_scores = {'Logistic Regression': [], 'Random Forest': [], 'XGBoost': []}\n",
        "\n",
        "# Perform k-Fold Cross-Validation with k=5\n",
        "k = 5\n",
        "kf = KFold(n_splits=k, shuffle=True, random_state=42)\n",
        "\n",
        "for train_index, test_index in kf.split(X):\n",
        "    X_train, X_test = X.iloc[train_index], X.iloc[test_index]\n",
        "    y_train, y_test = y.iloc[train_index], y.iloc[test_index]\n",
        "\n",
        "    # Train and predict using Logistic Regression\n",
        "    logistic_regression.fit(X_train, y_train)\n",
        "    logistic_regression_pred = logistic_regression.predict(X_test)\n",
        "    accuracy_scores['Logistic Regression'].append(metrics.accuracy_score(y_test, logistic_regression_pred))\n",
        "\n",
        "    # Train and predict using Random Forest\n",
        "    random_forest.fit(X_train, y_train)\n",
        "    random_forest_pred = random_forest.predict(X_test)\n",
        "    accuracy_scores['Random Forest'].append(metrics.accuracy_score(y_test, random_forest_pred))\n",
        "\n",
        "    # Train and predict using XGBoost\n",
        "    xgboost.fit(X_train, y_train)\n",
        "    xgboost_pred = xgboost.predict(X_test)\n",
        "    accuracy_scores['XGBoost'].append(metrics.accuracy_score(y_test, xgboost_pred))\n",
        "\n",
        "# Calculate average performance\n",
        "for model, scores in accuracy_scores.items():\n",
        "    average_score = sum(scores) / len(scores)\n",
        "    print(f\"Average accuracy score for {model}: {average_score}\")\n",
        "\n"
      ],
      "metadata": {
        "colab": {
          "base_uri": "https://localhost:8080/"
        },
        "id": "pIpVjRg2Mo5t",
        "outputId": "230e6e9c-5802-4ac8-b9cc-64c694c87297"
      },
      "execution_count": 180,
      "outputs": [
        {
          "output_type": "stream",
          "name": "stdout",
          "text": [
            "Average accuracy score for Logistic Regression: 0.8589068731685128\n",
            "Average accuracy score for Random Forest: 0.8850282987929375\n",
            "Average accuracy score for XGBoost: 0.8807094798311594\n"
          ]
        }
      ]
    },
    {
      "cell_type": "markdown",
      "source": [
        "# CONCLUSIONES"
      ],
      "metadata": {
        "id": "W1FFH5GLO2rt"
      }
    },
    {
      "cell_type": "markdown",
      "source": [
        "Basado en el análisis de las métricas y los resultados de los modelos, se pueden sacar las siguientes conclusiones:\n",
        "\n",
        "1. Comparación de modelos: Se evaluaron tres modelos (Regresión Logística, Random Forest y XGBoost) utilizando diferentes métricas, incluyendo el ROC AUC. Se observa que el modelo XGBoost obtiene el mayor valor de ROC AUC (0.81), lo que indica una mejor capacidad de discriminación en la clasificación de las ventas según el tipo de tráfico. Esto sugiere que XGBoost tiene un rendimiento superior en comparación con los otros dos modelos evaluados.\n",
        "\n",
        "2. Consideración de Falsos Positivos y Falsos Negativos: Aunque XGBoost muestra el mayor número de falsos positivos, se menciona que en el contexto de la industria del marketing, esta incidencia no es tan grave como para provocar el rechazo del modelo. Esto implica que los falsos positivos no tienen un impacto significativo en el rendimiento general del modelo en la predicción de ventas según el tipo de tráfico.\n",
        "\n",
        "3. Importancia del ROC AUC: El ROC AUC se destaca como una métrica clave en este análisis. Se utiliza para comparar y evaluar modelos de clasificación en términos de su capacidad de discriminación. Los valores de ROC AUC obtenidos para cada modelo indican su habilidad para clasificar correctamente las ventas según el tipo de tráfico. En base a esto, el modelo XGBoost se considera el mejor modelo en este contexto.\n",
        "\n",
        "En resumen, considerando las métricas evaluadas y la capacidad de discriminación medida por el ROC AUC, se concluye que el modelo XGBoost es el más adecuado para predecir las ventas según el tipo de tráfico en el proyecto de marketing."
      ],
      "metadata": {
        "id": "bYp4Q5A9M42G"
      }
    }
  ]
}