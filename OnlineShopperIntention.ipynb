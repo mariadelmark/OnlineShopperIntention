{
  "nbformat": 4,
  "nbformat_minor": 0,
  "metadata": {
    "colab": {
      "provenance": [],
      "authorship_tag": "ABX9TyPPV5zOR0fhmLbJhc/N3lnF",
      "include_colab_link": true
    },
    "kernelspec": {
      "name": "python3",
      "display_name": "Python 3"
    },
    "language_info": {
      "name": "python"
    }
  },
  "cells": [
    {
      "cell_type": "markdown",
      "metadata": {
        "id": "view-in-github",
        "colab_type": "text"
      },
      "source": [
        "<a href=\"https://colab.research.google.com/github/mariadelmark/OnlineShopperIntention/blob/main/OnlineShopperIntention.ipynb\" target=\"_parent\"><img src=\"https://colab.research.google.com/assets/colab-badge.svg\" alt=\"Open In Colab\"/></a>"
      ]
    },
    {
      "cell_type": "markdown",
      "source": [
        "# PREDICIENDO VENTAS SEGÚN EL TIPO DE TRÁFICO DE UN SITIO WEB USANDO UN ENFOQUE DE MACHINE LEARNING"
      ],
      "metadata": {
        "id": "gA50ogL2vLnf"
      }
    },
    {
      "cell_type": "markdown",
      "source": [
        "## INTRODUCCIÓN"
      ],
      "metadata": {
        "id": "wg7caGpS7vJG"
      }
    },
    {
      "cell_type": "markdown",
      "source": [
        "El tráfico tipo, o \"Traffic type\", es crucial en marketing para identificar las fuentes de visitantes en un sitio web y comprender a los posibles clientes potenciales. Analizando el tráfico tipo, se obtienen conocimientos sobre el comportamiento, intereses y necesidades de la audiencia objetivo.\n",
        "\n",
        "Por ejemplo, si la mayoría del tráfico proviene de redes sociales, sugiere que la audiencia objetivo es activa en esas plataformas y podría responder bien a campañas de marketing en redes sociales. Si un sitio web recibe muchas visitas desde motores de búsqueda, indica que la audiencia objetivo busca activamente información o productos relacionados, y mejorar el SEO sería efectivo para atraer nuevos clientes.\n",
        "\n",
        "Es importante analizar el valor de página, o \"Page Value\", según el tipo de tráfico para comprender cómo se comportan los visitantes de diferentes fuentes. Por ejemplo, un alto Page Value en el tráfico orgánico indica que es probable que esos visitantes interactúen con el sitio web y generen ingresos. Por otro lado, un bajo Page Value en el tráfico de redes sociales sugiere un menor interés y menos probabilidades de generar ingresos.\n",
        "\n",
        "Al comprender la relación entre el tipo de tráfico y los ingresos generados, se pueden optimizar los esfuerzos de marketing al enfocarse en las fuentes de tráfico más rentables. También se pueden identificar áreas de mejora en el sitio web para aumentar la tasa de conversión y generar más ingresos por visita.\n",
        "\n",
        "Para analizar esta relación, se utiliza el valor promedio de página (\"Page Value\") para cada tipo de tráfico. Esta medida proporciona una visión general de los valores típicos asociados con cada tipo de tráfico, lo que permite identificar cuáles generan un mayor o menor valor de página.\n",
        "\n",
        "Además, se consideran métricas como la tasa de rebote (\"Bounce Rate\") y la tasa de salida (\"Exit Rate\"). La tasa de rebote mide el porcentaje de visitantes que abandonan el sitio después de una sola interacción, mientras que la tasa de salida se refiere al porcentaje de salidas desde una página específica. Ambas métricas son útiles para evaluar el rendimiento del sitio web y optimizar las páginas adecuadas.\n",
        "\n",
        "En resumen, el análisis del tráfico tipo y su relación con los ingresos permite tomar decisiones más informadas en términos de marketing y mejoras en el sitio web para maximizar las ventas y la satisfacción del cliente.\n",
        "\n",
        "Se utiliza un dataset de: Sakar, C.O., Polat, S.O., Katircioglu, M. et al. Real-time prediction of online shoppers’ purchasing intention using multilayer perceptron and LSTM recurrent neural networks. Neural Comput & Applic 31, 6893–6908 (2019). https://doi.org/10.1007/s00521-018-3523-0"
      ],
      "metadata": {
        "id": "Pxsfo8q8fnw5"
      }
    },
    {
      "cell_type": "markdown",
      "source": [
        "## CARGA DE DATOS Y DE PAQUETES A UTILIZAR"
      ],
      "metadata": {
        "id": "oDrfab1nw0zZ"
      }
    },
    {
      "cell_type": "code",
      "execution_count": null,
      "metadata": {
        "id": "oJucxGsnuiAy",
        "colab": {
          "base_uri": "https://localhost:8080/",
          "height": 218
        },
        "outputId": "28c24cbc-9e8e-4b79-ecad-0217aa2a1c29"
      },
      "outputs": [
        {
          "output_type": "execute_result",
          "data": {
            "text/plain": [
              "   Administrative  Administrative_Duration  Informational  \\\n",
              "0               0                      0.0              0   \n",
              "1               0                      0.0              0   \n",
              "2               0                      0.0              0   \n",
              "3               0                      0.0              0   \n",
              "4               0                      0.0              0   \n",
              "\n",
              "   Informational_Duration  ProductRelated  ProductRelated_Duration  \\\n",
              "0                     0.0               1                 0.000000   \n",
              "1                     0.0               2                64.000000   \n",
              "2                     0.0               1                 0.000000   \n",
              "3                     0.0               2                 2.666667   \n",
              "4                     0.0              10               627.500000   \n",
              "\n",
              "   BounceRates  ExitRates  PageValues  SpecialDay Month  OperatingSystems  \\\n",
              "0         0.20       0.20         0.0         0.0   Feb                 1   \n",
              "1         0.00       0.10         0.0         0.0   Feb                 2   \n",
              "2         0.20       0.20         0.0         0.0   Feb                 4   \n",
              "3         0.05       0.14         0.0         0.0   Feb                 3   \n",
              "4         0.02       0.05         0.0         0.0   Feb                 3   \n",
              "\n",
              "   Browser  Region  TrafficType        VisitorType  Weekend  Revenue  \n",
              "0        1       1            1  Returning_Visitor    False    False  \n",
              "1        2       1            2  Returning_Visitor    False    False  \n",
              "2        1       9            3  Returning_Visitor    False    False  \n",
              "3        2       2            4  Returning_Visitor    False    False  \n",
              "4        3       1            4  Returning_Visitor     True    False  "
            ],
            "text/html": [
              "\n",
              "  <div id=\"df-9ee5a1ce-4dcd-40cd-9c4b-86dd413a7023\">\n",
              "    <div class=\"colab-df-container\">\n",
              "      <div>\n",
              "<style scoped>\n",
              "    .dataframe tbody tr th:only-of-type {\n",
              "        vertical-align: middle;\n",
              "    }\n",
              "\n",
              "    .dataframe tbody tr th {\n",
              "        vertical-align: top;\n",
              "    }\n",
              "\n",
              "    .dataframe thead th {\n",
              "        text-align: right;\n",
              "    }\n",
              "</style>\n",
              "<table border=\"1\" class=\"dataframe\">\n",
              "  <thead>\n",
              "    <tr style=\"text-align: right;\">\n",
              "      <th></th>\n",
              "      <th>Administrative</th>\n",
              "      <th>Administrative_Duration</th>\n",
              "      <th>Informational</th>\n",
              "      <th>Informational_Duration</th>\n",
              "      <th>ProductRelated</th>\n",
              "      <th>ProductRelated_Duration</th>\n",
              "      <th>BounceRates</th>\n",
              "      <th>ExitRates</th>\n",
              "      <th>PageValues</th>\n",
              "      <th>SpecialDay</th>\n",
              "      <th>Month</th>\n",
              "      <th>OperatingSystems</th>\n",
              "      <th>Browser</th>\n",
              "      <th>Region</th>\n",
              "      <th>TrafficType</th>\n",
              "      <th>VisitorType</th>\n",
              "      <th>Weekend</th>\n",
              "      <th>Revenue</th>\n",
              "    </tr>\n",
              "  </thead>\n",
              "  <tbody>\n",
              "    <tr>\n",
              "      <th>0</th>\n",
              "      <td>0</td>\n",
              "      <td>0.0</td>\n",
              "      <td>0</td>\n",
              "      <td>0.0</td>\n",
              "      <td>1</td>\n",
              "      <td>0.000000</td>\n",
              "      <td>0.20</td>\n",
              "      <td>0.20</td>\n",
              "      <td>0.0</td>\n",
              "      <td>0.0</td>\n",
              "      <td>Feb</td>\n",
              "      <td>1</td>\n",
              "      <td>1</td>\n",
              "      <td>1</td>\n",
              "      <td>1</td>\n",
              "      <td>Returning_Visitor</td>\n",
              "      <td>False</td>\n",
              "      <td>False</td>\n",
              "    </tr>\n",
              "    <tr>\n",
              "      <th>1</th>\n",
              "      <td>0</td>\n",
              "      <td>0.0</td>\n",
              "      <td>0</td>\n",
              "      <td>0.0</td>\n",
              "      <td>2</td>\n",
              "      <td>64.000000</td>\n",
              "      <td>0.00</td>\n",
              "      <td>0.10</td>\n",
              "      <td>0.0</td>\n",
              "      <td>0.0</td>\n",
              "      <td>Feb</td>\n",
              "      <td>2</td>\n",
              "      <td>2</td>\n",
              "      <td>1</td>\n",
              "      <td>2</td>\n",
              "      <td>Returning_Visitor</td>\n",
              "      <td>False</td>\n",
              "      <td>False</td>\n",
              "    </tr>\n",
              "    <tr>\n",
              "      <th>2</th>\n",
              "      <td>0</td>\n",
              "      <td>0.0</td>\n",
              "      <td>0</td>\n",
              "      <td>0.0</td>\n",
              "      <td>1</td>\n",
              "      <td>0.000000</td>\n",
              "      <td>0.20</td>\n",
              "      <td>0.20</td>\n",
              "      <td>0.0</td>\n",
              "      <td>0.0</td>\n",
              "      <td>Feb</td>\n",
              "      <td>4</td>\n",
              "      <td>1</td>\n",
              "      <td>9</td>\n",
              "      <td>3</td>\n",
              "      <td>Returning_Visitor</td>\n",
              "      <td>False</td>\n",
              "      <td>False</td>\n",
              "    </tr>\n",
              "    <tr>\n",
              "      <th>3</th>\n",
              "      <td>0</td>\n",
              "      <td>0.0</td>\n",
              "      <td>0</td>\n",
              "      <td>0.0</td>\n",
              "      <td>2</td>\n",
              "      <td>2.666667</td>\n",
              "      <td>0.05</td>\n",
              "      <td>0.14</td>\n",
              "      <td>0.0</td>\n",
              "      <td>0.0</td>\n",
              "      <td>Feb</td>\n",
              "      <td>3</td>\n",
              "      <td>2</td>\n",
              "      <td>2</td>\n",
              "      <td>4</td>\n",
              "      <td>Returning_Visitor</td>\n",
              "      <td>False</td>\n",
              "      <td>False</td>\n",
              "    </tr>\n",
              "    <tr>\n",
              "      <th>4</th>\n",
              "      <td>0</td>\n",
              "      <td>0.0</td>\n",
              "      <td>0</td>\n",
              "      <td>0.0</td>\n",
              "      <td>10</td>\n",
              "      <td>627.500000</td>\n",
              "      <td>0.02</td>\n",
              "      <td>0.05</td>\n",
              "      <td>0.0</td>\n",
              "      <td>0.0</td>\n",
              "      <td>Feb</td>\n",
              "      <td>3</td>\n",
              "      <td>3</td>\n",
              "      <td>1</td>\n",
              "      <td>4</td>\n",
              "      <td>Returning_Visitor</td>\n",
              "      <td>True</td>\n",
              "      <td>False</td>\n",
              "    </tr>\n",
              "  </tbody>\n",
              "</table>\n",
              "</div>\n",
              "      <button class=\"colab-df-convert\" onclick=\"convertToInteractive('df-9ee5a1ce-4dcd-40cd-9c4b-86dd413a7023')\"\n",
              "              title=\"Convert this dataframe to an interactive table.\"\n",
              "              style=\"display:none;\">\n",
              "        \n",
              "  <svg xmlns=\"http://www.w3.org/2000/svg\" height=\"24px\"viewBox=\"0 0 24 24\"\n",
              "       width=\"24px\">\n",
              "    <path d=\"M0 0h24v24H0V0z\" fill=\"none\"/>\n",
              "    <path d=\"M18.56 5.44l.94 2.06.94-2.06 2.06-.94-2.06-.94-.94-2.06-.94 2.06-2.06.94zm-11 1L8.5 8.5l.94-2.06 2.06-.94-2.06-.94L8.5 2.5l-.94 2.06-2.06.94zm10 10l.94 2.06.94-2.06 2.06-.94-2.06-.94-.94-2.06-.94 2.06-2.06.94z\"/><path d=\"M17.41 7.96l-1.37-1.37c-.4-.4-.92-.59-1.43-.59-.52 0-1.04.2-1.43.59L10.3 9.45l-7.72 7.72c-.78.78-.78 2.05 0 2.83L4 21.41c.39.39.9.59 1.41.59.51 0 1.02-.2 1.41-.59l7.78-7.78 2.81-2.81c.8-.78.8-2.07 0-2.86zM5.41 20L4 18.59l7.72-7.72 1.47 1.35L5.41 20z\"/>\n",
              "  </svg>\n",
              "      </button>\n",
              "      \n",
              "  <style>\n",
              "    .colab-df-container {\n",
              "      display:flex;\n",
              "      flex-wrap:wrap;\n",
              "      gap: 12px;\n",
              "    }\n",
              "\n",
              "    .colab-df-convert {\n",
              "      background-color: #E8F0FE;\n",
              "      border: none;\n",
              "      border-radius: 50%;\n",
              "      cursor: pointer;\n",
              "      display: none;\n",
              "      fill: #1967D2;\n",
              "      height: 32px;\n",
              "      padding: 0 0 0 0;\n",
              "      width: 32px;\n",
              "    }\n",
              "\n",
              "    .colab-df-convert:hover {\n",
              "      background-color: #E2EBFA;\n",
              "      box-shadow: 0px 1px 2px rgba(60, 64, 67, 0.3), 0px 1px 3px 1px rgba(60, 64, 67, 0.15);\n",
              "      fill: #174EA6;\n",
              "    }\n",
              "\n",
              "    [theme=dark] .colab-df-convert {\n",
              "      background-color: #3B4455;\n",
              "      fill: #D2E3FC;\n",
              "    }\n",
              "\n",
              "    [theme=dark] .colab-df-convert:hover {\n",
              "      background-color: #434B5C;\n",
              "      box-shadow: 0px 1px 3px 1px rgba(0, 0, 0, 0.15);\n",
              "      filter: drop-shadow(0px 1px 2px rgba(0, 0, 0, 0.3));\n",
              "      fill: #FFFFFF;\n",
              "    }\n",
              "  </style>\n",
              "\n",
              "      <script>\n",
              "        const buttonEl =\n",
              "          document.querySelector('#df-9ee5a1ce-4dcd-40cd-9c4b-86dd413a7023 button.colab-df-convert');\n",
              "        buttonEl.style.display =\n",
              "          google.colab.kernel.accessAllowed ? 'block' : 'none';\n",
              "\n",
              "        async function convertToInteractive(key) {\n",
              "          const element = document.querySelector('#df-9ee5a1ce-4dcd-40cd-9c4b-86dd413a7023');\n",
              "          const dataTable =\n",
              "            await google.colab.kernel.invokeFunction('convertToInteractive',\n",
              "                                                     [key], {});\n",
              "          if (!dataTable) return;\n",
              "\n",
              "          const docLinkHtml = 'Like what you see? Visit the ' +\n",
              "            '<a target=\"_blank\" href=https://colab.research.google.com/notebooks/data_table.ipynb>data table notebook</a>'\n",
              "            + ' to learn more about interactive tables.';\n",
              "          element.innerHTML = '';\n",
              "          dataTable['output_type'] = 'display_data';\n",
              "          await google.colab.output.renderOutput(dataTable, element);\n",
              "          const docLink = document.createElement('div');\n",
              "          docLink.innerHTML = docLinkHtml;\n",
              "          element.appendChild(docLink);\n",
              "        }\n",
              "      </script>\n",
              "    </div>\n",
              "  </div>\n",
              "  "
            ],
            "application/vnd.google.colaboratory.module+javascript": "\n      import \"https://ssl.gstatic.com/colaboratory/data_table/881c4a0d49046431/data_table.js\";\n\n      const table = window.createDataTable({\n        data: [[{\n            'v': 0,\n            'f': \"0\",\n        },\n{\n            'v': 0,\n            'f': \"0\",\n        },\n{\n            'v': 0.0,\n            'f': \"0.0\",\n        },\n{\n            'v': 0,\n            'f': \"0\",\n        },\n{\n            'v': 0.0,\n            'f': \"0.0\",\n        },\n{\n            'v': 1,\n            'f': \"1\",\n        },\n{\n            'v': 0.0,\n            'f': \"0.0\",\n        },\n{\n            'v': 0.2,\n            'f': \"0.2\",\n        },\n{\n            'v': 0.2,\n            'f': \"0.2\",\n        },\n{\n            'v': 0.0,\n            'f': \"0.0\",\n        },\n{\n            'v': 0.0,\n            'f': \"0.0\",\n        },\n\"Feb\",\n{\n            'v': 1,\n            'f': \"1\",\n        },\n{\n            'v': 1,\n            'f': \"1\",\n        },\n{\n            'v': 1,\n            'f': \"1\",\n        },\n{\n            'v': 1,\n            'f': \"1\",\n        },\n\"Returning_Visitor\",\nfalse,\nfalse],\n [{\n            'v': 1,\n            'f': \"1\",\n        },\n{\n            'v': 0,\n            'f': \"0\",\n        },\n{\n            'v': 0.0,\n            'f': \"0.0\",\n        },\n{\n            'v': 0,\n            'f': \"0\",\n        },\n{\n            'v': 0.0,\n            'f': \"0.0\",\n        },\n{\n            'v': 2,\n            'f': \"2\",\n        },\n{\n            'v': 64.0,\n            'f': \"64.0\",\n        },\n{\n            'v': 0.0,\n            'f': \"0.0\",\n        },\n{\n            'v': 0.1,\n            'f': \"0.1\",\n        },\n{\n            'v': 0.0,\n            'f': \"0.0\",\n        },\n{\n            'v': 0.0,\n            'f': \"0.0\",\n        },\n\"Feb\",\n{\n            'v': 2,\n            'f': \"2\",\n        },\n{\n            'v': 2,\n            'f': \"2\",\n        },\n{\n            'v': 1,\n            'f': \"1\",\n        },\n{\n            'v': 2,\n            'f': \"2\",\n        },\n\"Returning_Visitor\",\nfalse,\nfalse],\n [{\n            'v': 2,\n            'f': \"2\",\n        },\n{\n            'v': 0,\n            'f': \"0\",\n        },\n{\n            'v': 0.0,\n            'f': \"0.0\",\n        },\n{\n            'v': 0,\n            'f': \"0\",\n        },\n{\n            'v': 0.0,\n            'f': \"0.0\",\n        },\n{\n            'v': 1,\n            'f': \"1\",\n        },\n{\n            'v': 0.0,\n            'f': \"0.0\",\n        },\n{\n            'v': 0.2,\n            'f': \"0.2\",\n        },\n{\n            'v': 0.2,\n            'f': \"0.2\",\n        },\n{\n            'v': 0.0,\n            'f': \"0.0\",\n        },\n{\n            'v': 0.0,\n            'f': \"0.0\",\n        },\n\"Feb\",\n{\n            'v': 4,\n            'f': \"4\",\n        },\n{\n            'v': 1,\n            'f': \"1\",\n        },\n{\n            'v': 9,\n            'f': \"9\",\n        },\n{\n            'v': 3,\n            'f': \"3\",\n        },\n\"Returning_Visitor\",\nfalse,\nfalse],\n [{\n            'v': 3,\n            'f': \"3\",\n        },\n{\n            'v': 0,\n            'f': \"0\",\n        },\n{\n            'v': 0.0,\n            'f': \"0.0\",\n        },\n{\n            'v': 0,\n            'f': \"0\",\n        },\n{\n            'v': 0.0,\n            'f': \"0.0\",\n        },\n{\n            'v': 2,\n            'f': \"2\",\n        },\n{\n            'v': 2.666666667,\n            'f': \"2.666666667\",\n        },\n{\n            'v': 0.05,\n            'f': \"0.05\",\n        },\n{\n            'v': 0.14,\n            'f': \"0.14\",\n        },\n{\n            'v': 0.0,\n            'f': \"0.0\",\n        },\n{\n            'v': 0.0,\n            'f': \"0.0\",\n        },\n\"Feb\",\n{\n            'v': 3,\n            'f': \"3\",\n        },\n{\n            'v': 2,\n            'f': \"2\",\n        },\n{\n            'v': 2,\n            'f': \"2\",\n        },\n{\n            'v': 4,\n            'f': \"4\",\n        },\n\"Returning_Visitor\",\nfalse,\nfalse],\n [{\n            'v': 4,\n            'f': \"4\",\n        },\n{\n            'v': 0,\n            'f': \"0\",\n        },\n{\n            'v': 0.0,\n            'f': \"0.0\",\n        },\n{\n            'v': 0,\n            'f': \"0\",\n        },\n{\n            'v': 0.0,\n            'f': \"0.0\",\n        },\n{\n            'v': 10,\n            'f': \"10\",\n        },\n{\n            'v': 627.5,\n            'f': \"627.5\",\n        },\n{\n            'v': 0.02,\n            'f': \"0.02\",\n        },\n{\n            'v': 0.05,\n            'f': \"0.05\",\n        },\n{\n            'v': 0.0,\n            'f': \"0.0\",\n        },\n{\n            'v': 0.0,\n            'f': \"0.0\",\n        },\n\"Feb\",\n{\n            'v': 3,\n            'f': \"3\",\n        },\n{\n            'v': 3,\n            'f': \"3\",\n        },\n{\n            'v': 1,\n            'f': \"1\",\n        },\n{\n            'v': 4,\n            'f': \"4\",\n        },\n\"Returning_Visitor\",\ntrue,\nfalse]],\n        columns: [[\"number\", \"index\"], [\"number\", \"Administrative\"], [\"number\", \"Administrative_Duration\"], [\"number\", \"Informational\"], [\"number\", \"Informational_Duration\"], [\"number\", \"ProductRelated\"], [\"number\", \"ProductRelated_Duration\"], [\"number\", \"BounceRates\"], [\"number\", \"ExitRates\"], [\"number\", \"PageValues\"], [\"number\", \"SpecialDay\"], [\"string\", \"Month\"], [\"number\", \"OperatingSystems\"], [\"number\", \"Browser\"], [\"number\", \"Region\"], [\"number\", \"TrafficType\"], [\"string\", \"VisitorType\"], [\"string\", \"Weekend\"], [\"string\", \"Revenue\"]],\n        columnOptions: [{\"width\": \"1px\", \"className\": \"index_column\"}],\n        rowsPerPage: 25,\n        helpUrl: \"https://colab.research.google.com/notebooks/data_table.ipynb\",\n        suppressOutputScrolling: true,\n        minimumWidth: undefined,\n      });\n      \n      function appendQuickchartButton(parentElement) {\n        let quickchartButtonContainerElement = document.createElement('div');\n        quickchartButtonContainerElement.innerHTML = `\n    <div id=\"df-3b3e82eb-01f1-4830-ade4-78ca0e6dbcc2\">\n      <button class=\"colab-df-quickchart\" onclick=\"quickchart('df-3b3e82eb-01f1-4830-ade4-78ca0e6dbcc2')\"\n              title=\"Generate charts.\"\n              style=\"display:none;\">\n\n<svg xmlns=\"http://www.w3.org/2000/svg\" height=\"24px\"viewBox=\"0 0 24 24\"\n     width=\"24px\">\n    <g>\n        <path d=\"M19 3H5c-1.1 0-2 .9-2 2v14c0 1.1.9 2 2 2h14c1.1 0 2-.9 2-2V5c0-1.1-.9-2-2-2zM9 17H7v-7h2v7zm4 0h-2V7h2v10zm4 0h-2v-4h2v4z\"/>\n    </g>\n</svg>\n      </button>\n    </div>\n\n<style>\n  .colab-df-quickchart {\n    background-color: #E8F0FE;\n    border: none;\n    border-radius: 50%;\n    cursor: pointer;\n    display: none;\n    fill: #1967D2;\n    height: 32px;\n    padding: 0 0 0 0;\n    width: 32px;\n  }\n\n  .colab-df-quickchart:hover {\n    background-color: #E2EBFA;\n    box-shadow: 0px 1px 2px rgba(60, 64, 67, 0.3), 0px 1px 3px 1px rgba(60, 64, 67, 0.15);\n    fill: #174EA6;\n  }\n\n  [theme=dark] .colab-df-quickchart {\n    background-color: #3B4455;\n    fill: #D2E3FC;\n  }\n\n  [theme=dark] .colab-df-quickchart:hover {\n    background-color: #434B5C;\n    box-shadow: 0px 1px 3px 1px rgba(0, 0, 0, 0.15);\n    filter: drop-shadow(0px 1px 2px rgba(0, 0, 0, 0.3));\n    fill: #FFFFFF;\n  }\n</style>\n\n    <script>\n      async function quickchart(key) {\n        const containerElement = document.querySelector('#' + key);\n        const charts = await google.colab.kernel.invokeFunction(\n            'generateCharts', [key], {});\n      }\n    </script>\n`;\n        parentElement.appendChild(quickchartButtonContainerElement);\n        \nfunction displayQuickchartButton(domScope) {\n  let quickchartButtonEl =\n    domScope.querySelector('#df-3b3e82eb-01f1-4830-ade4-78ca0e6dbcc2 button.colab-df-quickchart');\n  quickchartButtonEl.style.display =\n    google.colab.kernel.accessAllowed ? 'block' : 'none';\n}\n\n        displayQuickchartButton(parentElement);\n      }\n    "
          },
          "metadata": {},
          "execution_count": 95
        }
      ],
      "source": [
        "import pandas as pd\n",
        "import numpy as np\n",
        "import matplotlib.pyplot as plt\n",
        "import matplotlib.colors as colors\n",
        "import seaborn as sns\n",
        "import statsmodels\n",
        "from scipy import stats\n",
        "import statsmodels.stats.api as sms\n",
        "\n",
        "\n",
        "archivo = '/content/online_shoppers_intention.csv'\n",
        "\n",
        "df = pd.read_csv(archivo)\n",
        "\n",
        "df.head()"
      ]
    },
    {
      "cell_type": "code",
      "source": [
        "# Se chequea que el dataset se haya cargado correctamente\n",
        "df.info()"
      ],
      "metadata": {
        "colab": {
          "base_uri": "https://localhost:8080/"
        },
        "id": "Z9l3VPFYgcYM",
        "outputId": "81800491-cd92-4a9c-a3b3-cc637a304d08"
      },
      "execution_count": null,
      "outputs": [
        {
          "output_type": "stream",
          "name": "stdout",
          "text": [
            "<class 'pandas.core.frame.DataFrame'>\n",
            "Int64Index: 8293 entries, 9192 to 10357\n",
            "Data columns (total 21 columns):\n",
            " #   Column                   Non-Null Count  Dtype  \n",
            "---  ------                   --------------  -----  \n",
            " 0   Administrative           8293 non-null   int64  \n",
            " 1   Administrative_Duration  8293 non-null   float64\n",
            " 2   Informational            8293 non-null   int64  \n",
            " 3   Informational_Duration   8293 non-null   float64\n",
            " 4   ProductRelated           8293 non-null   int64  \n",
            " 5   ProductRelated_Duration  8293 non-null   float64\n",
            " 6   BounceRates              8293 non-null   float64\n",
            " 7   ExitRates                8293 non-null   float64\n",
            " 8   PageValues               8293 non-null   float64\n",
            " 9   SpecialDay               8293 non-null   float64\n",
            " 10  Month                    8293 non-null   int64  \n",
            " 11  OperatingSystems         8293 non-null   int64  \n",
            " 12  Browser                  8293 non-null   int64  \n",
            " 13  Region                   8293 non-null   int64  \n",
            " 14  TrafficType              8293 non-null   int64  \n",
            " 15  VisitorType              8293 non-null   int64  \n",
            " 16  Weekend                  8293 non-null   bool   \n",
            " 17  Revenue                  8293 non-null   int64  \n",
            " 18  Month_Ordered            8293 non-null   int64  \n",
            " 19  PCA1                     8293 non-null   float64\n",
            " 20  PCA2                     8293 non-null   float64\n",
            "dtypes: bool(1), float64(9), int64(11)\n",
            "memory usage: 1.3 MB\n"
          ]
        }
      ]
    },
    {
      "cell_type": "markdown",
      "source": [
        "## ANÁLISIS DE VARIABLES A UTILIZAR"
      ],
      "metadata": {
        "id": "0fl8BYshw8cJ"
      }
    },
    {
      "cell_type": "code",
      "source": [
        "df.describe()\n"
      ],
      "metadata": {
        "id": "G814vnvBxoy6",
        "colab": {
          "base_uri": "https://localhost:8080/",
          "height": 283
        },
        "outputId": "8839d21e-f5ce-469f-d676-1307edd044a3"
      },
      "execution_count": null,
      "outputs": [
        {
          "output_type": "execute_result",
          "data": {
            "text/plain": [
              "       Administrative  Administrative_Duration  Informational  \\\n",
              "count    12330.000000             12330.000000   12330.000000   \n",
              "mean         2.315166                80.818611       0.503569   \n",
              "std          3.321784               176.779107       1.270156   \n",
              "min          0.000000                 0.000000       0.000000   \n",
              "25%          0.000000                 0.000000       0.000000   \n",
              "50%          1.000000                 7.500000       0.000000   \n",
              "75%          4.000000                93.256250       0.000000   \n",
              "max         27.000000              3398.750000      24.000000   \n",
              "\n",
              "       Informational_Duration  ProductRelated  ProductRelated_Duration  \\\n",
              "count            12330.000000    12330.000000             12330.000000   \n",
              "mean                34.472398       31.731468              1194.746220   \n",
              "std                140.749294       44.475503              1913.669288   \n",
              "min                  0.000000        0.000000                 0.000000   \n",
              "25%                  0.000000        7.000000               184.137500   \n",
              "50%                  0.000000       18.000000               598.936905   \n",
              "75%                  0.000000       38.000000              1464.157214   \n",
              "max               2549.375000      705.000000             63973.522230   \n",
              "\n",
              "        BounceRates     ExitRates    PageValues    SpecialDay  \\\n",
              "count  12330.000000  12330.000000  12330.000000  12330.000000   \n",
              "mean       0.022191      0.043073      5.889258      0.061427   \n",
              "std        0.048488      0.048597     18.568437      0.198917   \n",
              "min        0.000000      0.000000      0.000000      0.000000   \n",
              "25%        0.000000      0.014286      0.000000      0.000000   \n",
              "50%        0.003112      0.025156      0.000000      0.000000   \n",
              "75%        0.016813      0.050000      0.000000      0.000000   \n",
              "max        0.200000      0.200000    361.763742      1.000000   \n",
              "\n",
              "       OperatingSystems       Browser        Region   TrafficType  \n",
              "count      12330.000000  12330.000000  12330.000000  12330.000000  \n",
              "mean           2.124006      2.357097      3.147364      4.069586  \n",
              "std            0.911325      1.717277      2.401591      4.025169  \n",
              "min            1.000000      1.000000      1.000000      1.000000  \n",
              "25%            2.000000      2.000000      1.000000      2.000000  \n",
              "50%            2.000000      2.000000      3.000000      2.000000  \n",
              "75%            3.000000      2.000000      4.000000      4.000000  \n",
              "max            8.000000     13.000000      9.000000     20.000000  "
            ],
            "text/html": [
              "\n",
              "  <div id=\"df-8733fb66-946e-4d81-8350-53ce0ff3fd3c\">\n",
              "    <div class=\"colab-df-container\">\n",
              "      <div>\n",
              "<style scoped>\n",
              "    .dataframe tbody tr th:only-of-type {\n",
              "        vertical-align: middle;\n",
              "    }\n",
              "\n",
              "    .dataframe tbody tr th {\n",
              "        vertical-align: top;\n",
              "    }\n",
              "\n",
              "    .dataframe thead th {\n",
              "        text-align: right;\n",
              "    }\n",
              "</style>\n",
              "<table border=\"1\" class=\"dataframe\">\n",
              "  <thead>\n",
              "    <tr style=\"text-align: right;\">\n",
              "      <th></th>\n",
              "      <th>Administrative</th>\n",
              "      <th>Administrative_Duration</th>\n",
              "      <th>Informational</th>\n",
              "      <th>Informational_Duration</th>\n",
              "      <th>ProductRelated</th>\n",
              "      <th>ProductRelated_Duration</th>\n",
              "      <th>BounceRates</th>\n",
              "      <th>ExitRates</th>\n",
              "      <th>PageValues</th>\n",
              "      <th>SpecialDay</th>\n",
              "      <th>OperatingSystems</th>\n",
              "      <th>Browser</th>\n",
              "      <th>Region</th>\n",
              "      <th>TrafficType</th>\n",
              "    </tr>\n",
              "  </thead>\n",
              "  <tbody>\n",
              "    <tr>\n",
              "      <th>count</th>\n",
              "      <td>12330.000000</td>\n",
              "      <td>12330.000000</td>\n",
              "      <td>12330.000000</td>\n",
              "      <td>12330.000000</td>\n",
              "      <td>12330.000000</td>\n",
              "      <td>12330.000000</td>\n",
              "      <td>12330.000000</td>\n",
              "      <td>12330.000000</td>\n",
              "      <td>12330.000000</td>\n",
              "      <td>12330.000000</td>\n",
              "      <td>12330.000000</td>\n",
              "      <td>12330.000000</td>\n",
              "      <td>12330.000000</td>\n",
              "      <td>12330.000000</td>\n",
              "    </tr>\n",
              "    <tr>\n",
              "      <th>mean</th>\n",
              "      <td>2.315166</td>\n",
              "      <td>80.818611</td>\n",
              "      <td>0.503569</td>\n",
              "      <td>34.472398</td>\n",
              "      <td>31.731468</td>\n",
              "      <td>1194.746220</td>\n",
              "      <td>0.022191</td>\n",
              "      <td>0.043073</td>\n",
              "      <td>5.889258</td>\n",
              "      <td>0.061427</td>\n",
              "      <td>2.124006</td>\n",
              "      <td>2.357097</td>\n",
              "      <td>3.147364</td>\n",
              "      <td>4.069586</td>\n",
              "    </tr>\n",
              "    <tr>\n",
              "      <th>std</th>\n",
              "      <td>3.321784</td>\n",
              "      <td>176.779107</td>\n",
              "      <td>1.270156</td>\n",
              "      <td>140.749294</td>\n",
              "      <td>44.475503</td>\n",
              "      <td>1913.669288</td>\n",
              "      <td>0.048488</td>\n",
              "      <td>0.048597</td>\n",
              "      <td>18.568437</td>\n",
              "      <td>0.198917</td>\n",
              "      <td>0.911325</td>\n",
              "      <td>1.717277</td>\n",
              "      <td>2.401591</td>\n",
              "      <td>4.025169</td>\n",
              "    </tr>\n",
              "    <tr>\n",
              "      <th>min</th>\n",
              "      <td>0.000000</td>\n",
              "      <td>0.000000</td>\n",
              "      <td>0.000000</td>\n",
              "      <td>0.000000</td>\n",
              "      <td>0.000000</td>\n",
              "      <td>0.000000</td>\n",
              "      <td>0.000000</td>\n",
              "      <td>0.000000</td>\n",
              "      <td>0.000000</td>\n",
              "      <td>0.000000</td>\n",
              "      <td>1.000000</td>\n",
              "      <td>1.000000</td>\n",
              "      <td>1.000000</td>\n",
              "      <td>1.000000</td>\n",
              "    </tr>\n",
              "    <tr>\n",
              "      <th>25%</th>\n",
              "      <td>0.000000</td>\n",
              "      <td>0.000000</td>\n",
              "      <td>0.000000</td>\n",
              "      <td>0.000000</td>\n",
              "      <td>7.000000</td>\n",
              "      <td>184.137500</td>\n",
              "      <td>0.000000</td>\n",
              "      <td>0.014286</td>\n",
              "      <td>0.000000</td>\n",
              "      <td>0.000000</td>\n",
              "      <td>2.000000</td>\n",
              "      <td>2.000000</td>\n",
              "      <td>1.000000</td>\n",
              "      <td>2.000000</td>\n",
              "    </tr>\n",
              "    <tr>\n",
              "      <th>50%</th>\n",
              "      <td>1.000000</td>\n",
              "      <td>7.500000</td>\n",
              "      <td>0.000000</td>\n",
              "      <td>0.000000</td>\n",
              "      <td>18.000000</td>\n",
              "      <td>598.936905</td>\n",
              "      <td>0.003112</td>\n",
              "      <td>0.025156</td>\n",
              "      <td>0.000000</td>\n",
              "      <td>0.000000</td>\n",
              "      <td>2.000000</td>\n",
              "      <td>2.000000</td>\n",
              "      <td>3.000000</td>\n",
              "      <td>2.000000</td>\n",
              "    </tr>\n",
              "    <tr>\n",
              "      <th>75%</th>\n",
              "      <td>4.000000</td>\n",
              "      <td>93.256250</td>\n",
              "      <td>0.000000</td>\n",
              "      <td>0.000000</td>\n",
              "      <td>38.000000</td>\n",
              "      <td>1464.157214</td>\n",
              "      <td>0.016813</td>\n",
              "      <td>0.050000</td>\n",
              "      <td>0.000000</td>\n",
              "      <td>0.000000</td>\n",
              "      <td>3.000000</td>\n",
              "      <td>2.000000</td>\n",
              "      <td>4.000000</td>\n",
              "      <td>4.000000</td>\n",
              "    </tr>\n",
              "    <tr>\n",
              "      <th>max</th>\n",
              "      <td>27.000000</td>\n",
              "      <td>3398.750000</td>\n",
              "      <td>24.000000</td>\n",
              "      <td>2549.375000</td>\n",
              "      <td>705.000000</td>\n",
              "      <td>63973.522230</td>\n",
              "      <td>0.200000</td>\n",
              "      <td>0.200000</td>\n",
              "      <td>361.763742</td>\n",
              "      <td>1.000000</td>\n",
              "      <td>8.000000</td>\n",
              "      <td>13.000000</td>\n",
              "      <td>9.000000</td>\n",
              "      <td>20.000000</td>\n",
              "    </tr>\n",
              "  </tbody>\n",
              "</table>\n",
              "</div>\n",
              "      <button class=\"colab-df-convert\" onclick=\"convertToInteractive('df-8733fb66-946e-4d81-8350-53ce0ff3fd3c')\"\n",
              "              title=\"Convert this dataframe to an interactive table.\"\n",
              "              style=\"display:none;\">\n",
              "        \n",
              "  <svg xmlns=\"http://www.w3.org/2000/svg\" height=\"24px\"viewBox=\"0 0 24 24\"\n",
              "       width=\"24px\">\n",
              "    <path d=\"M0 0h24v24H0V0z\" fill=\"none\"/>\n",
              "    <path d=\"M18.56 5.44l.94 2.06.94-2.06 2.06-.94-2.06-.94-.94-2.06-.94 2.06-2.06.94zm-11 1L8.5 8.5l.94-2.06 2.06-.94-2.06-.94L8.5 2.5l-.94 2.06-2.06.94zm10 10l.94 2.06.94-2.06 2.06-.94-2.06-.94-.94-2.06-.94 2.06-2.06.94z\"/><path d=\"M17.41 7.96l-1.37-1.37c-.4-.4-.92-.59-1.43-.59-.52 0-1.04.2-1.43.59L10.3 9.45l-7.72 7.72c-.78.78-.78 2.05 0 2.83L4 21.41c.39.39.9.59 1.41.59.51 0 1.02-.2 1.41-.59l7.78-7.78 2.81-2.81c.8-.78.8-2.07 0-2.86zM5.41 20L4 18.59l7.72-7.72 1.47 1.35L5.41 20z\"/>\n",
              "  </svg>\n",
              "      </button>\n",
              "      \n",
              "  <style>\n",
              "    .colab-df-container {\n",
              "      display:flex;\n",
              "      flex-wrap:wrap;\n",
              "      gap: 12px;\n",
              "    }\n",
              "\n",
              "    .colab-df-convert {\n",
              "      background-color: #E8F0FE;\n",
              "      border: none;\n",
              "      border-radius: 50%;\n",
              "      cursor: pointer;\n",
              "      display: none;\n",
              "      fill: #1967D2;\n",
              "      height: 32px;\n",
              "      padding: 0 0 0 0;\n",
              "      width: 32px;\n",
              "    }\n",
              "\n",
              "    .colab-df-convert:hover {\n",
              "      background-color: #E2EBFA;\n",
              "      box-shadow: 0px 1px 2px rgba(60, 64, 67, 0.3), 0px 1px 3px 1px rgba(60, 64, 67, 0.15);\n",
              "      fill: #174EA6;\n",
              "    }\n",
              "\n",
              "    [theme=dark] .colab-df-convert {\n",
              "      background-color: #3B4455;\n",
              "      fill: #D2E3FC;\n",
              "    }\n",
              "\n",
              "    [theme=dark] .colab-df-convert:hover {\n",
              "      background-color: #434B5C;\n",
              "      box-shadow: 0px 1px 3px 1px rgba(0, 0, 0, 0.15);\n",
              "      filter: drop-shadow(0px 1px 2px rgba(0, 0, 0, 0.3));\n",
              "      fill: #FFFFFF;\n",
              "    }\n",
              "  </style>\n",
              "\n",
              "      <script>\n",
              "        const buttonEl =\n",
              "          document.querySelector('#df-8733fb66-946e-4d81-8350-53ce0ff3fd3c button.colab-df-convert');\n",
              "        buttonEl.style.display =\n",
              "          google.colab.kernel.accessAllowed ? 'block' : 'none';\n",
              "\n",
              "        async function convertToInteractive(key) {\n",
              "          const element = document.querySelector('#df-8733fb66-946e-4d81-8350-53ce0ff3fd3c');\n",
              "          const dataTable =\n",
              "            await google.colab.kernel.invokeFunction('convertToInteractive',\n",
              "                                                     [key], {});\n",
              "          if (!dataTable) return;\n",
              "\n",
              "          const docLinkHtml = 'Like what you see? Visit the ' +\n",
              "            '<a target=\"_blank\" href=https://colab.research.google.com/notebooks/data_table.ipynb>data table notebook</a>'\n",
              "            + ' to learn more about interactive tables.';\n",
              "          element.innerHTML = '';\n",
              "          dataTable['output_type'] = 'display_data';\n",
              "          await google.colab.output.renderOutput(dataTable, element);\n",
              "          const docLink = document.createElement('div');\n",
              "          docLink.innerHTML = docLinkHtml;\n",
              "          element.appendChild(docLink);\n",
              "        }\n",
              "      </script>\n",
              "    </div>\n",
              "  </div>\n",
              "  "
            ],
            "application/vnd.google.colaboratory.module+javascript": "\n      import \"https://ssl.gstatic.com/colaboratory/data_table/881c4a0d49046431/data_table.js\";\n\n      const table = window.createDataTable({\n        data: [[\"count\",\n{\n            'v': 12330.0,\n            'f': \"12330.0\",\n        },\n{\n            'v': 12330.0,\n            'f': \"12330.0\",\n        },\n{\n            'v': 12330.0,\n            'f': \"12330.0\",\n        },\n{\n            'v': 12330.0,\n            'f': \"12330.0\",\n        },\n{\n            'v': 12330.0,\n            'f': \"12330.0\",\n        },\n{\n            'v': 12330.0,\n            'f': \"12330.0\",\n        },\n{\n            'v': 12330.0,\n            'f': \"12330.0\",\n        },\n{\n            'v': 12330.0,\n            'f': \"12330.0\",\n        },\n{\n            'v': 12330.0,\n            'f': \"12330.0\",\n        },\n{\n            'v': 12330.0,\n            'f': \"12330.0\",\n        },\n{\n            'v': 12330.0,\n            'f': \"12330.0\",\n        },\n{\n            'v': 12330.0,\n            'f': \"12330.0\",\n        },\n{\n            'v': 12330.0,\n            'f': \"12330.0\",\n        },\n{\n            'v': 12330.0,\n            'f': \"12330.0\",\n        }],\n [\"mean\",\n{\n            'v': 2.3151662611516626,\n            'f': \"2.3151662611516626\",\n        },\n{\n            'v': 80.81861053933592,\n            'f': \"80.81861053933592\",\n        },\n{\n            'v': 0.5035685320356853,\n            'f': \"0.5035685320356853\",\n        },\n{\n            'v': 34.47239792772304,\n            'f': \"34.47239792772304\",\n        },\n{\n            'v': 31.731467964314678,\n            'f': \"31.731467964314678\",\n        },\n{\n            'v': 1194.7462199688268,\n            'f': \"1194.7462199688268\",\n        },\n{\n            'v': 0.02219138047072182,\n            'f': \"0.02219138047072182\",\n        },\n{\n            'v': 0.04307279776650446,\n            'f': \"0.04307279776650446\",\n        },\n{\n            'v': 5.889257862693592,\n            'f': \"5.889257862693592\",\n        },\n{\n            'v': 0.061427412814274135,\n            'f': \"0.061427412814274135\",\n        },\n{\n            'v': 2.124006488240065,\n            'f': \"2.124006488240065\",\n        },\n{\n            'v': 2.357096512570965,\n            'f': \"2.357096512570965\",\n        },\n{\n            'v': 3.1473641524736413,\n            'f': \"3.1473641524736413\",\n        },\n{\n            'v': 4.069586374695864,\n            'f': \"4.069586374695864\",\n        }],\n [\"std\",\n{\n            'v': 3.3217841061569113,\n            'f': \"3.3217841061569113\",\n        },\n{\n            'v': 176.77910747048634,\n            'f': \"176.77910747048634\",\n        },\n{\n            'v': 1.270156425983391,\n            'f': \"1.270156425983391\",\n        },\n{\n            'v': 140.74929442219798,\n            'f': \"140.74929442219798\",\n        },\n{\n            'v': 44.47550330493652,\n            'f': \"44.47550330493652\",\n        },\n{\n            'v': 1913.6692878720035,\n            'f': \"1913.6692878720035\",\n        },\n{\n            'v': 0.048488321806260656,\n            'f': \"0.048488321806260656\",\n        },\n{\n            'v': 0.048596540551443565,\n            'f': \"0.048596540551443565\",\n        },\n{\n            'v': 18.568436607806525,\n            'f': \"18.568436607806525\",\n        },\n{\n            'v': 0.19891727315262864,\n            'f': \"0.19891727315262864\",\n        },\n{\n            'v': 0.911324828710665,\n            'f': \"0.911324828710665\",\n        },\n{\n            'v': 1.7172766755534394,\n            'f': \"1.7172766755534394\",\n        },\n{\n            'v': 2.401591236743714,\n            'f': \"2.401591236743714\",\n        },\n{\n            'v': 4.025169160452515,\n            'f': \"4.025169160452515\",\n        }],\n [\"min\",\n{\n            'v': 0.0,\n            'f': \"0.0\",\n        },\n{\n            'v': 0.0,\n            'f': \"0.0\",\n        },\n{\n            'v': 0.0,\n            'f': \"0.0\",\n        },\n{\n            'v': 0.0,\n            'f': \"0.0\",\n        },\n{\n            'v': 0.0,\n            'f': \"0.0\",\n        },\n{\n            'v': 0.0,\n            'f': \"0.0\",\n        },\n{\n            'v': 0.0,\n            'f': \"0.0\",\n        },\n{\n            'v': 0.0,\n            'f': \"0.0\",\n        },\n{\n            'v': 0.0,\n            'f': \"0.0\",\n        },\n{\n            'v': 0.0,\n            'f': \"0.0\",\n        },\n{\n            'v': 1.0,\n            'f': \"1.0\",\n        },\n{\n            'v': 1.0,\n            'f': \"1.0\",\n        },\n{\n            'v': 1.0,\n            'f': \"1.0\",\n        },\n{\n            'v': 1.0,\n            'f': \"1.0\",\n        }],\n [\"25%\",\n{\n            'v': 0.0,\n            'f': \"0.0\",\n        },\n{\n            'v': 0.0,\n            'f': \"0.0\",\n        },\n{\n            'v': 0.0,\n            'f': \"0.0\",\n        },\n{\n            'v': 0.0,\n            'f': \"0.0\",\n        },\n{\n            'v': 7.0,\n            'f': \"7.0\",\n        },\n{\n            'v': 184.1375,\n            'f': \"184.1375\",\n        },\n{\n            'v': 0.0,\n            'f': \"0.0\",\n        },\n{\n            'v': 0.014285714,\n            'f': \"0.014285714\",\n        },\n{\n            'v': 0.0,\n            'f': \"0.0\",\n        },\n{\n            'v': 0.0,\n            'f': \"0.0\",\n        },\n{\n            'v': 2.0,\n            'f': \"2.0\",\n        },\n{\n            'v': 2.0,\n            'f': \"2.0\",\n        },\n{\n            'v': 1.0,\n            'f': \"1.0\",\n        },\n{\n            'v': 2.0,\n            'f': \"2.0\",\n        }],\n [\"50%\",\n{\n            'v': 1.0,\n            'f': \"1.0\",\n        },\n{\n            'v': 7.5,\n            'f': \"7.5\",\n        },\n{\n            'v': 0.0,\n            'f': \"0.0\",\n        },\n{\n            'v': 0.0,\n            'f': \"0.0\",\n        },\n{\n            'v': 18.0,\n            'f': \"18.0\",\n        },\n{\n            'v': 598.9369047499999,\n            'f': \"598.9369047499999\",\n        },\n{\n            'v': 0.0031124675,\n            'f': \"0.0031124675\",\n        },\n{\n            'v': 0.0251564025,\n            'f': \"0.0251564025\",\n        },\n{\n            'v': 0.0,\n            'f': \"0.0\",\n        },\n{\n            'v': 0.0,\n            'f': \"0.0\",\n        },\n{\n            'v': 2.0,\n            'f': \"2.0\",\n        },\n{\n            'v': 2.0,\n            'f': \"2.0\",\n        },\n{\n            'v': 3.0,\n            'f': \"3.0\",\n        },\n{\n            'v': 2.0,\n            'f': \"2.0\",\n        }],\n [\"75%\",\n{\n            'v': 4.0,\n            'f': \"4.0\",\n        },\n{\n            'v': 93.25625,\n            'f': \"93.25625\",\n        },\n{\n            'v': 0.0,\n            'f': \"0.0\",\n        },\n{\n            'v': 0.0,\n            'f': \"0.0\",\n        },\n{\n            'v': 38.0,\n            'f': \"38.0\",\n        },\n{\n            'v': 1464.1572135000001,\n            'f': \"1464.1572135000001\",\n        },\n{\n            'v': 0.016812558499999998,\n            'f': \"0.016812558499999998\",\n        },\n{\n            'v': 0.05,\n            'f': \"0.05\",\n        },\n{\n            'v': 0.0,\n            'f': \"0.0\",\n        },\n{\n            'v': 0.0,\n            'f': \"0.0\",\n        },\n{\n            'v': 3.0,\n            'f': \"3.0\",\n        },\n{\n            'v': 2.0,\n            'f': \"2.0\",\n        },\n{\n            'v': 4.0,\n            'f': \"4.0\",\n        },\n{\n            'v': 4.0,\n            'f': \"4.0\",\n        }],\n [\"max\",\n{\n            'v': 27.0,\n            'f': \"27.0\",\n        },\n{\n            'v': 3398.75,\n            'f': \"3398.75\",\n        },\n{\n            'v': 24.0,\n            'f': \"24.0\",\n        },\n{\n            'v': 2549.375,\n            'f': \"2549.375\",\n        },\n{\n            'v': 705.0,\n            'f': \"705.0\",\n        },\n{\n            'v': 63973.52223,\n            'f': \"63973.52223\",\n        },\n{\n            'v': 0.2,\n            'f': \"0.2\",\n        },\n{\n            'v': 0.2,\n            'f': \"0.2\",\n        },\n{\n            'v': 361.7637419,\n            'f': \"361.7637419\",\n        },\n{\n            'v': 1.0,\n            'f': \"1.0\",\n        },\n{\n            'v': 8.0,\n            'f': \"8.0\",\n        },\n{\n            'v': 13.0,\n            'f': \"13.0\",\n        },\n{\n            'v': 9.0,\n            'f': \"9.0\",\n        },\n{\n            'v': 20.0,\n            'f': \"20.0\",\n        }]],\n        columns: [[\"string\", \"index\"], [\"number\", \"Administrative\"], [\"number\", \"Administrative_Duration\"], [\"number\", \"Informational\"], [\"number\", \"Informational_Duration\"], [\"number\", \"ProductRelated\"], [\"number\", \"ProductRelated_Duration\"], [\"number\", \"BounceRates\"], [\"number\", \"ExitRates\"], [\"number\", \"PageValues\"], [\"number\", \"SpecialDay\"], [\"number\", \"OperatingSystems\"], [\"number\", \"Browser\"], [\"number\", \"Region\"], [\"number\", \"TrafficType\"]],\n        columnOptions: [{\"width\": \"1px\", \"className\": \"index_column\"}],\n        rowsPerPage: 25,\n        helpUrl: \"https://colab.research.google.com/notebooks/data_table.ipynb\",\n        suppressOutputScrolling: true,\n        minimumWidth: undefined,\n      });\n      \n      function appendQuickchartButton(parentElement) {\n        let quickchartButtonContainerElement = document.createElement('div');\n        quickchartButtonContainerElement.innerHTML = `\n    <div id=\"df-4297636e-59d4-486c-8340-8be37d1d6cb3\">\n      <button class=\"colab-df-quickchart\" onclick=\"quickchart('df-4297636e-59d4-486c-8340-8be37d1d6cb3')\"\n              title=\"Generate charts.\"\n              style=\"display:none;\">\n\n<svg xmlns=\"http://www.w3.org/2000/svg\" height=\"24px\"viewBox=\"0 0 24 24\"\n     width=\"24px\">\n    <g>\n        <path d=\"M19 3H5c-1.1 0-2 .9-2 2v14c0 1.1.9 2 2 2h14c1.1 0 2-.9 2-2V5c0-1.1-.9-2-2-2zM9 17H7v-7h2v7zm4 0h-2V7h2v10zm4 0h-2v-4h2v4z\"/>\n    </g>\n</svg>\n      </button>\n    </div>\n\n<style>\n  .colab-df-quickchart {\n    background-color: #E8F0FE;\n    border: none;\n    border-radius: 50%;\n    cursor: pointer;\n    display: none;\n    fill: #1967D2;\n    height: 32px;\n    padding: 0 0 0 0;\n    width: 32px;\n  }\n\n  .colab-df-quickchart:hover {\n    background-color: #E2EBFA;\n    box-shadow: 0px 1px 2px rgba(60, 64, 67, 0.3), 0px 1px 3px 1px rgba(60, 64, 67, 0.15);\n    fill: #174EA6;\n  }\n\n  [theme=dark] .colab-df-quickchart {\n    background-color: #3B4455;\n    fill: #D2E3FC;\n  }\n\n  [theme=dark] .colab-df-quickchart:hover {\n    background-color: #434B5C;\n    box-shadow: 0px 1px 3px 1px rgba(0, 0, 0, 0.15);\n    filter: drop-shadow(0px 1px 2px rgba(0, 0, 0, 0.3));\n    fill: #FFFFFF;\n  }\n</style>\n\n    <script>\n      async function quickchart(key) {\n        const containerElement = document.querySelector('#' + key);\n        const charts = await google.colab.kernel.invokeFunction(\n            'generateCharts', [key], {});\n      }\n    </script>\n`;\n        parentElement.appendChild(quickchartButtonContainerElement);\n        \nfunction displayQuickchartButton(domScope) {\n  let quickchartButtonEl =\n    domScope.querySelector('#df-4297636e-59d4-486c-8340-8be37d1d6cb3 button.colab-df-quickchart');\n  quickchartButtonEl.style.display =\n    google.colab.kernel.accessAllowed ? 'block' : 'none';\n}\n\n        displayQuickchartButton(parentElement);\n      }\n    "
          },
          "metadata": {},
          "execution_count": 97
        }
      ]
    },
    {
      "cell_type": "code",
      "source": [
        "# Se chequea la correlación entre distintas variables\n",
        "df.corr()"
      ],
      "metadata": {
        "id": "a6rVZIbuxUQA",
        "colab": {
          "base_uri": "https://localhost:8080/",
          "height": 510
        },
        "outputId": "21c51201-96f1-48c4-d3d9-80a7db94b221"
      },
      "execution_count": null,
      "outputs": [
        {
          "output_type": "stream",
          "name": "stderr",
          "text": [
            "<ipython-input-98-219d72e7b9c4>:2: FutureWarning: The default value of numeric_only in DataFrame.corr is deprecated. In a future version, it will default to False. Select only valid columns or specify the value of numeric_only to silence this warning.\n",
            "  df.corr()\n"
          ]
        },
        {
          "output_type": "execute_result",
          "data": {
            "text/plain": [
              "                         Administrative  Administrative_Duration  \\\n",
              "Administrative                 1.000000                 0.601583   \n",
              "Administrative_Duration        0.601583                 1.000000   \n",
              "Informational                  0.376850                 0.302710   \n",
              "Informational_Duration         0.255848                 0.238031   \n",
              "ProductRelated                 0.431119                 0.289087   \n",
              "ProductRelated_Duration        0.373939                 0.355422   \n",
              "BounceRates                   -0.223563                -0.144170   \n",
              "ExitRates                     -0.316483                -0.205798   \n",
              "PageValues                     0.098990                 0.067608   \n",
              "SpecialDay                    -0.094778                -0.073304   \n",
              "OperatingSystems              -0.006347                -0.007343   \n",
              "Browser                       -0.025035                -0.015392   \n",
              "Region                        -0.005487                -0.005561   \n",
              "TrafficType                   -0.033561                -0.014376   \n",
              "Weekend                        0.026417                 0.014990   \n",
              "Revenue                        0.138917                 0.093587   \n",
              "\n",
              "                         Informational  Informational_Duration  \\\n",
              "Administrative                0.376850                0.255848   \n",
              "Administrative_Duration       0.302710                0.238031   \n",
              "Informational                 1.000000                0.618955   \n",
              "Informational_Duration        0.618955                1.000000   \n",
              "ProductRelated                0.374164                0.280046   \n",
              "ProductRelated_Duration       0.387505                0.347364   \n",
              "BounceRates                  -0.116114               -0.074067   \n",
              "ExitRates                    -0.163666               -0.105276   \n",
              "PageValues                    0.048632                0.030861   \n",
              "SpecialDay                   -0.048219               -0.030577   \n",
              "OperatingSystems             -0.009527               -0.009579   \n",
              "Browser                      -0.038235               -0.019285   \n",
              "Region                       -0.029169               -0.027144   \n",
              "TrafficType                  -0.034491               -0.024675   \n",
              "Weekend                       0.035785                0.024078   \n",
              "Revenue                       0.095200                0.070345   \n",
              "\n",
              "                         ProductRelated  ProductRelated_Duration  BounceRates  \\\n",
              "Administrative                 0.431119                 0.373939    -0.223563   \n",
              "Administrative_Duration        0.289087                 0.355422    -0.144170   \n",
              "Informational                  0.374164                 0.387505    -0.116114   \n",
              "Informational_Duration         0.280046                 0.347364    -0.074067   \n",
              "ProductRelated                 1.000000                 0.860927    -0.204578   \n",
              "ProductRelated_Duration        0.860927                 1.000000    -0.184541   \n",
              "BounceRates                   -0.204578                -0.184541     1.000000   \n",
              "ExitRates                     -0.292526                -0.251984     0.913004   \n",
              "PageValues                     0.056282                 0.052823    -0.119386   \n",
              "SpecialDay                    -0.023958                -0.036380     0.072702   \n",
              "OperatingSystems               0.004290                 0.002976     0.023823   \n",
              "Browser                       -0.013146                -0.007380    -0.015772   \n",
              "Region                        -0.038122                -0.033091    -0.006485   \n",
              "TrafficType                   -0.043064                -0.036377     0.078286   \n",
              "Weekend                        0.016092                 0.007311    -0.046514   \n",
              "Revenue                        0.158538                 0.152373    -0.150673   \n",
              "\n",
              "                         ExitRates  PageValues  SpecialDay  OperatingSystems  \\\n",
              "Administrative           -0.316483    0.098990   -0.094778         -0.006347   \n",
              "Administrative_Duration  -0.205798    0.067608   -0.073304         -0.007343   \n",
              "Informational            -0.163666    0.048632   -0.048219         -0.009527   \n",
              "Informational_Duration   -0.105276    0.030861   -0.030577         -0.009579   \n",
              "ProductRelated           -0.292526    0.056282   -0.023958          0.004290   \n",
              "ProductRelated_Duration  -0.251984    0.052823   -0.036380          0.002976   \n",
              "BounceRates               0.913004   -0.119386    0.072702          0.023823   \n",
              "ExitRates                 1.000000   -0.174498    0.102242          0.014567   \n",
              "PageValues               -0.174498    1.000000   -0.063541          0.018508   \n",
              "SpecialDay                0.102242   -0.063541    1.000000          0.012652   \n",
              "OperatingSystems          0.014567    0.018508    0.012652          1.000000   \n",
              "Browser                  -0.004442    0.045592    0.003499          0.223013   \n",
              "Region                   -0.008907    0.011315   -0.016098          0.076775   \n",
              "TrafficType               0.078616    0.012532    0.052301          0.189154   \n",
              "Weekend                  -0.062587    0.012002   -0.016767          0.000284   \n",
              "Revenue                  -0.207071    0.492569   -0.082305         -0.014668   \n",
              "\n",
              "                          Browser    Region  TrafficType   Weekend   Revenue  \n",
              "Administrative          -0.025035 -0.005487    -0.033561  0.026417  0.138917  \n",
              "Administrative_Duration -0.015392 -0.005561    -0.014376  0.014990  0.093587  \n",
              "Informational           -0.038235 -0.029169    -0.034491  0.035785  0.095200  \n",
              "Informational_Duration  -0.019285 -0.027144    -0.024675  0.024078  0.070345  \n",
              "ProductRelated          -0.013146 -0.038122    -0.043064  0.016092  0.158538  \n",
              "ProductRelated_Duration -0.007380 -0.033091    -0.036377  0.007311  0.152373  \n",
              "BounceRates             -0.015772 -0.006485     0.078286 -0.046514 -0.150673  \n",
              "ExitRates               -0.004442 -0.008907     0.078616 -0.062587 -0.207071  \n",
              "PageValues               0.045592  0.011315     0.012532  0.012002  0.492569  \n",
              "SpecialDay               0.003499 -0.016098     0.052301 -0.016767 -0.082305  \n",
              "OperatingSystems         0.223013  0.076775     0.189154  0.000284 -0.014668  \n",
              "Browser                  1.000000  0.097393     0.111938 -0.040261  0.023984  \n",
              "Region                   0.097393  1.000000     0.047520 -0.000691 -0.011595  \n",
              "TrafficType              0.111938  0.047520     1.000000 -0.002221 -0.005113  \n",
              "Weekend                 -0.040261 -0.000691    -0.002221  1.000000  0.029295  \n",
              "Revenue                  0.023984 -0.011595    -0.005113  0.029295  1.000000  "
            ],
            "text/html": [
              "\n",
              "  <div id=\"df-f7827ff6-36c3-4cad-ac82-4662f1c553d3\">\n",
              "    <div class=\"colab-df-container\">\n",
              "      <div>\n",
              "<style scoped>\n",
              "    .dataframe tbody tr th:only-of-type {\n",
              "        vertical-align: middle;\n",
              "    }\n",
              "\n",
              "    .dataframe tbody tr th {\n",
              "        vertical-align: top;\n",
              "    }\n",
              "\n",
              "    .dataframe thead th {\n",
              "        text-align: right;\n",
              "    }\n",
              "</style>\n",
              "<table border=\"1\" class=\"dataframe\">\n",
              "  <thead>\n",
              "    <tr style=\"text-align: right;\">\n",
              "      <th></th>\n",
              "      <th>Administrative</th>\n",
              "      <th>Administrative_Duration</th>\n",
              "      <th>Informational</th>\n",
              "      <th>Informational_Duration</th>\n",
              "      <th>ProductRelated</th>\n",
              "      <th>ProductRelated_Duration</th>\n",
              "      <th>BounceRates</th>\n",
              "      <th>ExitRates</th>\n",
              "      <th>PageValues</th>\n",
              "      <th>SpecialDay</th>\n",
              "      <th>OperatingSystems</th>\n",
              "      <th>Browser</th>\n",
              "      <th>Region</th>\n",
              "      <th>TrafficType</th>\n",
              "      <th>Weekend</th>\n",
              "      <th>Revenue</th>\n",
              "    </tr>\n",
              "  </thead>\n",
              "  <tbody>\n",
              "    <tr>\n",
              "      <th>Administrative</th>\n",
              "      <td>1.000000</td>\n",
              "      <td>0.601583</td>\n",
              "      <td>0.376850</td>\n",
              "      <td>0.255848</td>\n",
              "      <td>0.431119</td>\n",
              "      <td>0.373939</td>\n",
              "      <td>-0.223563</td>\n",
              "      <td>-0.316483</td>\n",
              "      <td>0.098990</td>\n",
              "      <td>-0.094778</td>\n",
              "      <td>-0.006347</td>\n",
              "      <td>-0.025035</td>\n",
              "      <td>-0.005487</td>\n",
              "      <td>-0.033561</td>\n",
              "      <td>0.026417</td>\n",
              "      <td>0.138917</td>\n",
              "    </tr>\n",
              "    <tr>\n",
              "      <th>Administrative_Duration</th>\n",
              "      <td>0.601583</td>\n",
              "      <td>1.000000</td>\n",
              "      <td>0.302710</td>\n",
              "      <td>0.238031</td>\n",
              "      <td>0.289087</td>\n",
              "      <td>0.355422</td>\n",
              "      <td>-0.144170</td>\n",
              "      <td>-0.205798</td>\n",
              "      <td>0.067608</td>\n",
              "      <td>-0.073304</td>\n",
              "      <td>-0.007343</td>\n",
              "      <td>-0.015392</td>\n",
              "      <td>-0.005561</td>\n",
              "      <td>-0.014376</td>\n",
              "      <td>0.014990</td>\n",
              "      <td>0.093587</td>\n",
              "    </tr>\n",
              "    <tr>\n",
              "      <th>Informational</th>\n",
              "      <td>0.376850</td>\n",
              "      <td>0.302710</td>\n",
              "      <td>1.000000</td>\n",
              "      <td>0.618955</td>\n",
              "      <td>0.374164</td>\n",
              "      <td>0.387505</td>\n",
              "      <td>-0.116114</td>\n",
              "      <td>-0.163666</td>\n",
              "      <td>0.048632</td>\n",
              "      <td>-0.048219</td>\n",
              "      <td>-0.009527</td>\n",
              "      <td>-0.038235</td>\n",
              "      <td>-0.029169</td>\n",
              "      <td>-0.034491</td>\n",
              "      <td>0.035785</td>\n",
              "      <td>0.095200</td>\n",
              "    </tr>\n",
              "    <tr>\n",
              "      <th>Informational_Duration</th>\n",
              "      <td>0.255848</td>\n",
              "      <td>0.238031</td>\n",
              "      <td>0.618955</td>\n",
              "      <td>1.000000</td>\n",
              "      <td>0.280046</td>\n",
              "      <td>0.347364</td>\n",
              "      <td>-0.074067</td>\n",
              "      <td>-0.105276</td>\n",
              "      <td>0.030861</td>\n",
              "      <td>-0.030577</td>\n",
              "      <td>-0.009579</td>\n",
              "      <td>-0.019285</td>\n",
              "      <td>-0.027144</td>\n",
              "      <td>-0.024675</td>\n",
              "      <td>0.024078</td>\n",
              "      <td>0.070345</td>\n",
              "    </tr>\n",
              "    <tr>\n",
              "      <th>ProductRelated</th>\n",
              "      <td>0.431119</td>\n",
              "      <td>0.289087</td>\n",
              "      <td>0.374164</td>\n",
              "      <td>0.280046</td>\n",
              "      <td>1.000000</td>\n",
              "      <td>0.860927</td>\n",
              "      <td>-0.204578</td>\n",
              "      <td>-0.292526</td>\n",
              "      <td>0.056282</td>\n",
              "      <td>-0.023958</td>\n",
              "      <td>0.004290</td>\n",
              "      <td>-0.013146</td>\n",
              "      <td>-0.038122</td>\n",
              "      <td>-0.043064</td>\n",
              "      <td>0.016092</td>\n",
              "      <td>0.158538</td>\n",
              "    </tr>\n",
              "    <tr>\n",
              "      <th>ProductRelated_Duration</th>\n",
              "      <td>0.373939</td>\n",
              "      <td>0.355422</td>\n",
              "      <td>0.387505</td>\n",
              "      <td>0.347364</td>\n",
              "      <td>0.860927</td>\n",
              "      <td>1.000000</td>\n",
              "      <td>-0.184541</td>\n",
              "      <td>-0.251984</td>\n",
              "      <td>0.052823</td>\n",
              "      <td>-0.036380</td>\n",
              "      <td>0.002976</td>\n",
              "      <td>-0.007380</td>\n",
              "      <td>-0.033091</td>\n",
              "      <td>-0.036377</td>\n",
              "      <td>0.007311</td>\n",
              "      <td>0.152373</td>\n",
              "    </tr>\n",
              "    <tr>\n",
              "      <th>BounceRates</th>\n",
              "      <td>-0.223563</td>\n",
              "      <td>-0.144170</td>\n",
              "      <td>-0.116114</td>\n",
              "      <td>-0.074067</td>\n",
              "      <td>-0.204578</td>\n",
              "      <td>-0.184541</td>\n",
              "      <td>1.000000</td>\n",
              "      <td>0.913004</td>\n",
              "      <td>-0.119386</td>\n",
              "      <td>0.072702</td>\n",
              "      <td>0.023823</td>\n",
              "      <td>-0.015772</td>\n",
              "      <td>-0.006485</td>\n",
              "      <td>0.078286</td>\n",
              "      <td>-0.046514</td>\n",
              "      <td>-0.150673</td>\n",
              "    </tr>\n",
              "    <tr>\n",
              "      <th>ExitRates</th>\n",
              "      <td>-0.316483</td>\n",
              "      <td>-0.205798</td>\n",
              "      <td>-0.163666</td>\n",
              "      <td>-0.105276</td>\n",
              "      <td>-0.292526</td>\n",
              "      <td>-0.251984</td>\n",
              "      <td>0.913004</td>\n",
              "      <td>1.000000</td>\n",
              "      <td>-0.174498</td>\n",
              "      <td>0.102242</td>\n",
              "      <td>0.014567</td>\n",
              "      <td>-0.004442</td>\n",
              "      <td>-0.008907</td>\n",
              "      <td>0.078616</td>\n",
              "      <td>-0.062587</td>\n",
              "      <td>-0.207071</td>\n",
              "    </tr>\n",
              "    <tr>\n",
              "      <th>PageValues</th>\n",
              "      <td>0.098990</td>\n",
              "      <td>0.067608</td>\n",
              "      <td>0.048632</td>\n",
              "      <td>0.030861</td>\n",
              "      <td>0.056282</td>\n",
              "      <td>0.052823</td>\n",
              "      <td>-0.119386</td>\n",
              "      <td>-0.174498</td>\n",
              "      <td>1.000000</td>\n",
              "      <td>-0.063541</td>\n",
              "      <td>0.018508</td>\n",
              "      <td>0.045592</td>\n",
              "      <td>0.011315</td>\n",
              "      <td>0.012532</td>\n",
              "      <td>0.012002</td>\n",
              "      <td>0.492569</td>\n",
              "    </tr>\n",
              "    <tr>\n",
              "      <th>SpecialDay</th>\n",
              "      <td>-0.094778</td>\n",
              "      <td>-0.073304</td>\n",
              "      <td>-0.048219</td>\n",
              "      <td>-0.030577</td>\n",
              "      <td>-0.023958</td>\n",
              "      <td>-0.036380</td>\n",
              "      <td>0.072702</td>\n",
              "      <td>0.102242</td>\n",
              "      <td>-0.063541</td>\n",
              "      <td>1.000000</td>\n",
              "      <td>0.012652</td>\n",
              "      <td>0.003499</td>\n",
              "      <td>-0.016098</td>\n",
              "      <td>0.052301</td>\n",
              "      <td>-0.016767</td>\n",
              "      <td>-0.082305</td>\n",
              "    </tr>\n",
              "    <tr>\n",
              "      <th>OperatingSystems</th>\n",
              "      <td>-0.006347</td>\n",
              "      <td>-0.007343</td>\n",
              "      <td>-0.009527</td>\n",
              "      <td>-0.009579</td>\n",
              "      <td>0.004290</td>\n",
              "      <td>0.002976</td>\n",
              "      <td>0.023823</td>\n",
              "      <td>0.014567</td>\n",
              "      <td>0.018508</td>\n",
              "      <td>0.012652</td>\n",
              "      <td>1.000000</td>\n",
              "      <td>0.223013</td>\n",
              "      <td>0.076775</td>\n",
              "      <td>0.189154</td>\n",
              "      <td>0.000284</td>\n",
              "      <td>-0.014668</td>\n",
              "    </tr>\n",
              "    <tr>\n",
              "      <th>Browser</th>\n",
              "      <td>-0.025035</td>\n",
              "      <td>-0.015392</td>\n",
              "      <td>-0.038235</td>\n",
              "      <td>-0.019285</td>\n",
              "      <td>-0.013146</td>\n",
              "      <td>-0.007380</td>\n",
              "      <td>-0.015772</td>\n",
              "      <td>-0.004442</td>\n",
              "      <td>0.045592</td>\n",
              "      <td>0.003499</td>\n",
              "      <td>0.223013</td>\n",
              "      <td>1.000000</td>\n",
              "      <td>0.097393</td>\n",
              "      <td>0.111938</td>\n",
              "      <td>-0.040261</td>\n",
              "      <td>0.023984</td>\n",
              "    </tr>\n",
              "    <tr>\n",
              "      <th>Region</th>\n",
              "      <td>-0.005487</td>\n",
              "      <td>-0.005561</td>\n",
              "      <td>-0.029169</td>\n",
              "      <td>-0.027144</td>\n",
              "      <td>-0.038122</td>\n",
              "      <td>-0.033091</td>\n",
              "      <td>-0.006485</td>\n",
              "      <td>-0.008907</td>\n",
              "      <td>0.011315</td>\n",
              "      <td>-0.016098</td>\n",
              "      <td>0.076775</td>\n",
              "      <td>0.097393</td>\n",
              "      <td>1.000000</td>\n",
              "      <td>0.047520</td>\n",
              "      <td>-0.000691</td>\n",
              "      <td>-0.011595</td>\n",
              "    </tr>\n",
              "    <tr>\n",
              "      <th>TrafficType</th>\n",
              "      <td>-0.033561</td>\n",
              "      <td>-0.014376</td>\n",
              "      <td>-0.034491</td>\n",
              "      <td>-0.024675</td>\n",
              "      <td>-0.043064</td>\n",
              "      <td>-0.036377</td>\n",
              "      <td>0.078286</td>\n",
              "      <td>0.078616</td>\n",
              "      <td>0.012532</td>\n",
              "      <td>0.052301</td>\n",
              "      <td>0.189154</td>\n",
              "      <td>0.111938</td>\n",
              "      <td>0.047520</td>\n",
              "      <td>1.000000</td>\n",
              "      <td>-0.002221</td>\n",
              "      <td>-0.005113</td>\n",
              "    </tr>\n",
              "    <tr>\n",
              "      <th>Weekend</th>\n",
              "      <td>0.026417</td>\n",
              "      <td>0.014990</td>\n",
              "      <td>0.035785</td>\n",
              "      <td>0.024078</td>\n",
              "      <td>0.016092</td>\n",
              "      <td>0.007311</td>\n",
              "      <td>-0.046514</td>\n",
              "      <td>-0.062587</td>\n",
              "      <td>0.012002</td>\n",
              "      <td>-0.016767</td>\n",
              "      <td>0.000284</td>\n",
              "      <td>-0.040261</td>\n",
              "      <td>-0.000691</td>\n",
              "      <td>-0.002221</td>\n",
              "      <td>1.000000</td>\n",
              "      <td>0.029295</td>\n",
              "    </tr>\n",
              "    <tr>\n",
              "      <th>Revenue</th>\n",
              "      <td>0.138917</td>\n",
              "      <td>0.093587</td>\n",
              "      <td>0.095200</td>\n",
              "      <td>0.070345</td>\n",
              "      <td>0.158538</td>\n",
              "      <td>0.152373</td>\n",
              "      <td>-0.150673</td>\n",
              "      <td>-0.207071</td>\n",
              "      <td>0.492569</td>\n",
              "      <td>-0.082305</td>\n",
              "      <td>-0.014668</td>\n",
              "      <td>0.023984</td>\n",
              "      <td>-0.011595</td>\n",
              "      <td>-0.005113</td>\n",
              "      <td>0.029295</td>\n",
              "      <td>1.000000</td>\n",
              "    </tr>\n",
              "  </tbody>\n",
              "</table>\n",
              "</div>\n",
              "      <button class=\"colab-df-convert\" onclick=\"convertToInteractive('df-f7827ff6-36c3-4cad-ac82-4662f1c553d3')\"\n",
              "              title=\"Convert this dataframe to an interactive table.\"\n",
              "              style=\"display:none;\">\n",
              "        \n",
              "  <svg xmlns=\"http://www.w3.org/2000/svg\" height=\"24px\"viewBox=\"0 0 24 24\"\n",
              "       width=\"24px\">\n",
              "    <path d=\"M0 0h24v24H0V0z\" fill=\"none\"/>\n",
              "    <path d=\"M18.56 5.44l.94 2.06.94-2.06 2.06-.94-2.06-.94-.94-2.06-.94 2.06-2.06.94zm-11 1L8.5 8.5l.94-2.06 2.06-.94-2.06-.94L8.5 2.5l-.94 2.06-2.06.94zm10 10l.94 2.06.94-2.06 2.06-.94-2.06-.94-.94-2.06-.94 2.06-2.06.94z\"/><path d=\"M17.41 7.96l-1.37-1.37c-.4-.4-.92-.59-1.43-.59-.52 0-1.04.2-1.43.59L10.3 9.45l-7.72 7.72c-.78.78-.78 2.05 0 2.83L4 21.41c.39.39.9.59 1.41.59.51 0 1.02-.2 1.41-.59l7.78-7.78 2.81-2.81c.8-.78.8-2.07 0-2.86zM5.41 20L4 18.59l7.72-7.72 1.47 1.35L5.41 20z\"/>\n",
              "  </svg>\n",
              "      </button>\n",
              "      \n",
              "  <style>\n",
              "    .colab-df-container {\n",
              "      display:flex;\n",
              "      flex-wrap:wrap;\n",
              "      gap: 12px;\n",
              "    }\n",
              "\n",
              "    .colab-df-convert {\n",
              "      background-color: #E8F0FE;\n",
              "      border: none;\n",
              "      border-radius: 50%;\n",
              "      cursor: pointer;\n",
              "      display: none;\n",
              "      fill: #1967D2;\n",
              "      height: 32px;\n",
              "      padding: 0 0 0 0;\n",
              "      width: 32px;\n",
              "    }\n",
              "\n",
              "    .colab-df-convert:hover {\n",
              "      background-color: #E2EBFA;\n",
              "      box-shadow: 0px 1px 2px rgba(60, 64, 67, 0.3), 0px 1px 3px 1px rgba(60, 64, 67, 0.15);\n",
              "      fill: #174EA6;\n",
              "    }\n",
              "\n",
              "    [theme=dark] .colab-df-convert {\n",
              "      background-color: #3B4455;\n",
              "      fill: #D2E3FC;\n",
              "    }\n",
              "\n",
              "    [theme=dark] .colab-df-convert:hover {\n",
              "      background-color: #434B5C;\n",
              "      box-shadow: 0px 1px 3px 1px rgba(0, 0, 0, 0.15);\n",
              "      filter: drop-shadow(0px 1px 2px rgba(0, 0, 0, 0.3));\n",
              "      fill: #FFFFFF;\n",
              "    }\n",
              "  </style>\n",
              "\n",
              "      <script>\n",
              "        const buttonEl =\n",
              "          document.querySelector('#df-f7827ff6-36c3-4cad-ac82-4662f1c553d3 button.colab-df-convert');\n",
              "        buttonEl.style.display =\n",
              "          google.colab.kernel.accessAllowed ? 'block' : 'none';\n",
              "\n",
              "        async function convertToInteractive(key) {\n",
              "          const element = document.querySelector('#df-f7827ff6-36c3-4cad-ac82-4662f1c553d3');\n",
              "          const dataTable =\n",
              "            await google.colab.kernel.invokeFunction('convertToInteractive',\n",
              "                                                     [key], {});\n",
              "          if (!dataTable) return;\n",
              "\n",
              "          const docLinkHtml = 'Like what you see? Visit the ' +\n",
              "            '<a target=\"_blank\" href=https://colab.research.google.com/notebooks/data_table.ipynb>data table notebook</a>'\n",
              "            + ' to learn more about interactive tables.';\n",
              "          element.innerHTML = '';\n",
              "          dataTable['output_type'] = 'display_data';\n",
              "          await google.colab.output.renderOutput(dataTable, element);\n",
              "          const docLink = document.createElement('div');\n",
              "          docLink.innerHTML = docLinkHtml;\n",
              "          element.appendChild(docLink);\n",
              "        }\n",
              "      </script>\n",
              "    </div>\n",
              "  </div>\n",
              "  "
            ],
            "application/vnd.google.colaboratory.module+javascript": "\n      import \"https://ssl.gstatic.com/colaboratory/data_table/881c4a0d49046431/data_table.js\";\n\n      const table = window.createDataTable({\n        data: [[\"Administrative\",\n{\n            'v': 1.0,\n            'f': \"1.0\",\n        },\n{\n            'v': 0.6015833421250226,\n            'f': \"0.6015833421250226\",\n        },\n{\n            'v': 0.3768504293073085,\n            'f': \"0.3768504293073085\",\n        },\n{\n            'v': 0.25584814023262603,\n            'f': \"0.25584814023262603\",\n        },\n{\n            'v': 0.43111933962453475,\n            'f': \"0.43111933962453475\",\n        },\n{\n            'v': 0.37393901295967064,\n            'f': \"0.37393901295967064\",\n        },\n{\n            'v': -0.22356263038422594,\n            'f': \"-0.22356263038422594\",\n        },\n{\n            'v': -0.3164829975272521,\n            'f': \"-0.3164829975272521\",\n        },\n{\n            'v': 0.09898958539971277,\n            'f': \"0.09898958539971277\",\n        },\n{\n            'v': -0.09477759754428257,\n            'f': \"-0.09477759754428257\",\n        },\n{\n            'v': -0.006347063271777328,\n            'f': \"-0.006347063271777328\",\n        },\n{\n            'v': -0.025034572301622246,\n            'f': \"-0.025034572301622246\",\n        },\n{\n            'v': -0.005486805267111584,\n            'f': \"-0.005486805267111584\",\n        },\n{\n            'v': -0.03356071261303074,\n            'f': \"-0.03356071261303074\",\n        },\n{\n            'v': 0.026416750253924794,\n            'f': \"0.026416750253924794\",\n        },\n{\n            'v': 0.13891709415067252,\n            'f': \"0.13891709415067252\",\n        }],\n [\"Administrative_Duration\",\n{\n            'v': 0.6015833421250226,\n            'f': \"0.6015833421250226\",\n        },\n{\n            'v': 1.0,\n            'f': \"1.0\",\n        },\n{\n            'v': 0.3027097089757625,\n            'f': \"0.3027097089757625\",\n        },\n{\n            'v': 0.23803078935000088,\n            'f': \"0.23803078935000088\",\n        },\n{\n            'v': 0.2890866214062173,\n            'f': \"0.2890866214062173\",\n        },\n{\n            'v': 0.35542195350163014,\n            'f': \"0.35542195350163014\",\n        },\n{\n            'v': -0.14417040950711418,\n            'f': \"-0.14417040950711418\",\n        },\n{\n            'v': -0.20579775727445548,\n            'f': \"-0.20579775727445548\",\n        },\n{\n            'v': 0.06760848087034964,\n            'f': \"0.06760848087034964\",\n        },\n{\n            'v': -0.07330372492126022,\n            'f': \"-0.07330372492126022\",\n        },\n{\n            'v': -0.0073434175219950475,\n            'f': \"-0.0073434175219950475\",\n        },\n{\n            'v': -0.015391526719883216,\n            'f': \"-0.015391526719883216\",\n        },\n{\n            'v': -0.0055605628393206995,\n            'f': \"-0.0055605628393206995\",\n        },\n{\n            'v': -0.014376430636008032,\n            'f': \"-0.014376430636008032\",\n        },\n{\n            'v': 0.014990141913816167,\n            'f': \"0.014990141913816167\",\n        },\n{\n            'v': 0.09358671905704198,\n            'f': \"0.09358671905704198\",\n        }],\n [\"Informational\",\n{\n            'v': 0.3768504293073085,\n            'f': \"0.3768504293073085\",\n        },\n{\n            'v': 0.3027097089757625,\n            'f': \"0.3027097089757625\",\n        },\n{\n            'v': 1.0,\n            'f': \"1.0\",\n        },\n{\n            'v': 0.6189548617814573,\n            'f': \"0.6189548617814573\",\n        },\n{\n            'v': 0.3741642906577265,\n            'f': \"0.3741642906577265\",\n        },\n{\n            'v': 0.3875053062598626,\n            'f': \"0.3875053062598626\",\n        },\n{\n            'v': -0.11611361638719091,\n            'f': \"-0.11611361638719091\",\n        },\n{\n            'v': -0.1636660607845007,\n            'f': \"-0.1636660607845007\",\n        },\n{\n            'v': 0.048631691953743394,\n            'f': \"0.048631691953743394\",\n        },\n{\n            'v': -0.04821925398952802,\n            'f': \"-0.04821925398952802\",\n        },\n{\n            'v': -0.00952666789175222,\n            'f': \"-0.00952666789175222\",\n        },\n{\n            'v': -0.03823467813983742,\n            'f': \"-0.03823467813983742\",\n        },\n{\n            'v': -0.02916863793730765,\n            'f': \"-0.02916863793730765\",\n        },\n{\n            'v': -0.034490753826794264,\n            'f': \"-0.034490753826794264\",\n        },\n{\n            'v': 0.03578472510756787,\n            'f': \"0.03578472510756787\",\n        },\n{\n            'v': 0.0952003425720571,\n            'f': \"0.0952003425720571\",\n        }],\n [\"Informational_Duration\",\n{\n            'v': 0.25584814023262603,\n            'f': \"0.25584814023262603\",\n        },\n{\n            'v': 0.23803078935000088,\n            'f': \"0.23803078935000088\",\n        },\n{\n            'v': 0.6189548617814573,\n            'f': \"0.6189548617814573\",\n        },\n{\n            'v': 1.0,\n            'f': \"1.0\",\n        },\n{\n            'v': 0.28004626785919684,\n            'f': \"0.28004626785919684\",\n        },\n{\n            'v': 0.3473635774464961,\n            'f': \"0.3473635774464961\",\n        },\n{\n            'v': -0.07406660989572071,\n            'f': \"-0.07406660989572071\",\n        },\n{\n            'v': -0.1052756833478731,\n            'f': \"-0.1052756833478731\",\n        },\n{\n            'v': 0.030860873716780254,\n            'f': \"0.030860873716780254\",\n        },\n{\n            'v': -0.030576549486372003,\n            'f': \"-0.030576549486372003\",\n        },\n{\n            'v': -0.00957867640106472,\n            'f': \"-0.00957867640106472\",\n        },\n{\n            'v': -0.019284980935369168,\n            'f': \"-0.019284980935369168\",\n        },\n{\n            'v': -0.027144112353764367,\n            'f': \"-0.027144112353764367\",\n        },\n{\n            'v': -0.02467490778346264,\n            'f': \"-0.02467490778346264\",\n        },\n{\n            'v': 0.024078486249592326,\n            'f': \"0.024078486249592326\",\n        },\n{\n            'v': 0.07034450234598345,\n            'f': \"0.07034450234598345\",\n        }],\n [\"ProductRelated\",\n{\n            'v': 0.43111933962453475,\n            'f': \"0.43111933962453475\",\n        },\n{\n            'v': 0.2890866214062173,\n            'f': \"0.2890866214062173\",\n        },\n{\n            'v': 0.3741642906577265,\n            'f': \"0.3741642906577265\",\n        },\n{\n            'v': 0.28004626785919684,\n            'f': \"0.28004626785919684\",\n        },\n{\n            'v': 1.0,\n            'f': \"1.0\",\n        },\n{\n            'v': 0.8609268361763707,\n            'f': \"0.8609268361763707\",\n        },\n{\n            'v': -0.20457763335075316,\n            'f': \"-0.20457763335075316\",\n        },\n{\n            'v': -0.29252628311358025,\n            'f': \"-0.29252628311358025\",\n        },\n{\n            'v': 0.05628179410884894,\n            'f': \"0.05628179410884894\",\n        },\n{\n            'v': -0.02395817472400519,\n            'f': \"-0.02395817472400519\",\n        },\n{\n            'v': 0.004289620582246028,\n            'f': \"0.004289620582246028\",\n        },\n{\n            'v': -0.01314572095583748,\n            'f': \"-0.01314572095583748\",\n        },\n{\n            'v': -0.03812184171387137,\n            'f': \"-0.03812184171387137\",\n        },\n{\n            'v': -0.043064303810434905,\n            'f': \"-0.043064303810434905\",\n        },\n{\n            'v': 0.01609196423446964,\n            'f': \"0.01609196423446964\",\n        },\n{\n            'v': 0.1585379842808741,\n            'f': \"0.1585379842808741\",\n        }],\n [\"ProductRelated_Duration\",\n{\n            'v': 0.37393901295967064,\n            'f': \"0.37393901295967064\",\n        },\n{\n            'v': 0.35542195350163014,\n            'f': \"0.35542195350163014\",\n        },\n{\n            'v': 0.3875053062598626,\n            'f': \"0.3875053062598626\",\n        },\n{\n            'v': 0.3473635774464961,\n            'f': \"0.3473635774464961\",\n        },\n{\n            'v': 0.8609268361763707,\n            'f': \"0.8609268361763707\",\n        },\n{\n            'v': 1.0,\n            'f': \"1.0\",\n        },\n{\n            'v': -0.18454111529428474,\n            'f': \"-0.18454111529428474\",\n        },\n{\n            'v': -0.2519840974061049,\n            'f': \"-0.2519840974061049\",\n        },\n{\n            'v': 0.052823062950144,\n            'f': \"0.052823062950144\",\n        },\n{\n            'v': -0.03637984509738724,\n            'f': \"-0.03637984509738724\",\n        },\n{\n            'v': 0.002975789794996047,\n            'f': \"0.002975789794996047\",\n        },\n{\n            'v': -0.007380440334985914,\n            'f': \"-0.007380440334985914\",\n        },\n{\n            'v': -0.033090519836723925,\n            'f': \"-0.033090519836723925\",\n        },\n{\n            'v': -0.03637717048954162,\n            'f': \"-0.03637717048954162\",\n        },\n{\n            'v': 0.007310613811572834,\n            'f': \"0.007310613811572834\",\n        },\n{\n            'v': 0.15237261055701054,\n            'f': \"0.15237261055701054\",\n        }],\n [\"BounceRates\",\n{\n            'v': -0.22356263038422594,\n            'f': \"-0.22356263038422594\",\n        },\n{\n            'v': -0.14417040950711418,\n            'f': \"-0.14417040950711418\",\n        },\n{\n            'v': -0.11611361638719091,\n            'f': \"-0.11611361638719091\",\n        },\n{\n            'v': -0.07406660989572071,\n            'f': \"-0.07406660989572071\",\n        },\n{\n            'v': -0.20457763335075316,\n            'f': \"-0.20457763335075316\",\n        },\n{\n            'v': -0.18454111529428474,\n            'f': \"-0.18454111529428474\",\n        },\n{\n            'v': 1.0,\n            'f': \"1.0\",\n        },\n{\n            'v': 0.9130043961815185,\n            'f': \"0.9130043961815185\",\n        },\n{\n            'v': -0.11938602629479486,\n            'f': \"-0.11938602629479486\",\n        },\n{\n            'v': 0.0727022530825555,\n            'f': \"0.0727022530825555\",\n        },\n{\n            'v': 0.023823182463080836,\n            'f': \"0.023823182463080836\",\n        },\n{\n            'v': -0.015772209261555672,\n            'f': \"-0.015772209261555672\",\n        },\n{\n            'v': -0.006485347449602025,\n            'f': \"-0.006485347449602025\",\n        },\n{\n            'v': 0.07828554120291616,\n            'f': \"0.07828554120291616\",\n        },\n{\n            'v': -0.04651399653118228,\n            'f': \"-0.04651399653118228\",\n        },\n{\n            'v': -0.1506729119260533,\n            'f': \"-0.1506729119260533\",\n        }],\n [\"ExitRates\",\n{\n            'v': -0.3164829975272521,\n            'f': \"-0.3164829975272521\",\n        },\n{\n            'v': -0.20579775727445548,\n            'f': \"-0.20579775727445548\",\n        },\n{\n            'v': -0.1636660607845007,\n            'f': \"-0.1636660607845007\",\n        },\n{\n            'v': -0.1052756833478731,\n            'f': \"-0.1052756833478731\",\n        },\n{\n            'v': -0.29252628311358025,\n            'f': \"-0.29252628311358025\",\n        },\n{\n            'v': -0.2519840974061049,\n            'f': \"-0.2519840974061049\",\n        },\n{\n            'v': 0.9130043961815185,\n            'f': \"0.9130043961815185\",\n        },\n{\n            'v': 1.0,\n            'f': \"1.0\",\n        },\n{\n            'v': -0.17449831000178184,\n            'f': \"-0.17449831000178184\",\n        },\n{\n            'v': 0.10224180209857663,\n            'f': \"0.10224180209857663\",\n        },\n{\n            'v': 0.01456673534477198,\n            'f': \"0.01456673534477198\",\n        },\n{\n            'v': -0.004442355026473063,\n            'f': \"-0.004442355026473063\",\n        },\n{\n            'v': -0.008907005956706467,\n            'f': \"-0.008907005956706467\",\n        },\n{\n            'v': 0.07861633061233261,\n            'f': \"0.07861633061233261\",\n        },\n{\n            'v': -0.06258704801054936,\n            'f': \"-0.06258704801054936\",\n        },\n{\n            'v': -0.2070710820552722,\n            'f': \"-0.2070710820552722\",\n        }],\n [\"PageValues\",\n{\n            'v': 0.09898958539971277,\n            'f': \"0.09898958539971277\",\n        },\n{\n            'v': 0.06760848087034964,\n            'f': \"0.06760848087034964\",\n        },\n{\n            'v': 0.048631691953743394,\n            'f': \"0.048631691953743394\",\n        },\n{\n            'v': 0.030860873716780254,\n            'f': \"0.030860873716780254\",\n        },\n{\n            'v': 0.05628179410884894,\n            'f': \"0.05628179410884894\",\n        },\n{\n            'v': 0.052823062950144,\n            'f': \"0.052823062950144\",\n        },\n{\n            'v': -0.11938602629479486,\n            'f': \"-0.11938602629479486\",\n        },\n{\n            'v': -0.17449831000178184,\n            'f': \"-0.17449831000178184\",\n        },\n{\n            'v': 1.0,\n            'f': \"1.0\",\n        },\n{\n            'v': -0.06354127178534998,\n            'f': \"-0.06354127178534998\",\n        },\n{\n            'v': 0.018507946634803263,\n            'f': \"0.018507946634803263\",\n        },\n{\n            'v': 0.04559191854226462,\n            'f': \"0.04559191854226462\",\n        },\n{\n            'v': 0.011315299468006681,\n            'f': \"0.011315299468006681\",\n        },\n{\n            'v': 0.012531692664867294,\n            'f': \"0.012531692664867294\",\n        },\n{\n            'v': 0.012001639171359785,\n            'f': \"0.012001639171359785\",\n        },\n{\n            'v': 0.49256929525120574,\n            'f': \"0.49256929525120574\",\n        }],\n [\"SpecialDay\",\n{\n            'v': -0.09477759754428257,\n            'f': \"-0.09477759754428257\",\n        },\n{\n            'v': -0.07330372492126022,\n            'f': \"-0.07330372492126022\",\n        },\n{\n            'v': -0.04821925398952802,\n            'f': \"-0.04821925398952802\",\n        },\n{\n            'v': -0.030576549486372003,\n            'f': \"-0.030576549486372003\",\n        },\n{\n            'v': -0.02395817472400519,\n            'f': \"-0.02395817472400519\",\n        },\n{\n            'v': -0.03637984509738724,\n            'f': \"-0.03637984509738724\",\n        },\n{\n            'v': 0.0727022530825555,\n            'f': \"0.0727022530825555\",\n        },\n{\n            'v': 0.10224180209857663,\n            'f': \"0.10224180209857663\",\n        },\n{\n            'v': -0.06354127178534998,\n            'f': \"-0.06354127178534998\",\n        },\n{\n            'v': 1.0,\n            'f': \"1.0\",\n        },\n{\n            'v': 0.01265223473651744,\n            'f': \"0.01265223473651744\",\n        },\n{\n            'v': 0.003498746743314711,\n            'f': \"0.003498746743314711\",\n        },\n{\n            'v': -0.016097974624069006,\n            'f': \"-0.016097974624069006\",\n        },\n{\n            'v': 0.05230144264216626,\n            'f': \"0.05230144264216626\",\n        },\n{\n            'v': -0.01676715526954078,\n            'f': \"-0.01676715526954078\",\n        },\n{\n            'v': -0.08230459817953152,\n            'f': \"-0.08230459817953152\",\n        }],\n [\"OperatingSystems\",\n{\n            'v': -0.006347063271777328,\n            'f': \"-0.006347063271777328\",\n        },\n{\n            'v': -0.0073434175219950475,\n            'f': \"-0.0073434175219950475\",\n        },\n{\n            'v': -0.00952666789175222,\n            'f': \"-0.00952666789175222\",\n        },\n{\n            'v': -0.00957867640106472,\n            'f': \"-0.00957867640106472\",\n        },\n{\n            'v': 0.004289620582246028,\n            'f': \"0.004289620582246028\",\n        },\n{\n            'v': 0.002975789794996047,\n            'f': \"0.002975789794996047\",\n        },\n{\n            'v': 0.023823182463080836,\n            'f': \"0.023823182463080836\",\n        },\n{\n            'v': 0.01456673534477198,\n            'f': \"0.01456673534477198\",\n        },\n{\n            'v': 0.018507946634803263,\n            'f': \"0.018507946634803263\",\n        },\n{\n            'v': 0.01265223473651744,\n            'f': \"0.01265223473651744\",\n        },\n{\n            'v': 1.0,\n            'f': \"1.0\",\n        },\n{\n            'v': 0.22301288824747276,\n            'f': \"0.22301288824747276\",\n        },\n{\n            'v': 0.07677548563257915,\n            'f': \"0.07677548563257915\",\n        },\n{\n            'v': 0.18915361212809206,\n            'f': \"0.18915361212809206\",\n        },\n{\n            'v': 0.0002842506113326362,\n            'f': \"0.0002842506113326362\",\n        },\n{\n            'v': -0.01466755959421009,\n            'f': \"-0.01466755959421009\",\n        }],\n [\"Browser\",\n{\n            'v': -0.025034572301622246,\n            'f': \"-0.025034572301622246\",\n        },\n{\n            'v': -0.015391526719883216,\n            'f': \"-0.015391526719883216\",\n        },\n{\n            'v': -0.03823467813983742,\n            'f': \"-0.03823467813983742\",\n        },\n{\n            'v': -0.019284980935369168,\n            'f': \"-0.019284980935369168\",\n        },\n{\n            'v': -0.01314572095583748,\n            'f': \"-0.01314572095583748\",\n        },\n{\n            'v': -0.007380440334985914,\n            'f': \"-0.007380440334985914\",\n        },\n{\n            'v': -0.015772209261555672,\n            'f': \"-0.015772209261555672\",\n        },\n{\n            'v': -0.004442355026473063,\n            'f': \"-0.004442355026473063\",\n        },\n{\n            'v': 0.04559191854226462,\n            'f': \"0.04559191854226462\",\n        },\n{\n            'v': 0.003498746743314711,\n            'f': \"0.003498746743314711\",\n        },\n{\n            'v': 0.22301288824747276,\n            'f': \"0.22301288824747276\",\n        },\n{\n            'v': 1.0,\n            'f': \"1.0\",\n        },\n{\n            'v': 0.09739284920807333,\n            'f': \"0.09739284920807333\",\n        },\n{\n            'v': 0.11193822446993566,\n            'f': \"0.11193822446993566\",\n        },\n{\n            'v': -0.04026086380886525,\n            'f': \"-0.04026086380886525\",\n        },\n{\n            'v': 0.02398428940409267,\n            'f': \"0.02398428940409267\",\n        }],\n [\"Region\",\n{\n            'v': -0.005486805267111584,\n            'f': \"-0.005486805267111584\",\n        },\n{\n            'v': -0.0055605628393206995,\n            'f': \"-0.0055605628393206995\",\n        },\n{\n            'v': -0.02916863793730765,\n            'f': \"-0.02916863793730765\",\n        },\n{\n            'v': -0.027144112353764367,\n            'f': \"-0.027144112353764367\",\n        },\n{\n            'v': -0.03812184171387137,\n            'f': \"-0.03812184171387137\",\n        },\n{\n            'v': -0.033090519836723925,\n            'f': \"-0.033090519836723925\",\n        },\n{\n            'v': -0.006485347449602025,\n            'f': \"-0.006485347449602025\",\n        },\n{\n            'v': -0.008907005956706467,\n            'f': \"-0.008907005956706467\",\n        },\n{\n            'v': 0.011315299468006681,\n            'f': \"0.011315299468006681\",\n        },\n{\n            'v': -0.016097974624069006,\n            'f': \"-0.016097974624069006\",\n        },\n{\n            'v': 0.07677548563257915,\n            'f': \"0.07677548563257915\",\n        },\n{\n            'v': 0.09739284920807333,\n            'f': \"0.09739284920807333\",\n        },\n{\n            'v': 1.0,\n            'f': \"1.0\",\n        },\n{\n            'v': 0.047520231297077636,\n            'f': \"0.047520231297077636\",\n        },\n{\n            'v': -0.0006906703089069207,\n            'f': \"-0.0006906703089069207\",\n        },\n{\n            'v': -0.01159506777780069,\n            'f': \"-0.01159506777780069\",\n        }],\n [\"TrafficType\",\n{\n            'v': -0.03356071261303074,\n            'f': \"-0.03356071261303074\",\n        },\n{\n            'v': -0.014376430636008032,\n            'f': \"-0.014376430636008032\",\n        },\n{\n            'v': -0.034490753826794264,\n            'f': \"-0.034490753826794264\",\n        },\n{\n            'v': -0.02467490778346264,\n            'f': \"-0.02467490778346264\",\n        },\n{\n            'v': -0.043064303810434905,\n            'f': \"-0.043064303810434905\",\n        },\n{\n            'v': -0.03637717048954162,\n            'f': \"-0.03637717048954162\",\n        },\n{\n            'v': 0.07828554120291616,\n            'f': \"0.07828554120291616\",\n        },\n{\n            'v': 0.07861633061233261,\n            'f': \"0.07861633061233261\",\n        },\n{\n            'v': 0.012531692664867294,\n            'f': \"0.012531692664867294\",\n        },\n{\n            'v': 0.05230144264216626,\n            'f': \"0.05230144264216626\",\n        },\n{\n            'v': 0.18915361212809206,\n            'f': \"0.18915361212809206\",\n        },\n{\n            'v': 0.11193822446993566,\n            'f': \"0.11193822446993566\",\n        },\n{\n            'v': 0.047520231297077636,\n            'f': \"0.047520231297077636\",\n        },\n{\n            'v': 1.0,\n            'f': \"1.0\",\n        },\n{\n            'v': -0.0022212292430310644,\n            'f': \"-0.0022212292430310644\",\n        },\n{\n            'v': -0.005112970502755714,\n            'f': \"-0.005112970502755714\",\n        }],\n [\"Weekend\",\n{\n            'v': 0.026416750253924794,\n            'f': \"0.026416750253924794\",\n        },\n{\n            'v': 0.014990141913816167,\n            'f': \"0.014990141913816167\",\n        },\n{\n            'v': 0.03578472510756787,\n            'f': \"0.03578472510756787\",\n        },\n{\n            'v': 0.024078486249592326,\n            'f': \"0.024078486249592326\",\n        },\n{\n            'v': 0.01609196423446964,\n            'f': \"0.01609196423446964\",\n        },\n{\n            'v': 0.007310613811572834,\n            'f': \"0.007310613811572834\",\n        },\n{\n            'v': -0.04651399653118228,\n            'f': \"-0.04651399653118228\",\n        },\n{\n            'v': -0.06258704801054936,\n            'f': \"-0.06258704801054936\",\n        },\n{\n            'v': 0.012001639171359785,\n            'f': \"0.012001639171359785\",\n        },\n{\n            'v': -0.01676715526954078,\n            'f': \"-0.01676715526954078\",\n        },\n{\n            'v': 0.0002842506113326362,\n            'f': \"0.0002842506113326362\",\n        },\n{\n            'v': -0.04026086380886525,\n            'f': \"-0.04026086380886525\",\n        },\n{\n            'v': -0.0006906703089069207,\n            'f': \"-0.0006906703089069207\",\n        },\n{\n            'v': -0.0022212292430310644,\n            'f': \"-0.0022212292430310644\",\n        },\n{\n            'v': 1.0,\n            'f': \"1.0\",\n        },\n{\n            'v': 0.029295367971994668,\n            'f': \"0.029295367971994668\",\n        }],\n [\"Revenue\",\n{\n            'v': 0.13891709415067252,\n            'f': \"0.13891709415067252\",\n        },\n{\n            'v': 0.09358671905704198,\n            'f': \"0.09358671905704198\",\n        },\n{\n            'v': 0.0952003425720571,\n            'f': \"0.0952003425720571\",\n        },\n{\n            'v': 0.07034450234598345,\n            'f': \"0.07034450234598345\",\n        },\n{\n            'v': 0.1585379842808741,\n            'f': \"0.1585379842808741\",\n        },\n{\n            'v': 0.15237261055701054,\n            'f': \"0.15237261055701054\",\n        },\n{\n            'v': -0.1506729119260533,\n            'f': \"-0.1506729119260533\",\n        },\n{\n            'v': -0.2070710820552722,\n            'f': \"-0.2070710820552722\",\n        },\n{\n            'v': 0.49256929525120574,\n            'f': \"0.49256929525120574\",\n        },\n{\n            'v': -0.08230459817953152,\n            'f': \"-0.08230459817953152\",\n        },\n{\n            'v': -0.01466755959421009,\n            'f': \"-0.01466755959421009\",\n        },\n{\n            'v': 0.02398428940409267,\n            'f': \"0.02398428940409267\",\n        },\n{\n            'v': -0.01159506777780069,\n            'f': \"-0.01159506777780069\",\n        },\n{\n            'v': -0.005112970502755714,\n            'f': \"-0.005112970502755714\",\n        },\n{\n            'v': 0.029295367971994668,\n            'f': \"0.029295367971994668\",\n        },\n{\n            'v': 1.0,\n            'f': \"1.0\",\n        }]],\n        columns: [[\"string\", \"index\"], [\"number\", \"Administrative\"], [\"number\", \"Administrative_Duration\"], [\"number\", \"Informational\"], [\"number\", \"Informational_Duration\"], [\"number\", \"ProductRelated\"], [\"number\", \"ProductRelated_Duration\"], [\"number\", \"BounceRates\"], [\"number\", \"ExitRates\"], [\"number\", \"PageValues\"], [\"number\", \"SpecialDay\"], [\"number\", \"OperatingSystems\"], [\"number\", \"Browser\"], [\"number\", \"Region\"], [\"number\", \"TrafficType\"], [\"number\", \"Weekend\"], [\"number\", \"Revenue\"]],\n        columnOptions: [{\"width\": \"1px\", \"className\": \"index_column\"}],\n        rowsPerPage: 25,\n        helpUrl: \"https://colab.research.google.com/notebooks/data_table.ipynb\",\n        suppressOutputScrolling: true,\n        minimumWidth: undefined,\n      });\n      \n      function appendQuickchartButton(parentElement) {\n        let quickchartButtonContainerElement = document.createElement('div');\n        quickchartButtonContainerElement.innerHTML = `\n    <div id=\"df-a4eb938a-cee1-4640-b0ad-ea51caa02099\">\n      <button class=\"colab-df-quickchart\" onclick=\"quickchart('df-a4eb938a-cee1-4640-b0ad-ea51caa02099')\"\n              title=\"Generate charts.\"\n              style=\"display:none;\">\n\n<svg xmlns=\"http://www.w3.org/2000/svg\" height=\"24px\"viewBox=\"0 0 24 24\"\n     width=\"24px\">\n    <g>\n        <path d=\"M19 3H5c-1.1 0-2 .9-2 2v14c0 1.1.9 2 2 2h14c1.1 0 2-.9 2-2V5c0-1.1-.9-2-2-2zM9 17H7v-7h2v7zm4 0h-2V7h2v10zm4 0h-2v-4h2v4z\"/>\n    </g>\n</svg>\n      </button>\n    </div>\n\n<style>\n  .colab-df-quickchart {\n    background-color: #E8F0FE;\n    border: none;\n    border-radius: 50%;\n    cursor: pointer;\n    display: none;\n    fill: #1967D2;\n    height: 32px;\n    padding: 0 0 0 0;\n    width: 32px;\n  }\n\n  .colab-df-quickchart:hover {\n    background-color: #E2EBFA;\n    box-shadow: 0px 1px 2px rgba(60, 64, 67, 0.3), 0px 1px 3px 1px rgba(60, 64, 67, 0.15);\n    fill: #174EA6;\n  }\n\n  [theme=dark] .colab-df-quickchart {\n    background-color: #3B4455;\n    fill: #D2E3FC;\n  }\n\n  [theme=dark] .colab-df-quickchart:hover {\n    background-color: #434B5C;\n    box-shadow: 0px 1px 3px 1px rgba(0, 0, 0, 0.15);\n    filter: drop-shadow(0px 1px 2px rgba(0, 0, 0, 0.3));\n    fill: #FFFFFF;\n  }\n</style>\n\n    <script>\n      async function quickchart(key) {\n        const containerElement = document.querySelector('#' + key);\n        const charts = await google.colab.kernel.invokeFunction(\n            'generateCharts', [key], {});\n      }\n    </script>\n`;\n        parentElement.appendChild(quickchartButtonContainerElement);\n        \nfunction displayQuickchartButton(domScope) {\n  let quickchartButtonEl =\n    domScope.querySelector('#df-a4eb938a-cee1-4640-b0ad-ea51caa02099 button.colab-df-quickchart');\n  quickchartButtonEl.style.display =\n    google.colab.kernel.accessAllowed ? 'block' : 'none';\n}\n\n        displayQuickchartButton(parentElement);\n      }\n    "
          },
          "metadata": {},
          "execution_count": 98
        }
      ]
    },
    {
      "cell_type": "markdown",
      "source": [
        "Las características relevantes que usaremos en este caso son:\n",
        "\n",
        "- **Revenue:** si se concretó una venta durante la visita; variable clave de interés. --- VARIABLE TARGET\n",
        "\n",
        "- **Page Values:**  es una métrica utilizada por Google Analytics para medir el valor de una página del sitioweb y compararla con la conversión que tuvo. Permite determinar cuánto Revenue una página está generando basado en el número de personas que visitó la página.\n",
        "\n",
        "- **Traffic type:** Existen varios tipos de tráficos pero el dataset no utiliza labels sólo valores numéricos para separarlos por lo cual no se los puede distinguir.\n",
        "\n",
        "- **Visitor Type :** indica si la visita al sitio web es de un visitante nuevo o recurrente.\n",
        "\n",
        "- **Administrative, Administrative Duration, Informational, Informational Duration, Product Related and Product Related Duration:** representan el número de diferentes tipos de páginas que fueron visitadas en una sesión y la cantidad de tiempo que se pasó en cada categoría de página.\n",
        "\n",
        "Sin embargo se decide dejar a las variables Operating Systems, Browser and Region ya que son de ayuda para definir el tipo de tráfico que recibe un sitio web."
      ],
      "metadata": {
        "id": "rfnMPLfAxi97"
      }
    },
    {
      "cell_type": "code",
      "source": [
        "#se asigna una etiqueta a cada mes para que al utilizar la nueva columna quede ordenado\n",
        "month_dict = {'Feb': 2, 'Mar': 3, 'Apr': 4, 'May': 5, 'June': 6, 'Jul': 7, 'Aug': 8, 'Sep': 9, 'Oct': 10, 'Nov': 11, 'Dec': 12}\n",
        "\n",
        "df['Month_Ordered'] = df['Month'].map(month_dict)\n",
        "\n",
        "df = df.sort_values(by='Month_Ordered')\n",
        "\n",
        "df = df.reset_index(drop=True)"
      ],
      "metadata": {
        "id": "aHS2VWYRymbU"
      },
      "execution_count": null,
      "outputs": []
    },
    {
      "cell_type": "code",
      "source": [
        "# Se convierte Revenue a integer\n",
        "df['Revenue'] = df['Revenue'].astype(int)\n"
      ],
      "metadata": {
        "id": "N5X8WgP1zHsf"
      },
      "execution_count": null,
      "outputs": []
    },
    {
      "cell_type": "markdown",
      "source": [
        "# EDA\n",
        "\n",
        "\n"
      ],
      "metadata": {
        "id": "jTo3w3IfZmPG"
      }
    },
    {
      "cell_type": "code",
      "source": [
        "page_values = df.groupby('TrafficType')['PageValues'].mean()\n",
        "\n",
        "fig, ax = plt.subplots(figsize=(8, 4))\n",
        "\n",
        "colors = ['#FFD372'] * len(page_values)\n",
        "\n",
        "ax.bar(page_values.index, page_values.values, color=colors)\n",
        "\n",
        "ax.set_xlabel('Traffic Type')\n",
        "ax.set_ylabel('Valor medio de Page Value')\n",
        "ax.set_title('Valores medios de Page Values para Traffic type')\n",
        "\n",
        "plt.show()"
      ],
      "metadata": {
        "colab": {
          "base_uri": "https://localhost:8080/",
          "height": 410
        },
        "id": "sGit84nuZKHh",
        "outputId": "34584750-059f-4049-ae70-cdb8cc6d967f"
      },
      "execution_count": null,
      "outputs": [
        {
          "output_type": "display_data",
          "data": {
            "text/plain": [
              "<Figure size 800x400 with 1 Axes>"
            ],
            "image/png": "[encoded data removed]"
          },
          "metadata": {}
        }
      ]
    },
    {
      "cell_type": "markdown",
      "source": [
        "Si bien a simple vista parece que algunos tipos de tráficos tiene mejor Page value. También se analiza el conteo de incidencias de cada tipo de tráfico para analizar la relevancia según el porcentaje que representa del total de visitas."
      ],
      "metadata": {
        "id": "oSzcojkGd8R5"
      }
    },
    {
      "cell_type": "code",
      "source": [
        "df.describe()\n",
        "#se chequea cuantos valores hay de cada uno\n",
        "traffic_type_counts = df['TrafficType'].value_counts()\n",
        "print(traffic_type_counts)"
      ],
      "metadata": {
        "id": "f6hpLpw-2Adz",
        "colab": {
          "base_uri": "https://localhost:8080/"
        },
        "outputId": "e94cdecd-4566-410b-d51e-1074fb03e714"
      },
      "execution_count": null,
      "outputs": [
        {
          "output_type": "stream",
          "name": "stdout",
          "text": [
            "2     3913\n",
            "1     2451\n",
            "3     2052\n",
            "4     1069\n",
            "13     738\n",
            "10     450\n",
            "6      444\n",
            "8      343\n",
            "5      260\n",
            "11     247\n",
            "20     198\n",
            "9       42\n",
            "7       40\n",
            "15      38\n",
            "19      17\n",
            "14      13\n",
            "18      10\n",
            "16       3\n",
            "12       1\n",
            "17       1\n",
            "Name: TrafficType, dtype: int64\n"
          ]
        }
      ]
    },
    {
      "cell_type": "code",
      "source": [
        "rev_0_count = df.loc[df['Revenue'] == 0, 'TrafficType'].value_counts()\n",
        "rev_1_count = df.loc[df['Revenue'] == 1, 'TrafficType'].value_counts()\n",
        "\n",
        "df_counts = pd.concat([rev_0_count, rev_1_count], axis=1)\n",
        "df_counts.columns = ['Venta = No', 'Venta = Sí']\n",
        "\n",
        "custom_yellow = '#FFD372'\n",
        "\n",
        "fig, ax = plt.subplots(figsize=(5, 4))\n",
        "\n",
        "df_counts.plot(kind='bar', ax=ax, color=['black', custom_yellow])\n",
        "ax.set_xlabel('Tipo de tráfico')\n",
        "ax.set_ylabel('Conteo de ventas')\n",
        "ax.set_title('Tipo de tráfico vs Conversión a venta')\n",
        "plt.xticks(rotation=45)\n",
        "plt.show()\n"
      ],
      "metadata": {
        "id": "uqfFf-fEIVl-",
        "colab": {
          "base_uri": "https://localhost:8080/",
          "height": 420
        },
        "outputId": "8b95b3f2-c5fd-442c-8108-49401a73542f"
      },
      "execution_count": null,
      "outputs": [
        {
          "output_type": "display_data",
          "data": {
            "text/plain": [
              "<Figure size 500x400 with 1 Axes>"
            ],
            "image/png": "[encoded data removed]"
          },
          "metadata": {}
        }
      ]
    },
    {
      "cell_type": "markdown",
      "source": [
        "Con el fin de evaluar tendencias estacionales se evalúa las ventas por mes. Hay más ventas, Revenue=True, durante Marzo y Mayo, no existiendo información para Abril. De Julio a Septiembre parece haber un estancamiento del número de ventas. Hay un pico de ventas en Noviembre coincidiendo con el Black Friday.\n"
      ],
      "metadata": {
        "id": "K25N5BowFQs_"
      }
    },
    {
      "cell_type": "code",
      "source": [
        "df['Revenue'] = df['Revenue'].astype(int)\n",
        "\n",
        "sns.barplot(data=df, x='Month_Ordered', y='Revenue', estimator=np.sum, color='#FFBF46')\n",
        "\n",
        "ax = plt.gca()\n",
        "fig = plt.gcf()\n",
        "fig.set_size_inches(12, 2)\n",
        "\n",
        "labels = ['Febrero', 'Marzo', 'Mayo', 'Junio', 'Julio', 'Agosto', 'Septiembre', 'Octubre', 'Noviembre', 'Diciembre']\n",
        "ax.set_xticklabels(labels)\n",
        "\n",
        "plt.xlabel('Mes')\n",
        "plt.ylabel('Ingresos')\n",
        "plt.show()\n",
        "\n"
      ],
      "metadata": {
        "id": "D00dyX2i2T92",
        "colab": {
          "base_uri": "https://localhost:8080/",
          "height": 234
        },
        "outputId": "708f75bf-c05d-4ecc-9139-609ade0ebc46"
      },
      "execution_count": null,
      "outputs": [
        {
          "output_type": "display_data",
          "data": {
            "text/plain": [
              "<Figure size 1200x200 with 1 Axes>"
            ],
            "image/png": "[encoded data removed]"
          },
          "metadata": {}
        }
      ]
    },
    {
      "cell_type": "code",
      "source": [
        "df_ventas=df[['Month_Ordered', 'VisitorType']]\n",
        "df_ventas.head()"
      ],
      "metadata": {
        "id": "BFMLZpxUxpEl",
        "colab": {
          "base_uri": "https://localhost:8080/",
          "height": 196
        },
        "outputId": "7d4bcef8-34ee-4495-b1b0-5f6a5c567935"
      },
      "execution_count": null,
      "outputs": [
        {
          "output_type": "execute_result",
          "data": {
            "text/plain": [
              "   Month_Ordered        VisitorType\n",
              "0              2  Returning_Visitor\n",
              "1              2  Returning_Visitor\n",
              "2              2  Returning_Visitor\n",
              "3              2  Returning_Visitor\n",
              "4              2  Returning_Visitor"
            ],
            "text/html": [
              "\n",
              "  <div id=\"df-cd59581a-828a-4157-b90e-490c34c80af5\">\n",
              "    <div class=\"colab-df-container\">\n",
              "      <div>\n",
              "<style scoped>\n",
              "    .dataframe tbody tr th:only-of-type {\n",
              "        vertical-align: middle;\n",
              "    }\n",
              "\n",
              "    .dataframe tbody tr th {\n",
              "        vertical-align: top;\n",
              "    }\n",
              "\n",
              "    .dataframe thead th {\n",
              "        text-align: right;\n",
              "    }\n",
              "</style>\n",
              "<table border=\"1\" class=\"dataframe\">\n",
              "  <thead>\n",
              "    <tr style=\"text-align: right;\">\n",
              "      <th></th>\n",
              "      <th>Month_Ordered</th>\n",
              "      <th>VisitorType</th>\n",
              "    </tr>\n",
              "  </thead>\n",
              "  <tbody>\n",
              "    <tr>\n",
              "      <th>0</th>\n",
              "      <td>2</td>\n",
              "      <td>Returning_Visitor</td>\n",
              "    </tr>\n",
              "    <tr>\n",
              "      <th>1</th>\n",
              "      <td>2</td>\n",
              "      <td>Returning_Visitor</td>\n",
              "    </tr>\n",
              "    <tr>\n",
              "      <th>2</th>\n",
              "      <td>2</td>\n",
              "      <td>Returning_Visitor</td>\n",
              "    </tr>\n",
              "    <tr>\n",
              "      <th>3</th>\n",
              "      <td>2</td>\n",
              "      <td>Returning_Visitor</td>\n",
              "    </tr>\n",
              "    <tr>\n",
              "      <th>4</th>\n",
              "      <td>2</td>\n",
              "      <td>Returning_Visitor</td>\n",
              "    </tr>\n",
              "  </tbody>\n",
              "</table>\n",
              "</div>\n",
              "      <button class=\"colab-df-convert\" onclick=\"convertToInteractive('df-cd59581a-828a-4157-b90e-490c34c80af5')\"\n",
              "              title=\"Convert this dataframe to an interactive table.\"\n",
              "              style=\"display:none;\">\n",
              "        \n",
              "  <svg xmlns=\"http://www.w3.org/2000/svg\" height=\"24px\"viewBox=\"0 0 24 24\"\n",
              "       width=\"24px\">\n",
              "    <path d=\"M0 0h24v24H0V0z\" fill=\"none\"/>\n",
              "    <path d=\"M18.56 5.44l.94 2.06.94-2.06 2.06-.94-2.06-.94-.94-2.06-.94 2.06-2.06.94zm-11 1L8.5 8.5l.94-2.06 2.06-.94-2.06-.94L8.5 2.5l-.94 2.06-2.06.94zm10 10l.94 2.06.94-2.06 2.06-.94-2.06-.94-.94-2.06-.94 2.06-2.06.94z\"/><path d=\"M17.41 7.96l-1.37-1.37c-.4-.4-.92-.59-1.43-.59-.52 0-1.04.2-1.43.59L10.3 9.45l-7.72 7.72c-.78.78-.78 2.05 0 2.83L4 21.41c.39.39.9.59 1.41.59.51 0 1.02-.2 1.41-.59l7.78-7.78 2.81-2.81c.8-.78.8-2.07 0-2.86zM5.41 20L4 18.59l7.72-7.72 1.47 1.35L5.41 20z\"/>\n",
              "  </svg>\n",
              "      </button>\n",
              "      \n",
              "  <style>\n",
              "    .colab-df-container {\n",
              "      display:flex;\n",
              "      flex-wrap:wrap;\n",
              "      gap: 12px;\n",
              "    }\n",
              "\n",
              "    .colab-df-convert {\n",
              "      background-color: #E8F0FE;\n",
              "      border: none;\n",
              "      border-radius: 50%;\n",
              "      cursor: pointer;\n",
              "      display: none;\n",
              "      fill: #1967D2;\n",
              "      height: 32px;\n",
              "      padding: 0 0 0 0;\n",
              "      width: 32px;\n",
              "    }\n",
              "\n",
              "    .colab-df-convert:hover {\n",
              "      background-color: #E2EBFA;\n",
              "      box-shadow: 0px 1px 2px rgba(60, 64, 67, 0.3), 0px 1px 3px 1px rgba(60, 64, 67, 0.15);\n",
              "      fill: #174EA6;\n",
              "    }\n",
              "\n",
              "    [theme=dark] .colab-df-convert {\n",
              "      background-color: #3B4455;\n",
              "      fill: #D2E3FC;\n",
              "    }\n",
              "\n",
              "    [theme=dark] .colab-df-convert:hover {\n",
              "      background-color: #434B5C;\n",
              "      box-shadow: 0px 1px 3px 1px rgba(0, 0, 0, 0.15);\n",
              "      filter: drop-shadow(0px 1px 2px rgba(0, 0, 0, 0.3));\n",
              "      fill: #FFFFFF;\n",
              "    }\n",
              "  </style>\n",
              "\n",
              "      <script>\n",
              "        const buttonEl =\n",
              "          document.querySelector('#df-cd59581a-828a-4157-b90e-490c34c80af5 button.colab-df-convert');\n",
              "        buttonEl.style.display =\n",
              "          google.colab.kernel.accessAllowed ? 'block' : 'none';\n",
              "\n",
              "        async function convertToInteractive(key) {\n",
              "          const element = document.querySelector('#df-cd59581a-828a-4157-b90e-490c34c80af5');\n",
              "          const dataTable =\n",
              "            await google.colab.kernel.invokeFunction('convertToInteractive',\n",
              "                                                     [key], {});\n",
              "          if (!dataTable) return;\n",
              "\n",
              "          const docLinkHtml = 'Like what you see? Visit the ' +\n",
              "            '<a target=\"_blank\" href=https://colab.research.google.com/notebooks/data_table.ipynb>data table notebook</a>'\n",
              "            + ' to learn more about interactive tables.';\n",
              "          element.innerHTML = '';\n",
              "          dataTable['output_type'] = 'display_data';\n",
              "          await google.colab.output.renderOutput(dataTable, element);\n",
              "          const docLink = document.createElement('div');\n",
              "          docLink.innerHTML = docLinkHtml;\n",
              "          element.appendChild(docLink);\n",
              "        }\n",
              "      </script>\n",
              "    </div>\n",
              "  </div>\n",
              "  "
            ],
            "application/vnd.google.colaboratory.module+javascript": "\n      import \"https://ssl.gstatic.com/colaboratory/data_table/881c4a0d49046431/data_table.js\";\n\n      const table = window.createDataTable({\n        data: [[{\n            'v': 0,\n            'f': \"0\",\n        },\n{\n            'v': 2,\n            'f': \"2\",\n        },\n\"Returning_Visitor\"],\n [{\n            'v': 1,\n            'f': \"1\",\n        },\n{\n            'v': 2,\n            'f': \"2\",\n        },\n\"Returning_Visitor\"],\n [{\n            'v': 2,\n            'f': \"2\",\n        },\n{\n            'v': 2,\n            'f': \"2\",\n        },\n\"Returning_Visitor\"],\n [{\n            'v': 3,\n            'f': \"3\",\n        },\n{\n            'v': 2,\n            'f': \"2\",\n        },\n\"Returning_Visitor\"],\n [{\n            'v': 4,\n            'f': \"4\",\n        },\n{\n            'v': 2,\n            'f': \"2\",\n        },\n\"Returning_Visitor\"]],\n        columns: [[\"number\", \"index\"], [\"number\", \"Month_Ordered\"], [\"string\", \"VisitorType\"]],\n        columnOptions: [{\"width\": \"1px\", \"className\": \"index_column\"}],\n        rowsPerPage: 25,\n        helpUrl: \"https://colab.research.google.com/notebooks/data_table.ipynb\",\n        suppressOutputScrolling: true,\n        minimumWidth: undefined,\n      });\n      \n      function appendQuickchartButton(parentElement) {\n        let quickchartButtonContainerElement = document.createElement('div');\n        quickchartButtonContainerElement.innerHTML = `\n    <div id=\"df-4667b718-fb57-4fd0-a0b2-359161fb8f20\">\n      <button class=\"colab-df-quickchart\" onclick=\"quickchart('df-4667b718-fb57-4fd0-a0b2-359161fb8f20')\"\n              title=\"Generate charts.\"\n              style=\"display:none;\">\n\n<svg xmlns=\"http://www.w3.org/2000/svg\" height=\"24px\"viewBox=\"0 0 24 24\"\n     width=\"24px\">\n    <g>\n        <path d=\"M19 3H5c-1.1 0-2 .9-2 2v14c0 1.1.9 2 2 2h14c1.1 0 2-.9 2-2V5c0-1.1-.9-2-2-2zM9 17H7v-7h2v7zm4 0h-2V7h2v10zm4 0h-2v-4h2v4z\"/>\n    </g>\n</svg>\n      </button>\n    </div>\n\n<style>\n  .colab-df-quickchart {\n    background-color: #E8F0FE;\n    border: none;\n    border-radius: 50%;\n    cursor: pointer;\n    display: none;\n    fill: #1967D2;\n    height: 32px;\n    padding: 0 0 0 0;\n    width: 32px;\n  }\n\n  .colab-df-quickchart:hover {\n    background-color: #E2EBFA;\n    box-shadow: 0px 1px 2px rgba(60, 64, 67, 0.3), 0px 1px 3px 1px rgba(60, 64, 67, 0.15);\n    fill: #174EA6;\n  }\n\n  [theme=dark] .colab-df-quickchart {\n    background-color: #3B4455;\n    fill: #D2E3FC;\n  }\n\n  [theme=dark] .colab-df-quickchart:hover {\n    background-color: #434B5C;\n    box-shadow: 0px 1px 3px 1px rgba(0, 0, 0, 0.15);\n    filter: drop-shadow(0px 1px 2px rgba(0, 0, 0, 0.3));\n    fill: #FFFFFF;\n  }\n</style>\n\n    <script>\n      async function quickchart(key) {\n        const containerElement = document.querySelector('#' + key);\n        const charts = await google.colab.kernel.invokeFunction(\n            'generateCharts', [key], {});\n      }\n    </script>\n`;\n        parentElement.appendChild(quickchartButtonContainerElement);\n        \nfunction displayQuickchartButton(domScope) {\n  let quickchartButtonEl =\n    domScope.querySelector('#df-4667b718-fb57-4fd0-a0b2-359161fb8f20 button.colab-df-quickchart');\n  quickchartButtonEl.style.display =\n    google.colab.kernel.accessAllowed ? 'block' : 'none';\n}\n\n        displayQuickchartButton(parentElement);\n      }\n    "
          },
          "metadata": {},
          "execution_count": 106
        }
      ]
    },
    {
      "cell_type": "code",
      "source": [
        "grouped = df_ventas.groupby('VisitorType')['VisitorType'].count()\n",
        "\n",
        "plt.figure(figsize=(4, 4))\n",
        "\n",
        "colors = ['black', 'green', '#FFD372']\n",
        "labels = ['Visitante nuevo', 'Otros', 'Visitante recurrente']\n",
        "\n",
        "plt.title('Porcentaje de usuario nuevos y recurrentes')\n",
        "plt.pie(x=grouped, labels=labels, colors=colors)\n",
        "plt.show()"
      ],
      "metadata": {
        "id": "967vxjI-y-9Q",
        "colab": {
          "base_uri": "https://localhost:8080/",
          "height": 367
        },
        "outputId": "e2141e26-daf6-4087-9a73-44b83eafe266"
      },
      "execution_count": null,
      "outputs": [
        {
          "output_type": "display_data",
          "data": {
            "text/plain": [
              "<Figure size 400x400 with 1 Axes>"
            ],
            "image/png": "[encoded data removed]"
          },
          "metadata": {}
        }
      ]
    },
    {
      "cell_type": "code",
      "source": [
        "mode = pd.Series(grouped).mode()\n",
        "print('Mode:', mode)\n"
      ],
      "metadata": {
        "id": "PM7G91kmzAtG",
        "colab": {
          "base_uri": "https://localhost:8080/"
        },
        "outputId": "c88d7d5c-4d52-455a-b28b-efa7099cad15"
      },
      "execution_count": null,
      "outputs": [
        {
          "output_type": "stream",
          "name": "stdout",
          "text": [
            "Mode: 0       85\n",
            "1     1694\n",
            "2    10551\n",
            "Name: VisitorType, dtype: int64\n"
          ]
        }
      ]
    },
    {
      "cell_type": "markdown",
      "source": [
        "Al ser Returning Visitor y New Visitor variables categóricas se estudia la moda para analizar los valores que más aparecen.\n",
        "\n",
        "*   Returning Visitor tiene una moda de 10551.\n",
        "*   New Visitor tiene una moda de 1694.\n",
        "\n",
        "Resulta evidente que la cantidad de nuevos visitantes es mínima respecto a los visitantes recurrentes, representando sólo el 13.7% del total de visitas.\n",
        "\n"
      ],
      "metadata": {
        "id": "MsYzV5Y3zEPC"
      }
    },
    {
      "cell_type": "markdown",
      "source": [
        "Siguiendo con lo anterior, se evalua si cada tipo de cliente genera Revenue o no y si es durante un día de semana o no.La mayoría de las ventas se realizó durante un día de semana, Weekend=False.\n",
        "\n"
      ],
      "metadata": {
        "id": "faqLNAlyCejH"
      }
    },
    {
      "cell_type": "code",
      "source": [
        "custom_palette = {0: 'black', 1: '#FFD372'}\n",
        "\n",
        "sns.countplot(data=df, x='Weekend', hue='Revenue', palette=custom_palette)\n",
        "\n",
        "plt.xticks([0, 1], ['Dia de semana', 'Fin de semana'])\n",
        "\n",
        "plt.xlabel('Momento de la semana')\n",
        "plt.ylabel('Conteo de sesiones')\n",
        "plt.title('Ventas en Día semanal vs. Fin de semana')\n",
        "plt.legend(title='VENTA', labels=['NO', 'SÍ'])\n",
        "\n",
        "plt.show()\n"
      ],
      "metadata": {
        "id": "n-FI--ARcAoC",
        "colab": {
          "base_uri": "https://localhost:8080/",
          "height": 487
        },
        "outputId": "19f16436-ee3a-43a3-a7e4-c67a471af1e1"
      },
      "execution_count": null,
      "outputs": [
        {
          "output_type": "display_data",
          "data": {
            "text/plain": [
              "<Figure size 800x500 with 1 Axes>"
            ],
            "image/png": "[encoded data removed]"
          },
          "metadata": {}
        }
      ]
    },
    {
      "cell_type": "code",
      "source": [
        "bounce_rate_gt_zero = df[df['BounceRates'] > 0]['BounceRates'].count()\n",
        "total_sessions = df.shape[0]\n",
        "percent_gt_zero = bounce_rate_gt_zero / total_sessions * 100\n",
        "\n",
        "print(f\"El porcentaje de sesiones con un bounce rate mayor a 0 es: {percent_gt_zero:.2f}%\")"
      ],
      "metadata": {
        "id": "mDHlySo22TRW",
        "colab": {
          "base_uri": "https://localhost:8080/"
        },
        "outputId": "75f97a20-3c13-4915-df5d-89ad894f8d37"
      },
      "execution_count": null,
      "outputs": [
        {
          "output_type": "stream",
          "name": "stdout",
          "text": [
            "El porcentaje de sesiones con un bounce rate mayor a 0 es: 55.25%\n"
          ]
        }
      ]
    },
    {
      "cell_type": "markdown",
      "source": [
        "Se evalua númericamente la correlación entre Bounce Rates y Exit Rates para luego graficarla utilizarla como referencia en un scatter plot entre ambas funciones."
      ],
      "metadata": {
        "id": "b6n_EyvsGaNo"
      }
    },
    {
      "cell_type": "code",
      "source": [
        "corr = df['BounceRates'].corr(df['ExitRates'])\n",
        "\n",
        "print(f\"Correlación entre BounceRates y ExitRates: {corr:.3f}\")"
      ],
      "metadata": {
        "id": "D5liXP8k7hGy",
        "colab": {
          "base_uri": "https://localhost:8080/"
        },
        "outputId": "40d4de12-e811-45bf-8844-6e5592d78fca"
      },
      "execution_count": null,
      "outputs": [
        {
          "output_type": "stream",
          "name": "stdout",
          "text": [
            "Correlación entre BounceRates y ExitRates: 0.913\n"
          ]
        }
      ]
    },
    {
      "cell_type": "code",
      "source": [
        "import matplotlib.cm as cm\n",
        "\n",
        "scatter_plot = plt.scatter(x=df['BounceRates'], y=df['ExitRates'], c=df['Revenue'], cmap=cm.YlGnBu)\n",
        "plt.rcParams['figure.figsize'] = (8, 5)\n",
        "\n",
        "# Set the colors for the scatter plot\n",
        "scatter_plot.set_cmap(cm.YlGnBu)\n",
        "scatter_plot.set_clim(0, 1)\n",
        "\n",
        "cbar = plt.colorbar(scatter_plot)\n",
        "cbar.set_label('Revenue')\n",
        "\n",
        "# Se le agrega la línea de regresión\n",
        "sns.regplot(x=df['BounceRates'], y=df['ExitRates'], scatter=False, line_kws={'alpha': 0.5})\n",
        "\n",
        "plt.text(x=0.15, y=0.05, s='Correlation = 0.913')\n",
        "\n",
        "plt.xlabel('Bounce Rates')\n",
        "plt.ylabel('Exit Rates')\n",
        "plt.title('Relación entre Exit Rates y Bounce Rates')\n",
        "\n",
        "\n",
        "plt.show()\n"
      ],
      "metadata": {
        "id": "d0tYqulG6s58",
        "colab": {
          "base_uri": "https://localhost:8080/",
          "height": 488
        },
        "outputId": "ba6f5b73-c668-4a9f-b91e-b7ae8a739cac"
      },
      "execution_count": null,
      "outputs": [
        {
          "output_type": "display_data",
          "data": {
            "text/plain": [
              "<Figure size 800x500 with 2 Axes>"
            ],
            "image/png": "[encoded data removed]"
          },
          "metadata": {}
        }
      ]
    },
    {
      "cell_type": "markdown",
      "source": [
        "Dado que Exit Rate es una medida más específica del comportamiento de los usuarios que Bounce Rate, es más relevante utilizarla como variable dependiente. Esto podría ayudar a evaluar patrones o relaciones entre el sitio y los visitantes que solo se van para saber qué páginas optimizar"
      ],
      "metadata": {
        "id": "YHsqwLB56XkI"
      }
    },
    {
      "cell_type": "markdown",
      "source": [
        "# INSIGHTS Y PRIMERAS RECOMENDACIONES\n"
      ],
      "metadata": {
        "id": "2ow63aQg9SKT"
      }
    },
    {
      "cell_type": "markdown",
      "source": [
        "Con el fin de mejorar los resultados obtenidos se recomienda.\n",
        "\n",
        "* Realizar un test A/B para mejorar el sitio web de tal manera que sea intuitivo.\n",
        "\n",
        "* Mejorar la estrategia de SEO para que las visitas que lleguen a través de motores de búsqueda encuentren el contenido correcto.\n",
        "\n",
        "* Mejorar el embudo de venta. Dado que la proporción de visitantes nuevos es baja, se recomienda enfocar las estrategias en primera instancia en generar brand awareness. Si bien es importante mantener clientes recurrentes, al acceder a un mercado mayor se puede generar un revenue mayor.\n",
        "\n",
        "* Mejores estrategias de conversión. Haciendo foco en la atracción de clientes durante el fin de semana.\n",
        "\n",
        "* Hacer uso de eventos de ventas como el Black Friday para atraer a nuevos clientes.\n",
        "\n",
        "\n"
      ],
      "metadata": {
        "id": "3kUkT2EN9WyN"
      }
    },
    {
      "cell_type": "markdown",
      "source": [
        "# BALANCEO DE CLASES"
      ],
      "metadata": {
        "id": "XeD6qhF9aVni"
      }
    },
    {
      "cell_type": "markdown",
      "source": [
        "Ya que el dataset está desbalanceado, de las 12,330 sesiones el 84.5% (10,422), no resultaron en venta, es decir: Revenue=0. Al ser una diferencia demasiado grande se opta por el método de Undersampling y se eliminan aleatoriamente instancias negativas para alcanzar un porcentaje de 75% de instancias negativas contra un 25% de instancias positivas."
      ],
      "metadata": {
        "id": "9zfmtdZ4aYvx"
      }
    },
    {
      "cell_type": "code",
      "source": [
        "# se divide el dataset en 2\n",
        "df_false = df[df['Revenue'] == 0]\n",
        "df_true = df[df['Revenue'] == 1]\n",
        "\n",
        "# Se determina el porcentaje que queremos tener al final\n",
        "num_instances_false = int(0.75 * len(df_false))\n",
        "num_instances_true = int(0.25 * len(df_true))\n",
        "\n",
        "#Se eligen al azar las instancias\n",
        "df_false_sampled = df_false.sample(n=num_instances_false, random_state=42)\n",
        "df_true_sampled = df_true.sample(n=num_instances_true, random_state=42)\n",
        "\n",
        "#Acá nos queda el df nuevo concatenado\n",
        "df_balanced = pd.concat([df_false_sampled, df_true_sampled])\n",
        "\n",
        "#Sobreescibo el anterior para no tener que cambiarlo en todo lo que hice\n",
        "df = df_balanced\n"
      ],
      "metadata": {
        "id": "uSFAvhmgbRZz"
      },
      "execution_count": null,
      "outputs": []
    },
    {
      "cell_type": "markdown",
      "source": [
        "# TEST DE HIPÓTESIS\n"
      ],
      "metadata": {
        "id": "0Eq2uGFuS2YN"
      }
    },
    {
      "cell_type": "markdown",
      "source": [
        "Se testea la hipótesis de que se generan más ventas los días especiales. Es decir SpecialDay>0 hay más ventas que SpecialDay=0."
      ],
      "metadata": {
        "id": "uztJJGx_UOI1"
      }
    },
    {
      "cell_type": "code",
      "source": [
        "import scipy.stats as stats\n",
        "\n",
        "\n",
        "# Se divide la data en 2: SpecialDays y non-SpecialDays\n",
        "special_days = df[df['SpecialDay'] > 0]['Revenue']\n",
        "non_special_days = df[df['SpecialDay'] == 0]['Revenue']\n",
        "\n",
        "# Se corre un t-test para comparar las ventas entre los 2 grupos\n",
        "t_statistic, p_value = stats.ttest_ind(special_days, non_special_days)\n",
        "\n",
        "print(\"T-Statistic:\", t_statistic)\n",
        "print(\"P-Value:\", p_value)\n"
      ],
      "metadata": {
        "colab": {
          "base_uri": "https://localhost:8080/"
        },
        "id": "xDUj3DtWYAkH",
        "outputId": "8a87dcde-fc93-4939-f351-98d249760f4e"
      },
      "execution_count": null,
      "outputs": [
        {
          "output_type": "stream",
          "name": "stdout",
          "text": [
            "T-Statistic: -5.347603796178193\n",
            "P-Value: 9.150144110676275e-08\n"
          ]
        }
      ]
    },
    {
      "cell_type": "markdown",
      "source": [
        "En general, los resultados indican que existe una diferencia significativa en los ingresos entre los días especiales y los días no especiales. La estadística T negativa sugiere que, en promedio, los ingresos en días especiales son más bajos que en días no especiales. El pequeño valor P proporciona una fuerte evidencia para rechazar la hipótesis nula y sugiere que la diferencia observada no se debe al azar."
      ],
      "metadata": {
        "id": "qKXhZq9zY6CQ"
      }
    },
    {
      "cell_type": "markdown",
      "source": [
        "# FEATURE ENGINEERING: PCA\n",
        "\n"
      ],
      "metadata": {
        "id": "jZbfCQ-6dX-G"
      }
    },
    {
      "cell_type": "code",
      "source": [
        "# primero hacemos el encoding con LabelEncoder\n",
        "\n",
        "from sklearn.preprocessing import LabelEncoder\n",
        "\n",
        "categorical_features = df.select_dtypes(include='object')\n",
        "\n",
        "label_encoder = LabelEncoder()\n",
        "\n",
        "for feature in categorical_features:\n",
        "    df[feature] = label_encoder.fit_transform(df[feature])\n"
      ],
      "metadata": {
        "id": "zYSelkt8dcn-"
      },
      "execution_count": null,
      "outputs": []
    },
    {
      "cell_type": "code",
      "source": [
        "from sklearn.decomposition import PCA\n",
        "\n",
        "numerical_features = df.select_dtypes(include='number')\n",
        "\n",
        "pca = PCA(n_components=2)  # No sé, elegí 2\n",
        "\n",
        "pca_result = pca.fit_transform(numerical_features)\n"
      ],
      "metadata": {
        "id": "fSHAUUF9dprM"
      },
      "execution_count": null,
      "outputs": []
    },
    {
      "cell_type": "code",
      "source": [
        "import matplotlib.pyplot as plt\n",
        "\n",
        "# Scatter plot of the principal components\n",
        "plt.scatter(pca_result[:, 0], pca_result[:, 1])\n",
        "plt.xlabel('Principal Component 1')\n",
        "plt.ylabel('Principal Component 2')\n",
        "plt.title('Principal Components Scatter Plot')\n",
        "plt.show()\n"
      ],
      "metadata": {
        "colab": {
          "base_uri": "https://localhost:8080/",
          "height": 487
        },
        "id": "bVYot68hfILt",
        "outputId": "0e46e210-c0c6-45ef-d29b-af5608d0382d"
      },
      "execution_count": null,
      "outputs": [
        {
          "output_type": "display_data",
          "data": {
            "text/plain": [
              "<Figure size 800x500 with 1 Axes>"
            ],
            "image/png": "[encoded data removed]"
          },
          "metadata": {}
        }
      ]
    },
    {
      "cell_type": "code",
      "source": [
        "#Le agrego los componenentes al df\n",
        "\n",
        "df['PCA1'] = pca_result[:, 0]\n",
        "df['PCA2'] = pca_result[:, 1]"
      ],
      "metadata": {
        "id": "WxFL3JREdy8I"
      },
      "execution_count": null,
      "outputs": []
    },
    {
      "cell_type": "code",
      "source": [
        "df.info()"
      ],
      "metadata": {
        "colab": {
          "base_uri": "https://localhost:8080/"
        },
        "id": "dNibI-Lrd42e",
        "outputId": "5aca559d-5798-4af3-a780-83371aec3666"
      },
      "execution_count": null,
      "outputs": [
        {
          "output_type": "stream",
          "name": "stdout",
          "text": [
            "<class 'pandas.core.frame.DataFrame'>\n",
            "Int64Index: 8293 entries, 9192 to 10357\n",
            "Data columns (total 21 columns):\n",
            " #   Column                   Non-Null Count  Dtype  \n",
            "---  ------                   --------------  -----  \n",
            " 0   Administrative           8293 non-null   int64  \n",
            " 1   Administrative_Duration  8293 non-null   float64\n",
            " 2   Informational            8293 non-null   int64  \n",
            " 3   Informational_Duration   8293 non-null   float64\n",
            " 4   ProductRelated           8293 non-null   int64  \n",
            " 5   ProductRelated_Duration  8293 non-null   float64\n",
            " 6   BounceRates              8293 non-null   float64\n",
            " 7   ExitRates                8293 non-null   float64\n",
            " 8   PageValues               8293 non-null   float64\n",
            " 9   SpecialDay               8293 non-null   float64\n",
            " 10  Month                    8293 non-null   int64  \n",
            " 11  OperatingSystems         8293 non-null   int64  \n",
            " 12  Browser                  8293 non-null   int64  \n",
            " 13  Region                   8293 non-null   int64  \n",
            " 14  TrafficType              8293 non-null   int64  \n",
            " 15  VisitorType              8293 non-null   int64  \n",
            " 16  Weekend                  8293 non-null   bool   \n",
            " 17  Revenue                  8293 non-null   int64  \n",
            " 18  Month_Ordered            8293 non-null   int64  \n",
            " 19  PCA1                     8293 non-null   float64\n",
            " 20  PCA2                     8293 non-null   float64\n",
            "dtypes: bool(1), float64(9), int64(11)\n",
            "memory usage: 1.3 MB\n"
          ]
        }
      ]
    },
    {
      "cell_type": "markdown",
      "source": [
        "#  ELECCIÓN DE MODELO DE CLASIFICACIÓN PARA ENTRENAR EL MODELO"
      ],
      "metadata": {
        "id": "M1mzwvfy3YtE"
      }
    },
    {
      "cell_type": "markdown",
      "source": [
        "SELECCIÓN DE MODELO DE BENCHMARK"
      ],
      "metadata": {
        "id": "GOeMKvcEyi6h"
      }
    },
    {
      "cell_type": "markdown",
      "source": [
        "Un modelo de benchmark se refiere a un punto de referencia o estándar utilizado para comparar el desempeño o la eficacia de otros modelos o enfoques. El modelo de benchmark generalmente es conocido por su buen desempeño y se utiliza como punto de referencia para medir si los nuevos modelos son capaces de superarlo o si presentan un rendimiento comparable. En nuestro caso elegimos usar un modelo de Regresión Logísitica dado que es un modelo flexible que permite trabajar con variables independientes de diferentes tipos (categóricas, binarias o continuas). En el caso del tipo de tráfico, una variable categórica, la regresión logística puede manejar eficazmente este tipo de datos y proporcionar predicciones precisas basadas en ellos."
      ],
      "metadata": {
        "id": "Z8z6xKi0ynyG"
      }
    },
    {
      "cell_type": "code",
      "source": [
        "from sklearn.model_selection import train_test_split\n",
        "from sklearn.linear_model import LogisticRegression\n",
        "from sklearn.metrics import accuracy_score\n",
        "from sklearn.preprocessing import StandardScaler\n",
        "from sklearn.metrics import precision_score, recall_score, f1_score\n",
        "from sklearn.metrics import roc_auc_score\n",
        "\n",
        "# Separate the features from the target variable\n",
        "X = df.drop(['Revenue'], axis=1)\n",
        "y = df['Revenue']\n",
        "\n",
        "# Split the data into training and testing sets\n",
        "X_train, X_test, y_train, y_test = train_test_split(X, y, test_size=0.2, random_state=42)\n",
        "\n",
        "# Scale the features using StandardScaler\n",
        "scaler = StandardScaler()\n",
        "X_train_scaled = scaler.fit_transform(X_train)\n",
        "X_test_scaled = scaler.transform(X_test)\n",
        "\n",
        "# Train a logistic regression model\n",
        "logreg = LogisticRegression(random_state=42, max_iter=1000)\n",
        "logreg.fit(X_train_scaled, y_train)\n",
        "\n",
        "# Make predictions on the testing set\n",
        "y_pred = logreg.predict(X_test_scaled)\n",
        "\n",
        "# Evaluate the accuracy of the model\n",
        "accuracy = accuracy_score(y_test, y_pred)\n",
        "print(f\"Accuracy: {accuracy:.2f}\")\n",
        "\n",
        "precision = precision_score(y_test, y_pred)\n",
        "recall = recall_score(y_test, y_pred)\n",
        "f1 = f1_score(y_test, y_pred)\n",
        "roc_auc = roc_auc_score(y_test, y_pred)\n",
        "\n",
        "\n",
        "print(f\"Precision: {precision:.2f}\")\n",
        "print(f\"Recall: {recall:.2f}\")\n",
        "print(f\"F1 score: {f1:.2f}\")\n",
        "print(f\"ROC-AUC score: {roc_auc:.2f}\")\n"
      ],
      "metadata": {
        "colab": {
          "base_uri": "https://localhost:8080/"
        },
        "id": "tCR0DGUM0bix",
        "outputId": "54bde617-e119-4e94-987c-667ebe0bbaf6"
      },
      "execution_count": null,
      "outputs": [
        {
          "output_type": "stream",
          "name": "stdout",
          "text": [
            "Accuracy: 0.94\n",
            "Precision: 0.65\n",
            "Recall: 0.23\n",
            "F1 score: 0.34\n",
            "ROC-AUC score: 0.61\n"
          ]
        }
      ]
    },
    {
      "cell_type": "markdown",
      "source": [
        ">>> PRIMER MODELO: ÁRBOL DE DECISIÓN"
      ],
      "metadata": {
        "id": "rCn-iuyxbMTX"
      }
    },
    {
      "cell_type": "markdown",
      "source": [
        "El primer modelo de clasificación que se evalúa es el árbol de decisión. Se lo entrena y se realizan predicciones en base al set de prueba, se calcula el accuracy y otras métricas como precisiòn, recall y puntaje de F1."
      ],
      "metadata": {
        "id": "O5OVXciWr_6m"
      }
    },
    {
      "cell_type": "code",
      "source": [
        "\n",
        "from sklearn.model_selection import train_test_split\n",
        "from sklearn.tree import DecisionTreeClassifier\n",
        "from sklearn.metrics import accuracy_score\n",
        "\n",
        "\n",
        "# Separate the features from the target variable\n",
        "X = df.drop(['Revenue'], axis=1)\n",
        "y = df['Revenue']\n",
        "\n",
        "# Split the data into training and testing sets\n",
        "X_train, X_test, y_train, y_test = train_test_split(X, y, test_size=0.2, random_state=42)\n",
        "\n",
        "# Train a decision tree classifier\n",
        "clf = DecisionTreeClassifier(random_state=42)\n",
        "clf.fit(X_train, y_train)\n",
        "\n",
        "# Make predictions on the testing set\n",
        "y_pred = clf.predict(X_test)\n",
        "\n",
        "# Evaluate the accuracy of the model\n",
        "accuracy = accuracy_score(y_test, y_pred)\n",
        "roc_auc = roc_auc_score(y_test, y_pred)\n",
        "\n",
        "precision = precision_score(y_test, y_pred)\n",
        "recall = recall_score(y_test, y_pred)\n",
        "f1 = f1_score(y_test, y_pred)\n",
        "\n",
        "print(f\"Accuracy: {accuracy:.2f}\")\n",
        "print(f\"Precision: {precision:.2f}\")\n",
        "print(f\"Recall: {recall:.2f}\")\n",
        "print(f\"F1 score: {f1:.2f}\")\n",
        "print(f\"ROC-AUC score: {roc_auc:.2f}\")\n",
        "\n"
      ],
      "metadata": {
        "id": "pqlPNKVbkrYX",
        "colab": {
          "base_uri": "https://localhost:8080/"
        },
        "outputId": "3d0446cd-83b3-4988-c79a-3ece0bfcc531"
      },
      "execution_count": null,
      "outputs": [
        {
          "output_type": "stream",
          "name": "stdout",
          "text": [
            "Accuracy: 0.92\n",
            "Precision: 0.39\n",
            "Recall: 0.45\n",
            "F1 score: 0.42\n",
            "ROC-AUC score: 0.70\n"
          ]
        }
      ]
    },
    {
      "cell_type": "code",
      "source": [
        "from sklearn.metrics import confusion_matrix\n",
        "\n",
        "cm = confusion_matrix(y_test, y_pred)\n",
        "print(cm)\n"
      ],
      "metadata": {
        "id": "z5WxiNCqmdAU",
        "colab": {
          "base_uri": "https://localhost:8080/"
        },
        "outputId": "a55073cf-584f-4d4c-fa02-1168daed19bd"
      },
      "execution_count": null,
      "outputs": [
        {
          "output_type": "stream",
          "name": "stdout",
          "text": [
            "[[1482   73]\n",
            " [  57   47]]\n"
          ]
        }
      ]
    },
    {
      "cell_type": "markdown",
      "source": [
        "Se procede a interpretar la matriz de confusión:\n",
        "\n",
        " * True positives (TP): 237 - el número de casos positicos que el modelo predijo correctamente como tal, es decir, el número de clientes que realizó una compra y el modelo lo identificó correctamente.\n",
        "\n",
        " * True negatives (TN): 1890 - el número de casos negativos que el modelo predijo correctamente. Para nuestro modelo, la cantidad de clientes que no realizó una compra y que el modelo identificó correctamente.\n",
        "\n",
        " * False positives (FP): 165 - el número de casos negativos que el modelo predijo como positivos. Para el modelo, el número de clientes que no realizó una compra pero que el modelo predijo incorrectamente que iba a realizar una compra.\n",
        "\n",
        " * False negatives (FN): 174 - el número de casos positivos que el modelo predijo como positivo que el modelo incorrectamente predijo como positivos. En nuestro caso, la cantidad de clientes que realizó una compra pero que el modelo incorrectamente predijo que no había realizado una.\n",
        "\n",
        " Basandonos en estos resultados la precisión, el recall y el puntaje de F1.\n",
        "\n",
        "* Precision: TP / (TP + FP) = 237 / (237 + 165) = 0.59\n",
        "* Recall: TP / (TP + FN) = 237 / (237 + 174) = 0.58\n",
        "* F1 score: 2 * Precision * Recall / (Precision + Recall) = 2 * 0.59 * 0.58 / (0.59 + 0.58) = 0.58\n",
        "\n",
        "Estos resultados indican que el modelo tiene una precisión de 0.59, lo que significa que de todas las instancias que el modelo predijo como positivas, solo el 59%  era realmente positivo. El recall de 0.58 indica que el modelo identificó solo el 58% de todas las instancias positivas.\n",
        "El puntaje de F1 de 0.58 indica que el modelo no está teniendo una buena performance en términos de balancear la precisión y el recall. Un puntaje de F1 más cercano a 1 indica una mejor performance.\n",
        "\n",
        "Un puntaje de AUC también se maneja entre un rango de 0 y 1, siendo esta última una performance perfecta. El modelo obtuvo 0.75,lo cual indica que el modelo tiene un 75 % de posibilidades de clasificar una instancia positiva elegida al azar por encima de una instancia negativa elegida al azar, lo que es mejor que la probabilidad aleatoria (0,5) pero no perfecta."
      ],
      "metadata": {
        "id": "E5cZospCmnvF"
      }
    },
    {
      "cell_type": "markdown",
      "source": [
        "En este caso el modelo tiene un accuracy de 0.86 que a primera vista resulta relativamente alto. Sin embargo, al analizar la performance en otras métricas, a saber precisión, recall y puntaje de F1 se empiezan a notar fallas en el modelo. Puntualmente, la baja precisión y el recall indican que el modelo está incorrectamente prediciendo instancias como negativas cuando deberían ser positivas.\n",
        "\n",
        "Se procede a evaluar otros modelos de clasificación con el fin de elegir el que sea màs acorde para los resultados que se buscan."
      ],
      "metadata": {
        "id": "eD3L8ucarGE1"
      }
    },
    {
      "cell_type": "markdown",
      "source": [
        ">>> SEGUNDO MODELO: KNN"
      ],
      "metadata": {
        "id": "DIGXuRHYfGo5"
      }
    },
    {
      "cell_type": "markdown",
      "source": [
        "El segundo modelo de clasificación a evaluar es KNN (K-Nearest Neighbors), es un tipo de aprendizaje basado en instancias donde el modelo aprende la función encontrando el ejemplo de entrenamiento más cercano en el espacio de la feature. Dada una nueva observación de entrada, KNN encuentra los K ejemplos de entrenamiento más cercanos (vecinos) en el espacio de características y clasifica la observación de entrada en función de la clase mayoritaria de sus K vecinos más cercanos.\n",
        "\n",
        "\n",
        "Para mejorar la performance del modelo se usa OneHotEncoder en lugar de getdummies para reducir el riesgo de overfitting. También se deicidió usar StandardScaler para normalizar los datos, sin este paso, las características con grandes magnitudes pueden tener un impacto desproporcionado en la métrica de distancia utilizada en KNN, lo que dificulta que el algoritmo identifique correctamente instancias similares. StandardScaler ayuda a evitar este problema al garantizar que cada instancia contribuya por igual a la métrica de distancia."
      ],
      "metadata": {
        "id": "QV6Bz3aLf0vQ"
      }
    },
    {
      "cell_type": "code",
      "source": [
        "from sklearn.neighbors import KNeighborsClassifier\n",
        "from sklearn.metrics import accuracy_score, precision_score, recall_score, f1_score\n",
        "from sklearn.preprocessing import OneHotEncoder\n",
        "from sklearn.preprocessing import StandardScaler\n",
        "\n",
        "# Split the dataset into input features and target variable\n",
        "X = df.drop('Revenue', axis=1)\n",
        "y = df['Revenue']\n",
        "\n",
        "# Convert all columns to string type\n",
        "X.columns = X.columns.astype(str)\n",
        "\n",
        "# Split the data into training and testing sets\n",
        "X_train, X_test, y_train, y_test = train_test_split(X, y, test_size=0.2, random_state=42)\n",
        "\n",
        "# Convert all columns to string type\n",
        "X_train.columns = X_train.columns.astype(str)\n",
        "X_test.columns = X_test.columns.astype(str)\n",
        "\n",
        "# Scale the input features using StandardScaler\n",
        "scaler = StandardScaler()\n",
        "X_train_scaled = scaler.fit_transform(X_train)\n",
        "X_test_scaled = scaler.transform(X_test)\n",
        "\n",
        "# Train the KNN model\n",
        "knn = KNeighborsClassifier(n_neighbors=5)\n",
        "knn.fit(X_train_scaled, y_train)\n",
        "\n",
        "# Make predictions on the test set\n",
        "y_pred = knn.predict(X_test_scaled)\n",
        "\n",
        "# Calculate the evaluation metrics\n",
        "accuracy = accuracy_score(y_test, y_pred)\n",
        "precision = precision_score(y_test, y_pred)\n",
        "recall = recall_score(y_test, y_pred)\n",
        "f1 = f1_score(y_test, y_pred)\n",
        "\n",
        "print(f'Accuracy: {accuracy:.3f}')\n",
        "print(f'Precision: {precision:.3f}')\n",
        "print(f'Recall: {recall:.3f}')\n",
        "print(f'F1 Score: {f1:.3f}')\n"
      ],
      "metadata": {
        "id": "ArnWqDz-ihIO",
        "colab": {
          "base_uri": "https://localhost:8080/"
        },
        "outputId": "66b7d37b-4433-443e-a483-fd50f91aace2"
      },
      "execution_count": null,
      "outputs": [
        {
          "output_type": "stream",
          "name": "stdout",
          "text": [
            "Accuracy: 0.954\n",
            "Precision: 0.792\n",
            "Recall: 0.365\n",
            "F1 Score: 0.500\n"
          ]
        }
      ]
    },
    {
      "cell_type": "code",
      "source": [
        "from sklearn.metrics import confusion_matrix\n",
        "\n",
        "# Make predictions on the test set\n",
        "y_pred = knn.predict(X_test_scaled)\n",
        "\n",
        "# Calculate the confusion matrix\n",
        "cm = confusion_matrix(y_test, y_pred)\n",
        "\n",
        "print(cm)"
      ],
      "metadata": {
        "id": "jBwEdmgjo0ZQ",
        "colab": {
          "base_uri": "https://localhost:8080/"
        },
        "outputId": "11c43100-0e4b-4b6c-9655-b8d5796c7b4a"
      },
      "execution_count": null,
      "outputs": [
        {
          "output_type": "stream",
          "name": "stdout",
          "text": [
            "[[1545   10]\n",
            " [  66   38]]\n"
          ]
        }
      ]
    },
    {
      "cell_type": "code",
      "source": [
        "from sklearn.metrics import roc_auc_score\n",
        "\n",
        "roc_auc = roc_auc_score(y_test, y_pred)\n",
        "\n",
        "print(f\"ROC-AUC score: {roc_auc:.2f}\")"
      ],
      "metadata": {
        "id": "lbRB9RzimjHk",
        "colab": {
          "base_uri": "https://localhost:8080/"
        },
        "outputId": "6229aae6-c387-42b8-e24b-c405dc589bee"
      },
      "execution_count": null,
      "outputs": [
        {
          "output_type": "stream",
          "name": "stdout",
          "text": [
            "ROC-AUC score: 0.68\n"
          ]
        }
      ]
    },
    {
      "cell_type": "markdown",
      "source": [
        "Este modelo también tiene una accuracy relativamente alta, 0.866. También se nota una mejora en la Precisión, de todas las instancias que el modelo clasificó como positivas el 71.2% eran realmente positivas lo cual representa una mejora respecto al modelo de árbol de decisión.\n",
        "\n",
        "No obstante, las otra métricas dieron peores resultados que el primer modelo probado:\n",
        "\n",
        "- Recall: 0.331\n",
        "- F1 Score: 0.452\n",
        "- ROC-AUC score: 0.65\n",
        "\n",
        "El puntaje de  ROC-AUC se acerca todavía más a la probabilidad aleatoria (0,5) en vez de acercarse al puntajte perfecto de 1.\n",
        "El hecho de que algunos tipos de tráfico tengan más instancias que otros es lo que podría estar provocando el puntaje de F1 tan bajo. Sin embargo, todavía se elige mantener todos los tipos de tráfico en vez de eliminar los que tengan menores instancias ya que se los considera a todos relevantes.\n",
        "El recall mide que tan bien el modelo está identificando instancias positivas.En nuestro caso, Revenue=1 sería considerado una instacia positiva. Un recall de 0.331 indica que de todos los casos positivos, el modelo pudo predecir correctamente solo el 33.1% , 66.9% restante son casos positivos que el modelo clasificó como negativo.\n",
        "\n",
        "Teniendo en cuenta que estas métricas surgen de cálculos sobre la matriz de confusión se realiza un breve análisis sobre la misma.\n",
        "\n",
        "* True Positive (TP): 136. El cliente realizó una compra, Revenue=1, y el modelo lo predijo correctamente.\n",
        "* False Positive (FP): 55. El cliente no realizó una compra, Revenue=0, pero el modelo predijo erroneamente que sí.\n",
        "* True Negative (TN): 2000. El cliente no realizó una compra y el modelo lo predijo correctamente.\n",
        "* False Negative (FN): 275. El cliente realizó una compra pero el modelo predijo que no lo haría.\n",
        "\n",
        "A grandes rasgos el árbol de decisión obtuvo mejores resultados. 237 instancias de True Positive contra 136 predichas por el modelo de clasificaciónd de KNN. Sin embargo también tenía un número de False Positives más elevado, 165, lo cual significa que el modelo está clasificando incorrectamente como negativas a instancias positivas.\n",
        "\n",
        "Teniendo en cuentas estos resultados se descarta KNN como modelo de clasificación para la problemática que se busca resolver."
      ],
      "metadata": {
        "id": "aXE0Em8cmYtD"
      }
    }
  ]
}